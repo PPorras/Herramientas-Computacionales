{
 "cells": [
  {
   "cell_type": "markdown",
   "metadata": {},
   "source": [
    "### Índice\n",
    "\n",
    "* [1. ¿Por qué Python?](#1.-¿Por-qué-Python?)\n",
    "* [2. Programación con python](#2.-Programación-con-python)\n",
    "* [3. Módelo de ejecución de Python](#3.-Módelo-de-ejecución-de-Python)\n",
    "* [4. Hello world!](#4.-Hello-world!)\n",
    "* [5. Tipos en Python](#5.-Tipos-en-Python)\n",
    "    * [5.1 Variables](#5.1-Variables)\n",
    "    * [5.2 Convenciones de nombres](#5.2-Convenciones-de-nombres)\n",
    "    * [5.3 Operador de asignación](#5.3-Operador-de-asignación)\n",
    "    * [5.4 Declaraciones de Python](#5.4-Declaraciones-de-Python)\n",
    "    * [5.5 Comentarios en el código](#5.5-Comentarios-en-el-código)\n",
    "* [6. Cadenas (`strings`) en Python](#6.-Cadenas-(`strings`)-en-Python)\n",
    "    * [6.1. ¿Qué son las cadenas?](#6.1.-¿Qué-son-las-cadenas?)\n",
    "    * [6.2. Representación de las cadenas](#6.2.-Representación-de-las-cadenas)\n",
    "    * [6.3.¿Qué tipo es una cadena? ](#6.3.-¿Qué-tipo-es-una-cadena?)\n",
    "    * [6.4. ¿Qué puedo hacer con las cadenas?](#6.4.-¿Qué-puedo-hacer-con-las-cadenas?)\n",
    "    * [6.5. Formato de cadena](#6.5.-Formato-de-cadena)\n",
    "* [7. Números](#7.-Números)\n",
    "    * [7.1. Tipos de números](#7.1.-Tipos-de-números)\n",
    "        * [7.1.1. Enteros](#7.1.1.-Enteros)\n",
    "        * [7.1.2. Números de punto flotante](#7.1.2.-Números-de-punto-flotante)\n",
    "        * [7.1.3. Números complejos](#7.1.3.-Números-complejos)\n",
    "        * [7.1.4. Valores booleanos](#7.1.4.-Valores-booleanos)\n",
    "* [8. Aritmética de operadores](#8.-Aritmética-de-operadores)\n",
    "    * [8.1. Operaciones de enteros](#8.1.-Operaciones-de-enteros)\n",
    "    * [8.2. División de enteros de números negativos](#8.2.-División-de-enteros-de-números-negativos)\n",
    "    * [8.3. Floating Point Number Operators](#8.3.-Floating-Point-Number-Operators)\n",
    "    * [8.4. Operaciones de enteros y de punto flotante](#8.4.-Operaciones-de-enteros-y-de-punto-flotante)\n",
    "    * [8.5. Operación de números complejos](#8.5.-Operación-de-números-complejos)\n",
    "* [9. Operadores de Asignación](#9.-Operadores-de-Asignación)\n",
    "* [Valor `None`](#Valor-`None`)\n",
    "* [11. Operadores logicos](#11.-Operadores-logicos)\n",
    "* [17. Ejercicios en clase](#17.-Ejercicios-en-clase)\n",
    "* [18. Bibliografia](#18.-Bibliografia)"
   ]
  },
  {
   "cell_type": "markdown",
   "metadata": {},
   "source": [
    "# 1. ¿Por qué Python?"
   ]
  },
  {
   "cell_type": "markdown",
   "metadata": {},
   "source": [
    "Python es un lenguaje de programación de propósito general es similar a otros lenguajes de programación de los que quizás haya oído hablar, como C ++, JavaScript o C # de Microsoft y Java de Oracle.\n",
    "\n",
    "Como lenguaje de programación, ha ganado interés en los últimos años, particularmente en el mundo comercial, con muchas personas que desean aprender el lenguaje. Este mayor interés en Python está impulsado por varios factores diferentes:\n",
    "\n",
    "* Su flexibilidad y simplicidad hacen que sea fácil de aprender.\n",
    "* Su uso por la comunidad de Data Science, donde proporciona un lenguaje de programación más estándar que algunos rivales como R.\n",
    "* Su idoneidad como lenguaje de secuencias de comandos para quienes trabajan en el campo DevOps, donde proporciona un mayor nivel de abstracción que los lenguajes alternativos utilizados tradicionalmente.\n",
    "* Su capacidad para ejecutarse en (casi) cualquier sistema operativo, pero particularmente en los tres grandes sistemas operativos Windows, MacOS y Linux.\n",
    "\n",
    "* La disponibilidad de una amplia gama de bibliotecas (módulos) que se pueden utilizar para ampliar las características básicas del lenguaje. \n",
    "* ¡Es gratis!"
   ]
  },
  {
   "cell_type": "raw",
   "metadata": {},
   "source": [
    "Los atributos de un polinomio:\n",
    "\n",
    "* En grado\n",
    "* Coeficientes\n",
    "$p(x) = a_{4}x^4 + a_{3}x^3 + a_{2}x^2 + a_{1}x + a_{0} $\n",
    "\n",
    "Los métodos:\n",
    "\n",
    "* Multiplicación\n",
    "* Suma\n",
    "* Resta\n",
    "* Cociente\n"
   ]
  },
  {
   "cell_type": "markdown",
   "metadata": {},
   "source": [
    "##  2. Programación con python \n",
    "\n",
    "Hay varios paradigmas de programación diferentes que un lenguaje de programación puede permitir a los desarrolladores codificar, estos son:\n",
    "\n",
    "* **Programación procesal** en la que un programa se representa como una secuencia de instrucciones que le indican a la computadora lo que debe hacer explícitamente. Los procedimientos y / o funciones se utilizan para proporcionar estructura al programa; con estructuras de control como sentencias `if` y construcciones de bucle para gestionar qué pasos se ejecutan y cuántas veces. Los lenguajes que tipifican este enfoque incluyen C y Pascal.\n",
    "\n",
    "* **Lenguajes de programación declarativos**, como Prolog, que permiten a los desarrolladores describir cómo se debe resolver un problema, y el lenguaje / entorno determina cómo se debe implementar la solución. SQL (un lenguaje de consulta de base de datos) es uno de los lenguajes declarativos más comunes que es probable que encuentre.\n",
    "\n",
    "* **Programación orientada a objetos** que representan un sistema en términos de los objetos que forman ese sistema. Cada objeto puede contener sus propios datos (también conocidos como estado), así como definir el comportamiento que define lo que el objeto puede hacer. Un programa de computadora se forma a partir de un conjunto de estos objetos que cooperan juntos. Lenguajes como Java y C # tipifican el enfoque orientado a objetos.\n",
    "\n",
    "* **Programación funcional** descomponen un problema en un conjunto de funciones. Cada función es independiente de cualquier estado externo, operando solo en las entradas que recibieron para generar sus salidas. El lenguaje de programación Haskell es un ejemplo de lenguaje de programación funcional.\n",
    "\n",
    "Algunos lenguajes de programación se consideran lenguajes híbridos; es decir, permiten a los desarrolladores utilizar una combinación de enfoques de diferencia dentro del mismo programa. Python es un ejemplo de un lenguaje de programación híbrido, ya que le permite escribir código muy procedimental, usar objetos orientados a objetos y escribir programas funcionales."
   ]
  },
  {
   "cell_type": "markdown",
   "metadata": {},
   "source": [
    "## 3. Módelo de ejecución de Python \n",
    "\n",
    "\n",
    "Python no es un lenguaje precompilado en la forma en que algunos otros lenguajes que puede haber encontrado son (como C ++). En cambio, es lo que se conoce como lenguaje interpretado (aunque incluso esto no es del todo exacto). Un lenguaje interpretado es aquel que no requiere una fase de compilación separada para convertir el formato legible por humanos en algo que pueda ser ejecutado por una computadora. En cambio, la versión de texto sin formato se alimenta a otro programa (generalmente conocido como el intérprete) que luego ejecuta el programa por usted.\n",
    "\n",
    "Python en realidad usa un modelo intermedio en el sentido de que en realidad convierte el programa Python de texto plano en inglés en un formato de código de máquina 'pseudo' intermedio y es este formato intermedio el que se ejecuta. Esto se ilustra a continuación:"
   ]
  },
  {
   "cell_type": "markdown",
   "metadata": {},
   "source": [
    "![](../Images/Proceso.png)"
   ]
  },
  {
   "cell_type": "markdown",
   "metadata": {},
   "source": [
    "La forma en que el intérprete de Python procesa un programa de Python se divide en varios pasos. Los pasos que se muestran aquí son ilustrativos (y simplificados) pero la idea general es correcta.\n",
    "\n",
    "* Primero, el programa se verifica para asegurarse de que el Python sea válido. Este control se realiza para que el programa siga todas las reglas del lenguaje y que el entorno de Python comprenda cada uno de los comandos y operaciones, etc.\n",
    "\n",
    "* Luego traduce el texto plano, como comandos en inglés, a un formato intermedio más conciso que es más fácil de ejecutar en una computadora. Python puede almacenar esta versión intermedia en un archivo que lleva el nombre del archivo original pero con un '. extensión pyc 'en lugar de una extensión' .py '(la' c 'en la extensión indica que contiene la versión compilada del código).\n",
    "\n",
    "* El intérprete ejecuta la versión intermedia compilada."
   ]
  },
  {
   "cell_type": "markdown",
   "metadata": {},
   "source": [
    "# 4. Hello world!"
   ]
  },
  {
   "cell_type": "markdown",
   "metadata": {},
   "source": [
    "Escribamos nuestro programa; que pida nuestro nombre y nos regrese un saludo.\n",
    "\n",
    "El programa es:"
   ]
  },
  {
   "cell_type": "markdown",
   "metadata": {},
   "source": [
    "```python\n",
    "print('Hello, world')\n",
    "user_name = input('Enter your name: ')\n",
    "print('Hello ', user_name)\n",
    "```"
   ]
  },
  {
   "cell_type": "code",
   "execution_count": null,
   "metadata": {},
   "outputs": [],
   "source": [
    "print('Hola')"
   ]
  },
  {
   "cell_type": "code",
   "execution_count": null,
   "metadata": {},
   "outputs": [],
   "source": [
    "user_name = input('Ingresa tu nombre:')"
   ]
  },
  {
   "cell_type": "code",
   "execution_count": null,
   "metadata": {},
   "outputs": [],
   "source": [
    "print('Hello ', user_name)"
   ]
  },
  {
   "cell_type": "code",
   "execution_count": null,
   "metadata": {},
   "outputs": [],
   "source": [
    "print('Tu nombre es:', user_name)"
   ]
  },
  {
   "cell_type": "code",
   "execution_count": null,
   "metadata": {},
   "outputs": [],
   "source": [
    "print?"
   ]
  },
  {
   "cell_type": "code",
   "execution_count": null,
   "metadata": {},
   "outputs": [],
   "source": [
    "name = 'Pedro'"
   ]
  },
  {
   "cell_type": "code",
   "execution_count": null,
   "metadata": {},
   "outputs": [],
   "source": [
    "print('Hello, world!') \n",
    "# Aquí imprime la cadena 'Hello world!'\n",
    "user_name = input('Enter your name: ') \n",
    "# Se ingresa el nombre del usuario\n",
    "print('Hello ', user_name) \n",
    "# Imprime 'Hello' y luego el nombre del usuario "
   ]
  },
  {
   "cell_type": "markdown",
   "metadata": {},
   "source": [
    "* Escriba el segmento anterior de código en una celda y ejecute el programa\n",
    "* ¿Qué hace la función `user_name = input('Enter your name: ')`?"
   ]
  },
  {
   "cell_type": "markdown",
   "metadata": {},
   "source": [
    "Examinaremos cada una de las nuevas declaraciones por separado. \n",
    "\n",
    "* Ejecute la sentencia.\n",
    "\n",
    "```python\n",
    "user_name = input('Enter your name: ')\n",
    "```"
   ]
  },
  {
   "cell_type": "code",
   "execution_count": null,
   "metadata": {},
   "outputs": [],
   "source": [
    "user_name = input('Enter your name: ');\n",
    "print(user_name)"
   ]
  },
  {
   "cell_type": "code",
   "execution_count": null,
   "metadata": {},
   "outputs": [],
   "source": [
    "user_name = input('Enter your name: ')"
   ]
  },
  {
   "cell_type": "code",
   "execution_count": null,
   "metadata": {},
   "outputs": [],
   "source": [
    "print('Ingresa tu nombre: ')"
   ]
  },
  {
   "cell_type": "markdown",
   "metadata": {},
   "source": [
    "Esta declaración hace varias cosas. Primero ejecuta otra función llamada `input()`. A esta función se le pasa una cadena, que se conoce como argumento, para usar cuando solicita al usuario que ingrese.\n",
    "\n",
    "Esta función `input()`, nuevamente es una función incorporada que forma parte del lenguaje Python. En este caso, mostrará la cadena que proporcione como una solicitud al usuario y esperará hasta que el usuario escriba algo seguido de la tecla de retorno.\n",
    "\n",
    "Lo que escriba el usuario se devuelve como resultado de ejecutar la función `input()`. En este caso, ese resultado se almacena en la variable user_name."
   ]
  },
  {
   "cell_type": "markdown",
   "metadata": {},
   "source": [
    "Una *variable* es un área con nombre de la memoria de las computadoras que se puede usar para contener cosas (a menudo denominadas datos) como cadenas, números, booleanos como Verdadero / Falso, etc. En este caso, la variable `user_name` está actuando como una etiqueta para un área de memoria que contendrá la cadena ingresada por el usuario.\n",
    "\n",
    "Por lo tanto, la variable `user_name` nos permite acceder a esta área de memoria de manera fácil y conveniente.\n",
    "\n",
    "Por ejemplo, si queremos obtener el nombre ingresado por el usuario en otra instrucción, podemos hacerlo simplemente haciendo referencia a la variable `user_name`. De hecho, esto es exactamente lo que hacemos en la segunda declaración que agregamos a nuestro programa. Esto se muestra a continuación:\n",
    "\n",
    "```python\n",
    "print('Hello', user_name)\n",
    "```"
   ]
  },
  {
   "cell_type": "markdown",
   "metadata": {},
   "source": [
    "# 5. Tipos en Python\n",
    "\n",
    "## 5.1 Variables\n",
    "\n",
    "Se llama variable al valor que hace referencia en la memoria que puede variar durante la vida útil del programa.\n",
    "\n",
    "Por ejemplo, podemos modificar nuestro programa Hello World para pedirle al usuario el nombre de su mejor amigo e imprimir un mensaje de bienvenida a ese mejor amigo. Si queremos, podemos reutilizar la variable para contener el nombre de ese mejor amigo. Por ejemplo:\n",
    "\n",
    "```python\n",
    "print('Hello, world')\n",
    "name = input('Enter your name: ')\n",
    "print('Hello', name)\n",
    "name = input('What is the name of your best friend: ')\n",
    "print('Hello Best Friend', name)\n",
    "```\n",
    "\n",
    "* Ejecutar lo anterior en una celda"
   ]
  },
  {
   "cell_type": "code",
   "execution_count": 2,
   "metadata": {},
   "outputs": [
    {
     "name": "stdout",
     "output_type": "stream",
     "text": [
      "Hello, world\n",
      "Enter your name: Pedro\n",
      "Hello Pedro\n",
      "What is the name of your best friend: Paco\n",
      "Hello Best Friend Paco\n"
     ]
    }
   ],
   "source": [
    "print('Hello, world')\n",
    "name = input('Enter your name: ')\n",
    "print('Hello', name)\n",
    "name = input('What is the name of your best friend: ')\n",
    "print('Hello Best Friend', name)"
   ]
  },
  {
   "cell_type": "code",
   "execution_count": 3,
   "metadata": {},
   "outputs": [
    {
     "data": {
      "text/plain": [
       "str"
      ]
     },
     "execution_count": 3,
     "metadata": {},
     "output_type": "execute_result"
    }
   ],
   "source": [
    "type(name)"
   ]
  },
  {
   "cell_type": "code",
   "execution_count": 4,
   "metadata": {},
   "outputs": [
    {
     "name": "stdout",
     "output_type": "stream",
     "text": [
      "<class 'str'>\n"
     ]
    }
   ],
   "source": [
    "print(type(name))"
   ]
  },
  {
   "cell_type": "code",
   "execution_count": 5,
   "metadata": {},
   "outputs": [
    {
     "name": "stdout",
     "output_type": "stream",
     "text": [
      "<class 'str'>\n"
     ]
    }
   ],
   "source": [
    "type_of = type(name)\n",
    "print(type_of)"
   ]
  },
  {
   "cell_type": "markdown",
   "metadata": {},
   "source": [
    "En Python, el nombre de la variable no se limita a mantener una cadena como `'Juan'` o `'Daniela'`; También puede contener otros tipos de datos, como números o los valores Verdadero y Falso. Por ejemplo:\n",
    "\n",
    "```python\n",
    "my_variable = 'John' \n",
    "print(my_variable) \n",
    "my_variable = 42 \n",
    "print(my_variable) \n",
    "my_variable = True \n",
    "print(my_variable)\n",
    "```\n",
    "\n",
    "* ¿Cuál es el resultado del ejemplo anterior?"
   ]
  },
  {
   "cell_type": "code",
   "execution_count": 6,
   "metadata": {},
   "outputs": [
    {
     "name": "stdout",
     "output_type": "stream",
     "text": [
      "Sofía Chávez\n",
      "20\n",
      "True\n"
     ]
    }
   ],
   "source": [
    "my_variable = 'Sofía Chávez' \n",
    "print(my_variable) \n",
    "my_variable = 20 \n",
    "print(my_variable) \n",
    "my_variable = True \n",
    "print(my_variable)"
   ]
  },
  {
   "cell_type": "code",
   "execution_count": 7,
   "metadata": {},
   "outputs": [
    {
     "name": "stdout",
     "output_type": "stream",
     "text": [
      "Sofía Castro\n",
      "17\n",
      "False\n"
     ]
    }
   ],
   "source": [
    "my_variable = 'Sofía Castro' \n",
    "print(my_variable) \n",
    "my_variable = 17 \n",
    "print(my_variable) \n",
    "my_variable = False\n",
    "print(my_variable)"
   ]
  },
  {
   "cell_type": "code",
   "execution_count": 8,
   "metadata": {},
   "outputs": [
    {
     "data": {
      "text/plain": [
       "bool"
      ]
     },
     "execution_count": 8,
     "metadata": {},
     "output_type": "execute_result"
    }
   ],
   "source": [
    "example_to_variable = True\n",
    "type(example_to_variable)"
   ]
  },
  {
   "cell_type": "markdown",
   "metadata": {},
   "source": [
    "## 5.2 Convenciones de nombres \n",
    "\n",
    "\n",
    "Es posible que haya notado algo sobre algunos de los nombres de variables que hemos introducido anteriormente, como `user_name` y `my_variable`. Ambos nombres de variables están formados por un conjunto de caracteres con una barra inferior entre las 'palabras' en el nombre de la variable.\n",
    "\n",
    "Ambos nombres de variables resaltan una convención de nomenclatura muy utilizada en Python, que es que los nombres de variables deberían:\n",
    "\n",
    "* Todo debe de estar en minúsculas.\n",
    "* Los nombres deben de ser en general más descriptivo que simplemente usar `a` o `b` (aunque hay algunas excepciones, como el uso de las variables i y j en un ciclo `for` o `while`).\n",
    "* Cuando se usen palabras individuales estás deben de estar separadas por guiones bajos según sea necesario para mejorar legibilidad.\n",
    "\n",
    "Este último punto es muy importante ya que en Python (y en la mayoría de los lenguajes de programación) los espacios se tratan como separadores que se pueden usar para indicar dónde termina una cosa y comienza otra. Por lo tanto, no es posible definir un nombre de variable como:\n",
    "\n",
    "• `user name`\n",
    "\n",
    "Como Python trata el espacio como un separador, Python cree que está definiendo dos cosas, `user` y `name`.\n",
    "Cuando cree sus propias variables, debe tratar de nombrar y luego seguir el estilo aceptado de Python, por lo tanto, nombre como:\n",
    "\n",
    "\n",
    "* `my_name`, `your_name`, `user_name`, `account_name`\n",
    "* `count`, `total_number_of_users`, `percentage_passed`, `pass_ rate`\n",
    "* `where_we_live`, `house_number\n",
    "* `is_okay`, `is_correct`, `status_flag`"
   ]
  },
  {
   "cell_type": "code",
   "execution_count": 10,
   "metadata": {},
   "outputs": [],
   "source": [
    " number, string, boolean = 2, 'two', False"
   ]
  },
  {
   "cell_type": "code",
   "execution_count": 11,
   "metadata": {},
   "outputs": [],
   "source": [
    "number = 2\n",
    "string = 'two'\n",
    "boolean = False"
   ]
  },
  {
   "cell_type": "code",
   "execution_count": 12,
   "metadata": {},
   "outputs": [
    {
     "name": "stdout",
     "output_type": "stream",
     "text": [
      "False\n"
     ]
    }
   ],
   "source": [
    "print(boolean)"
   ]
  },
  {
   "cell_type": "markdown",
   "metadata": {},
   "source": [
    "## 5.3 Operador de asignación\n",
    "\n",
    "Un aspecto final de la declaración que se muestra a continuación aún no se ha considerado\n",
    "\n",
    "```python\n",
    "user_name = print('Hello', user_name)```\n",
    "\n",
    "¿Qué es exactamente este `=` entre la variable `user_name` y la función `input()`?\n",
    "\n",
    "Se llama *operador de asignación*. Se utiliza para asignar el valor devuelto por la función `input()` a la variable `user_name`. Es probablemente el operador más utilizado en Python. Por supuesto, no sólo se usa para asignar valores de funciones como se ilustra en los ejemplos anteriores. Por ejemplo, también lo usamos cuando almacenamos una cadena en una variable directamente:\n",
    "\n",
    "```python\n",
    "my_variable = \"Pedro\"```"
   ]
  },
  {
   "cell_type": "code",
   "execution_count": 13,
   "metadata": {},
   "outputs": [
    {
     "name": "stdout",
     "output_type": "stream",
     "text": [
      "Pedro\n"
     ]
    }
   ],
   "source": [
    "my_name = 'Pedro'\n",
    "print(my_name)"
   ]
  },
  {
   "cell_type": "markdown",
   "metadata": {},
   "source": [
    "## 5.4 Declaraciones de Python\n",
    "\n",
    "\n",
    "A lo largo de este noteboook, hemos utilizado la *declaración* para describir una parte de un programa de Python, por ejemplo, la siguiente línea de código es una declaración que imprime una cadena `'Hola'` y el valor contenido en `user_name`.\n",
    "```python\n",
    "print('Hola', user_name)\n",
    "```\n",
    "\n",
    "Entonces, ¿qué queremos decir con una declaración? En Python, una instrucción es una instrucción que el intérprete de Python puede ejecutar. Esta declaración puede estar formada por una serie de elementos, como el anterior, que incluye una llamada a una función y una asignación de un valor a una variable. En muchos casos, una declaración es una sola línea en su programa, pero también es posible que una declaración se extienda a varias líneas, especialmente si esto ayuda a la legibilidad o al diseño del código. Por ejemplo, la siguiente es una declaración única, pero se presenta en 6 líneas de código para que sea más fácil de leer:\n",
    "```python\n",
    "print('The total population for',city,\n",
    "      'was', \n",
    "      number_of_people_in_city, \n",
    "      'in',\n",
    "    year)\n",
    "```"
   ]
  },
  {
   "cell_type": "code",
   "execution_count": 14,
   "metadata": {},
   "outputs": [],
   "source": [
    "city, number_of_people_in_city, year = 'Toluca', 3002022, 2020"
   ]
  },
  {
   "cell_type": "code",
   "execution_count": 15,
   "metadata": {},
   "outputs": [
    {
     "name": "stdout",
     "output_type": "stream",
     "text": [
      "The total population for Toluca was 3002022 in 2020\n"
     ]
    }
   ],
   "source": [
    "print('The total population for',city,\n",
    "      'was', \n",
    "      number_of_people_in_city, \n",
    "      'in',\n",
    "    year)"
   ]
  },
  {
   "cell_type": "markdown",
   "metadata": {},
   "source": [
    "Además de las declaraciones también hay expresiones. Una expresión es esencialmente un cálculo que genera un valor, por ejemplo:\n",
    "\n",
    "```python\n",
    "4 + 5\n",
    "```"
   ]
  },
  {
   "cell_type": "code",
   "execution_count": 18,
   "metadata": {},
   "outputs": [
    {
     "data": {
      "text/plain": [
       "9"
      ]
     },
     "execution_count": 18,
     "metadata": {},
     "output_type": "execute_result"
    }
   ],
   "source": [
    "4 + 5"
   ]
  },
  {
   "cell_type": "markdown",
   "metadata": {},
   "source": [
    "## 5.5 Comentarios en el código\n",
    "\n",
    "Es una práctica común (aunque no universalmente) agregar comentarios al código para ayudar a cualquiera que lea el código a comprender qué hace el código, cuál es su intención, cualquier decisión de diseño que el programador tomó, etc.\n",
    "Los comentarios son secciones de un programa que el intérprete de Python ignora; no son código ejecutable.\n",
    "Un comentario se indica con el carácter '#' en Python. El intérprete ignorará todo lo que siga a ese carácter hasta el final de la línea, ya que se supondrá que es un comentario, por ejemplo:\n",
    "```python\n",
    "# Este es un comentario\n",
    "nombre = entrada ('Ingrese su nombre:')\n",
    "# Este es otro comentario\n",
    "print(nombre) # este es un comentario al final de la línea\n",
    "```\n",
    "\n",
    "En lo anterior, las dos líneas que comienzan con un `#` son comentarios, son solo para nuestros ojos humanos. Curiosamente, la línea que contiene la función `print()` también tiene un comentario, eso está bien, ya que el comando comienza con el`#` y se extiende hasta el final de la línea, cualquier cosa antes del carácter `#` no es parte del comentario."
   ]
  },
  {
   "cell_type": "code",
   "execution_count": null,
   "metadata": {},
   "outputs": [],
   "source": [
    "# Este es un comentario\n",
    "nombre = input('Ingrese su nombre:')\n",
    "# Este es otro comentario\n",
    "print(nombre) # este es un comentario al final de la línea"
   ]
  },
  {
   "cell_type": "markdown",
   "metadata": {},
   "source": [
    "# 6. Cadenas (`strings`) en Python \n",
    "\n",
    "En la sección anterior, usamos cadenas varias veces, tanto como indicaciones para el usuario y como resultado de la función `print()`. Incluso hicimos que el usuario escribiera su nombre y lo almacenara en una variable que podría usarse para acceder a este nombre en un momento posterior. En esta sección exploraremos qué es una cadena y cómo puede trabajar con ellas y manipularlas."
   ]
  },
  {
   "cell_type": "markdown",
   "metadata": {},
   "source": [
    "## 6.1. ¿Qué son las cadenas?\n",
    "\n",
    "Durante la descripción del programa *Hello World*, nos referimos a las cadenas de Python varias veces, pero ¿qué es una cadena?\n",
    "\n",
    "En Python, una cadena es una serie o secuencia de caracteres en orden. En esta definición, un *carácter* es cualquier cosa que pueda escribir en el teclado con solo presionar una tecla, como una letra `'a'`, `'b'`, `'c'` o un número `'1'`, `'2'`, `'3'` o un caracteres especiales como `'\\'`, `'['`, `'$'` etc. un espacio también es un carácter `' '`, aunque no tiene una representación visible.\n",
    "También debe tenerse en cuenta que las cadenas son inmutables. Inmutable significa que una vez que se ha creado una cadena, no se puede cambiar. Si intenta cambiar una cadena, de hecho creará una nueva cadena que contenga las modificaciones que haya realizado, de todos modos no afectará la cadena original. En su mayor parte, puede ignorar este hecho, pero significa que si intenta obtener una subcadena o dividir una cadena debe recordar almacenar el resultado; lo veremos más adelante en esta sección.\n",
    "Para definir el inicio y el final de una cadena, hemos utilizado el carácter de comillas simples ', por lo tanto, todas las siguientes son cadenas válidas:\n",
    "\n",
    "* `'Hello'`\n",
    "* `'Hello World'`\n",
    "* `'Hello Aura'`\n",
    "* `'To be or not to be that is the question!'`\n"
   ]
  },
  {
   "cell_type": "code",
   "execution_count": 25,
   "metadata": {},
   "outputs": [
    {
     "name": "stdout",
     "output_type": "stream",
     "text": [
      "La cadena es:  es del tipo  <class 'str'>\n"
     ]
    }
   ],
   "source": [
    "string = ''\n",
    "print('La cadena es:', string, 'es del tipo ', type(string))"
   ]
  },
  {
   "cell_type": "markdown",
   "metadata": {},
   "source": [
    "También podemos definir una cadena vacía que no tiene caracteres (se define como una comilla simple seguida inmediatamente por una segunda comilla simple sin espacio entre ellas). Esto se usa a menudo para inicializar o restablecer una variable que contiene una referencia a una cadena, por ejemplo\n",
    "\n",
    "```python\n",
    "some_string = '' \n",
    "```"
   ]
  },
  {
   "cell_type": "markdown",
   "metadata": {},
   "source": [
    "## 6.2. Representación de las cadenas\n",
    "\n",
    "Como se indicó anteriormente; hemos usado comillas simples para definir el inicio y el final de una cadena, sin embargo, en Python las comillas simples o dobles se pueden usar para definir una cadena, por lo tanto, los dos siguientes son válidos:\n",
    "\n",
    "* `'Hello World!'`\n",
    "* `\"Hello World!\"`"
   ]
  },
  {
   "cell_type": "markdown",
   "metadata": {},
   "source": [
    "En Python, estas formas son exactamente las mismas, aunque por convención usamos comillas simples. A menudo se hace referencia a este enfoque como más *Pytónico* (lo que implica que es más la convención utilizada por programadores experimentados de Python) pero el lenguaje no lo aplica.\n",
    "\n",
    "Sin embargo, debe tener en cuenta que no puede mezclar los dos estilos de cadenas de inicio y final, es decir, no puede comenzar una cadena con una comilla simple y terminar una cadena con una comilla doble, por lo tanto, los siguientes son ilegales en Python:\n",
    "\n",
    "* `Hello World'' # This is illegal` \n",
    "* `''Hello World' # So is this`"
   ]
  },
  {
   "cell_type": "code",
   "execution_count": 26,
   "metadata": {},
   "outputs": [
    {
     "name": "stdout",
     "output_type": "stream",
     "text": [
      "\"Hello World\"\n",
      "Pedro's\n",
      "Pedr0 '\n"
     ]
    }
   ],
   "source": [
    "print('\"Hello World\"')\n",
    "print(\"Pedro's\")\n",
    "print(\"Pedr0 '\")"
   ]
  },
  {
   "cell_type": "markdown",
   "metadata": {},
   "source": [
    "Sin embargo, la capacidad de usar `'` y `\"` es útil si su cadena necesita contener otro tipo de delimitadores de cadena. Esto se debe a que una comilla simple se puede incrustar en una cadena definida usando comillas dobles y viceversa, por lo tanto, podemos escribir lo siguiente:"
   ]
  },
  {
   "cell_type": "code",
   "execution_count": 27,
   "metadata": {},
   "outputs": [
    {
     "data": {
      "text/plain": [
       "'Hello'"
      ]
     },
     "execution_count": 27,
     "metadata": {},
     "output_type": "execute_result"
    }
   ],
   "source": [
    "'Hello'"
   ]
  },
  {
   "cell_type": "code",
   "execution_count": 28,
   "metadata": {},
   "outputs": [
    {
     "name": "stdout",
     "output_type": "stream",
     "text": [
      "It's the day\n",
      "She said \"hello\" to everyone\n"
     ]
    }
   ],
   "source": [
    "print(\"It's the day\")\n",
    "print('She said \"hello\" to everyone')"
   ]
  },
  {
   "cell_type": "markdown",
   "metadata": {},
   "source": [
    "Una tercera alternativa es el uso de comillas triples, que a primera vista pueden parecer un poco difíciles de manejar, pero permiten que una cadena admita cadenas de varias líneas, por ejemplo:"
   ]
  },
  {
   "cell_type": "code",
   "execution_count": 29,
   "metadata": {},
   "outputs": [],
   "source": [
    "hello = \"\"\"\n",
    "Hello \n",
    "    World\n",
    "\"\"\" "
   ]
  },
  {
   "cell_type": "code",
   "execution_count": 30,
   "metadata": {},
   "outputs": [
    {
     "name": "stdout",
     "output_type": "stream",
     "text": [
      "\n",
      "Hello \n",
      "    World\n",
      "\n"
     ]
    }
   ],
   "source": [
    "print(hello)"
   ]
  },
  {
   "cell_type": "code",
   "execution_count": 31,
   "metadata": {},
   "outputs": [],
   "source": [
    "hello = \"Hello World\""
   ]
  },
  {
   "cell_type": "code",
   "execution_count": 32,
   "metadata": {},
   "outputs": [
    {
     "name": "stdout",
     "output_type": "stream",
     "text": [
      "Hello World\n"
     ]
    }
   ],
   "source": [
    "print(hello)"
   ]
  },
  {
   "cell_type": "markdown",
   "metadata": {},
   "source": [
    "## 6.3. ¿Qué tipo es una cadena? \n",
    "\n",
    "A menudo se dice que Python no tiene tipo; pero esto no es estrictamente cierto, como se dijo en una sección anterior, que es un lenguaje de tipo dinámico con todos los datos que tienen un tipo asociado.\n",
    "\n",
    "El tipo de un elemento de datos (como una cadena) determina qué es legal hacer con los datos y cuál será el efecto de varias acciones. Por ejemplo, cuál es el efecto de usar un operador `'+'` dependerá de los tipos involucrados; si son números, entonces el operador más los sumará; sin embargo, si hay cadenas involucradas, las cadenas se concatenarán (combinarán), etc.\n",
    "\n",
    "Es posible averiguar qué tipo tiene una variable actualmente utilizando la función incorporada `type()`. Esta función toma un nombre de variable y devolverá el tipo de datos que contiene esa variable, por ejemplo:"
   ]
  },
  {
   "cell_type": "code",
   "execution_count": 33,
   "metadata": {},
   "outputs": [
    {
     "name": "stdout",
     "output_type": "stream",
     "text": [
      "<class 'str'>\n"
     ]
    }
   ],
   "source": [
    "my_variable = 'Bob' \n",
    "print(type(my_variable))"
   ]
  },
  {
   "cell_type": "markdown",
   "metadata": {},
   "source": [
    "Esta es una abreviatura para decir que lo que se contiene en my_variable es actualmente una clase (tipo) de cadena (en realidad, la cadena es una clase y Python admite ideas de la programación orientada a objetos, como las clases, que abordaremos más adelante en el curso).\n"
   ]
  },
  {
   "cell_type": "markdown",
   "metadata": {},
   "source": [
    "## 6.4. ¿Qué puedo hacer con las cadenas? \n",
    "\n",
    "En términos de Python, esto significa qué operaciones o funciones están disponibles o incorporadas que puede usar para trabajar con cadenas. La respuesta es que hay muchas. Algunos de estos se describen en esta sección."
   ]
  },
  {
   "cell_type": "markdown",
   "metadata": {},
   "source": [
    "### Concatenación de Cadenas\n",
    "\n",
    "Puede concatenar dos cadenas usando el operador `+` (un operador es una operación o comportamiento que se puede aplicar a los tipos involucrados). Es decir, puede tomar una cadena y agregarla a otra cadena para crear una nueva tercera cadena:"
   ]
  },
  {
   "cell_type": "code",
   "execution_count": 34,
   "metadata": {},
   "outputs": [
    {
     "name": "stdout",
     "output_type": "stream",
     "text": [
      "Dame dos numeros separados por comas:3,5\n"
     ]
    }
   ],
   "source": [
    "numbers = input('Dame dos numeros separados por comas:'  )"
   ]
  },
  {
   "cell_type": "code",
   "execution_count": 35,
   "metadata": {},
   "outputs": [
    {
     "name": "stdout",
     "output_type": "stream",
     "text": [
      "3,5\n"
     ]
    }
   ],
   "source": [
    "print(numbers)"
   ]
  },
  {
   "cell_type": "code",
   "execution_count": 38,
   "metadata": {},
   "outputs": [
    {
     "name": "stdout",
     "output_type": "stream",
     "text": [
      "Good day\n"
     ]
    }
   ],
   "source": [
    "string_1 = 'Good'\n",
    "string_2 = \" day\"\n",
    "string_3 = string_1 + string_2 \n",
    "print(string_3)"
   ]
  },
  {
   "cell_type": "code",
   "execution_count": 39,
   "metadata": {
    "scrolled": true
   },
   "outputs": [
    {
     "name": "stdout",
     "output_type": "stream",
     "text": [
      "Hello World\n"
     ]
    }
   ],
   "source": [
    "print('Hello ' + 'World')"
   ]
  },
  {
   "cell_type": "markdown",
   "metadata": {},
   "source": [
    "Observe que la forma en que se define la cadena no importa aquí, `string_1` usaba comillas simples pero `string_2` usaba comillas dobles; Sin embargo, ambas son solo cadenas."
   ]
  },
  {
   "cell_type": "markdown",
   "metadata": {},
   "source": [
    "### Longitud de una cadena\n",
    "\n",
    "Muchas veces es útil saber conocer el largo una cadena, por ejemplo, si está colocando una cadena en una interfaz de usuario, es posible que necesite saber qué cantidad de la cadena se mostrará dentro de un campo. Para averiguar la longitud de una cadena en Python, use la función `len()`, por ejemplo:"
   ]
  },
  {
   "cell_type": "code",
   "execution_count": 40,
   "metadata": {},
   "outputs": [
    {
     "name": "stdout",
     "output_type": "stream",
     "text": [
      "Good day\n"
     ]
    }
   ],
   "source": [
    "print(string_3)"
   ]
  },
  {
   "cell_type": "code",
   "execution_count": 41,
   "metadata": {},
   "outputs": [
    {
     "data": {
      "text/plain": [
       "8"
      ]
     },
     "execution_count": 41,
     "metadata": {},
     "output_type": "execute_result"
    }
   ],
   "source": [
    "len(string_3)"
   ]
  },
  {
   "cell_type": "code",
   "execution_count": 42,
   "metadata": {},
   "outputs": [
    {
     "name": "stdout",
     "output_type": "stream",
     "text": [
      "8\n"
     ]
    }
   ],
   "source": [
    "print(len(string_3))"
   ]
  },
  {
   "cell_type": "markdown",
   "metadata": {},
   "source": [
    "### Acceder a un caracter \n",
    "\n",
    "Como una cadena es una secuencia fija de letras, es posible usar corchetes y un índice (o posición) para recuperar un carácter específico de una cadena. Por ejemplo:\n"
   ]
  },
  {
   "cell_type": "code",
   "execution_count": 44,
   "metadata": {},
   "outputs": [],
   "source": [
    "my_string = 'Hello World' "
   ]
  },
  {
   "cell_type": "code",
   "execution_count": 45,
   "metadata": {},
   "outputs": [
    {
     "data": {
      "text/plain": [
       "11"
      ]
     },
     "execution_count": 45,
     "metadata": {},
     "output_type": "execute_result"
    }
   ],
   "source": [
    "len(my_string)"
   ]
  },
  {
   "cell_type": "code",
   "execution_count": 46,
   "metadata": {},
   "outputs": [
    {
     "data": {
      "text/plain": [
       "'Hello World'"
      ]
     },
     "execution_count": 46,
     "metadata": {},
     "output_type": "execute_result"
    }
   ],
   "source": [
    "my_string"
   ]
  },
  {
   "cell_type": "code",
   "execution_count": 63,
   "metadata": {},
   "outputs": [
    {
     "data": {
      "text/plain": [
       "'W'"
      ]
     },
     "execution_count": 63,
     "metadata": {},
     "output_type": "execute_result"
    }
   ],
   "source": [
    "my_string[6]"
   ]
  },
  {
   "cell_type": "code",
   "execution_count": 49,
   "metadata": {},
   "outputs": [
    {
     "data": {
      "text/plain": [
       "'d'"
      ]
     },
     "execution_count": 49,
     "metadata": {},
     "output_type": "execute_result"
    }
   ],
   "source": [
    "my_string[-1]"
   ]
  },
  {
   "cell_type": "code",
   "execution_count": 53,
   "metadata": {},
   "outputs": [
    {
     "data": {
      "text/plain": [
       "'r'"
      ]
     },
     "execution_count": 53,
     "metadata": {},
     "output_type": "execute_result"
    }
   ],
   "source": [
    "my_string[-3]"
   ]
  },
  {
   "cell_type": "code",
   "execution_count": 54,
   "metadata": {},
   "outputs": [
    {
     "data": {
      "text/plain": [
       "' World'"
      ]
     },
     "execution_count": 54,
     "metadata": {},
     "output_type": "execute_result"
    }
   ],
   "source": [
    "my_string[5:]"
   ]
  },
  {
   "cell_type": "code",
   "execution_count": 55,
   "metadata": {},
   "outputs": [
    {
     "data": {
      "text/plain": [
       "'Hello'"
      ]
     },
     "execution_count": 55,
     "metadata": {},
     "output_type": "execute_result"
    }
   ],
   "source": [
    "my_string[:5]"
   ]
  },
  {
   "cell_type": "code",
   "execution_count": 56,
   "metadata": {},
   "outputs": [
    {
     "data": {
      "text/plain": [
       "'ello'"
      ]
     },
     "execution_count": 56,
     "metadata": {},
     "output_type": "execute_result"
    }
   ],
   "source": [
    "my_string[1:5]"
   ]
  },
  {
   "cell_type": "code",
   "execution_count": 57,
   "metadata": {},
   "outputs": [
    {
     "name": "stdout",
     "output_type": "stream",
     "text": [
      "Hello\n"
     ]
    }
   ],
   "source": [
    "hello = my_string[:5]\n",
    "print(hello)"
   ]
  },
  {
   "cell_type": "markdown",
   "metadata": {},
   "source": [
    "Sin embargo, debe tener en cuenta que las cadenas están indexadas desde cero. Esto significa que el primer carácter está en la posición `0`, el segundo en la posición `1`, etc. Por lo tanto, indicar `[4]` indica que queremos obtener el quinto carácter en la cadena, que en este caso es la letra `'o'`. Esta forma de elementos de indexación es bastante común en los lenguajes de programación y se refiere a una indexación basada en cero."
   ]
  },
  {
   "cell_type": "markdown",
   "metadata": {},
   "source": [
    "### Acceder a un conjunto de caracteres\n",
    "\n",
    "También es posible obtener un subconjunto de la cadena original, a menudo denominado subcadena (de la cadena original). Esto puede hacerse nuevamente usando la notación de corchetes pero usando un `':'` para indicar los puntos de inicio y finalización de la subcadena. Si se omite una de las posiciones, se supone el inicio o el final de la cadena (dependiendo de la omisión), por ejemplo:"
   ]
  },
  {
   "cell_type": "code",
   "execution_count": 58,
   "metadata": {},
   "outputs": [
    {
     "name": "stdout",
     "output_type": "stream",
     "text": [
      "o\n",
      "ello\n",
      "Hello\n",
      "llo World\n"
     ]
    }
   ],
   "source": [
    "my_string = 'Hello World'\n",
    "print(my_string[4]) # characters at position 4 \n",
    "print(my_string[1:5]) # from position 1 to 5 \n",
    "print(my_string[:5]) # from start to position 5 \n",
    "print(my_string[2:]) # from position 2 to the end\n"
   ]
  },
  {
   "cell_type": "markdown",
   "metadata": {},
   "source": [
    "### Repetir cadenas\n",
    "\n",
    "También podemos usar el operador `*` con las cadenas. En el caso de las cadenas, esto significa repetir la cadena dada un cierto número de veces. Esto genera una nueva cadena que contiene la cadena original repetida n varias veces. Por ejemplo:"
   ]
  },
  {
   "cell_type": "markdown",
   "metadata": {},
   "source": [
    "Recordemos que podemos conacatenar cadenas"
   ]
  },
  {
   "cell_type": "code",
   "execution_count": 59,
   "metadata": {},
   "outputs": [
    {
     "data": {
      "text/plain": [
       "'Soraya Mancilla'"
      ]
     },
     "execution_count": 59,
     "metadata": {},
     "output_type": "execute_result"
    }
   ],
   "source": [
    "'Soraya' + ' ' + 'Mancilla'"
   ]
  },
  {
   "cell_type": "code",
   "execution_count": 60,
   "metadata": {},
   "outputs": [
    {
     "data": {
      "text/plain": [
       "'SorayaSorayaSorayaSorayaSoraya'"
      ]
     },
     "execution_count": 60,
     "metadata": {},
     "output_type": "execute_result"
    }
   ],
   "source": [
    "5*'Soraya'"
   ]
  },
  {
   "cell_type": "code",
   "execution_count": 61,
   "metadata": {},
   "outputs": [
    {
     "data": {
      "text/plain": [
       "'Hello World Hello World Hello World Hello World Hello World Hello World Hello World Hello World Hello World Hello World '"
      ]
     },
     "execution_count": 61,
     "metadata": {},
     "output_type": "execute_result"
    }
   ],
   "source": [
    "(my_string + \" \")*10"
   ]
  },
  {
   "cell_type": "code",
   "execution_count": 62,
   "metadata": {},
   "outputs": [
    {
     "name": "stdout",
     "output_type": "stream",
     "text": [
      "**********\n",
      "HiHiHiHiHiHiHiHiHiHi\n"
     ]
    }
   ],
   "source": [
    "print(10*'*') \n",
    "print(10*'Hi')"
   ]
  },
  {
   "cell_type": "markdown",
   "metadata": {},
   "source": [
    "### Descomposión de cadenas\n",
    "\n",
    "Un requisito muy común es la necesidad de dividir una cadena en varias cadenas separadas en función de un carácter específico, como un espacio o una coma.\n",
    "Esto se puede hacer con la función `split()`, que utiliza una cadena para identificar cómo dividir la cadena receptora. Por ejemplo:"
   ]
  },
  {
   "cell_type": "code",
   "execution_count": 64,
   "metadata": {},
   "outputs": [
    {
     "name": "stdout",
     "output_type": "stream",
     "text": [
      "Source string: The Good, The Bad, and the Ugly\n"
     ]
    }
   ],
   "source": [
    "title = 'The Good, The Bad, and the Ugly' \n",
    "print('Source string:', title)"
   ]
  },
  {
   "cell_type": "code",
   "execution_count": 65,
   "metadata": {},
   "outputs": [
    {
     "name": "stdout",
     "output_type": "stream",
     "text": [
      "Split using a space\n",
      "['The', 'Good,', 'The', 'Bad,', 'and', 'the', 'Ugly']\n"
     ]
    }
   ],
   "source": [
    "print('Split using a space') \n",
    "print(title.split(' '))"
   ]
  },
  {
   "cell_type": "code",
   "execution_count": 66,
   "metadata": {},
   "outputs": [
    {
     "name": "stdout",
     "output_type": "stream",
     "text": [
      "Split using a comma\n",
      "['The Good', ' The Bad', ' and the Ugly']\n"
     ]
    }
   ],
   "source": [
    "print('Split using a comma') \n",
    "print(title.split(','))"
   ]
  },
  {
   "cell_type": "code",
   "execution_count": 67,
   "metadata": {},
   "outputs": [
    {
     "name": "stdout",
     "output_type": "stream",
     "text": [
      "<class 'list'> ['The Good', ' The Bad', ' and the Ugly']\n"
     ]
    }
   ],
   "source": [
    "adjetives = title.split(',')\n",
    "print(type(adjetives), adjetives)"
   ]
  },
  {
   "cell_type": "markdown",
   "metadata": {},
   "source": [
    "### Lista"
   ]
  },
  {
   "cell_type": "markdown",
   "metadata": {},
   "source": [
    "Una lista es un tipo en Python que se define:\n",
    "```python\n",
    "lista = []\n",
    "```"
   ]
  },
  {
   "cell_type": "code",
   "execution_count": 68,
   "metadata": {},
   "outputs": [],
   "source": [
    "list_one = [2, 3, 4, 5, 6, 8, 9]"
   ]
  },
  {
   "cell_type": "code",
   "execution_count": 69,
   "metadata": {},
   "outputs": [
    {
     "data": {
      "text/plain": [
       "7"
      ]
     },
     "execution_count": 69,
     "metadata": {},
     "output_type": "execute_result"
    }
   ],
   "source": [
    "len(list_one)"
   ]
  },
  {
   "cell_type": "code",
   "execution_count": 70,
   "metadata": {},
   "outputs": [
    {
     "data": {
      "text/plain": [
       "5"
      ]
     },
     "execution_count": 70,
     "metadata": {},
     "output_type": "execute_result"
    }
   ],
   "source": [
    "list_one[3]"
   ]
  },
  {
   "cell_type": "code",
   "execution_count": 71,
   "metadata": {},
   "outputs": [
    {
     "data": {
      "text/plain": [
       "[3, 4, 5]"
      ]
     },
     "execution_count": 71,
     "metadata": {},
     "output_type": "execute_result"
    }
   ],
   "source": [
    "list_one[1:4]"
   ]
  },
  {
   "cell_type": "code",
   "execution_count": 72,
   "metadata": {},
   "outputs": [
    {
     "data": {
      "text/plain": [
       "[5, 6, 8, 9]"
      ]
     },
     "execution_count": 72,
     "metadata": {},
     "output_type": "execute_result"
    }
   ],
   "source": [
    "list_one[3:]"
   ]
  },
  {
   "cell_type": "code",
   "execution_count": 73,
   "metadata": {},
   "outputs": [
    {
     "data": {
      "text/plain": [
       "[2, 3, 4, 5]"
      ]
     },
     "execution_count": 73,
     "metadata": {},
     "output_type": "execute_result"
    }
   ],
   "source": [
    "list_one[:4]"
   ]
  },
  {
   "cell_type": "code",
   "execution_count": 74,
   "metadata": {},
   "outputs": [
    {
     "data": {
      "text/plain": [
       "9"
      ]
     },
     "execution_count": 74,
     "metadata": {},
     "output_type": "execute_result"
    }
   ],
   "source": [
    "list_one[-1]"
   ]
  },
  {
   "cell_type": "code",
   "execution_count": 75,
   "metadata": {},
   "outputs": [
    {
     "data": {
      "text/plain": [
       "int"
      ]
     },
     "execution_count": 75,
     "metadata": {},
     "output_type": "execute_result"
    }
   ],
   "source": [
    "type(list_one[3])"
   ]
  },
  {
   "cell_type": "code",
   "execution_count": 76,
   "metadata": {},
   "outputs": [
    {
     "name": "stdout",
     "output_type": "stream",
     "text": [
      "The Good, The Bad, and the Ugly\n",
      "['The Good', ' The Bad', ' and the Ugly']\n",
      "The Good\n",
      "<class 'str'>\n"
     ]
    }
   ],
   "source": [
    "print(title)\n",
    "print(adjetives)\n",
    "print(adjetives[0])\n",
    "print(type(adjetives[0]))"
   ]
  },
  {
   "cell_type": "code",
   "execution_count": 78,
   "metadata": {},
   "outputs": [
    {
     "name": "stdout",
     "output_type": "stream",
     "text": [
      "Dar dos numeros separados por un espacio3 4\n",
      "Los numeros ingresados son:  3  y  4\n"
     ]
    }
   ],
   "source": [
    "numbers = input('Dar dos numeros separados por un espacio')\n",
    "list_numbers =  numbers.split(' ')\n",
    "print('Los numeros ingresados son: ', list_numbers[0], \" y \",list_numbers[1])"
   ]
  },
  {
   "cell_type": "code",
   "execution_count": 80,
   "metadata": {},
   "outputs": [
    {
     "name": "stdout",
     "output_type": "stream",
     "text": [
      "Hello world!\n"
     ]
    }
   ],
   "source": [
    "print(\"Hello world!\")"
   ]
  },
  {
   "cell_type": "markdown",
   "metadata": {},
   "source": [
    "### Contando cadenas\n",
    "\n",
    "Es posible averiguar cuántas veces se repite una cadena en otra cadena. Esto se hace usando la operación `count()` por ejemplo"
   ]
  },
  {
   "cell_type": "code",
   "execution_count": 81,
   "metadata": {},
   "outputs": [
    {
     "name": "stdout",
     "output_type": "stream",
     "text": [
      "my_string.count(''): 2\n"
     ]
    }
   ],
   "source": [
    "my_string = 'Count, the number of  spaces nu'\n",
    "times_nu = my_string.count('nu')\n",
    "print(\"my_string.count(''):\", times_nu)"
   ]
  },
  {
   "cell_type": "code",
   "execution_count": 82,
   "metadata": {},
   "outputs": [
    {
     "name": "stdout",
     "output_type": "stream",
     "text": [
      "my_string.count(''): 2\n"
     ]
    }
   ],
   "source": [
    "my_string = 'Count, the number of  spaces nu'\n",
    "print(\"my_string.count(''):\", my_string.count('nu'))"
   ]
  },
  {
   "cell_type": "markdown",
   "metadata": {},
   "source": [
    "### Sustitución de cadenas\n",
    "\n",
    "Una cadena puede reemplazar una subcadena en otra cadena. Esto se hace usando el método `replace()` en una cadena. Por ejemplo:"
   ]
  },
  {
   "cell_type": "code",
   "execution_count": null,
   "metadata": {},
   "outputs": [],
   "source": [
    "welcome_message = 'Hello World!' \n",
    "print(welcome_message)\n",
    "print(welcome_message.replace(\"Hello\", \"Goodbye\"))"
   ]
  },
  {
   "cell_type": "code",
   "execution_count": null,
   "metadata": {},
   "outputs": [],
   "source": [
    "print('Hello World!'.replace(\"Hello\", \"Goodbye\"))"
   ]
  },
  {
   "cell_type": "markdown",
   "metadata": {},
   "source": [
    "### Encontrar subcadenas\n",
    "\n",
    "Puede averiguar si una cadena es una subcadena de otra cadena utilizando el método `find()`. Este método toma una segunda cadena como parámetro y verifica si esa cadena está en la cadena que recibe el método `find()`, por ejemplo:\n",
    "\n",
    "```python\n",
    "string.find(string_to_find)```"
   ]
  },
  {
   "cell_type": "markdown",
   "metadata": {},
   "source": [
    "El método devuelve -1 si la cadena no está presente. De lo contrario, devuelve un índice que indica el inicio de la subcadena. Por ejemplo:"
   ]
  },
  {
   "cell_type": "code",
   "execution_count": null,
   "metadata": {},
   "outputs": [],
   "source": [
    "\"Goodbye World!\".find(\"World\")"
   ]
  },
  {
   "cell_type": "code",
   "execution_count": null,
   "metadata": {},
   "outputs": [],
   "source": [
    "\"Goodbye World!\"[8]"
   ]
  },
  {
   "cell_type": "code",
   "execution_count": null,
   "metadata": {},
   "outputs": [],
   "source": [
    "print('Edward Alun Rawlings'.find('Alun'))"
   ]
  },
  {
   "cell_type": "code",
   "execution_count": null,
   "metadata": {},
   "outputs": [],
   "source": [
    "print('Edward John Rawlings'.find('Alun'))"
   ]
  },
  {
   "cell_type": "markdown",
   "metadata": {},
   "source": [
    "### Convertir otros tipos en cadenas \n",
    "\n",
    "Si intenta utilizar el operador de concatenación `+` con una cadena y algún otro tipo, como un número, obtendrá un error. Por ejemplo, si intenta lo siguiente:"
   ]
  },
  {
   "cell_type": "code",
   "execution_count": null,
   "metadata": {},
   "outputs": [],
   "source": [
    "msg = 'Hello Lloyd you are ' + 21 \n",
    "print(msg)"
   ]
  },
  {
   "cell_type": "markdown",
   "metadata": {},
   "source": [
    "Recibirá un mensaje de error que indica que solo puede concatenar cadenas con cadenas, no enteros con cadenas. Para concatenar un número como 21 con una cadena, debe convertirlo en una cadena. Esto se puede hacer usando la función `str()`. Este concurso de cualquier tipo en una representación de cadena de ese tipo. Por ejemplo:"
   ]
  },
  {
   "cell_type": "code",
   "execution_count": null,
   "metadata": {},
   "outputs": [],
   "source": [
    "type(str(21))"
   ]
  },
  {
   "cell_type": "code",
   "execution_count": null,
   "metadata": {},
   "outputs": [],
   "source": [
    "str(False)"
   ]
  },
  {
   "cell_type": "code",
   "execution_count": null,
   "metadata": {},
   "outputs": [],
   "source": [
    "print(type(str(False)))"
   ]
  },
  {
   "cell_type": "code",
   "execution_count": null,
   "metadata": {},
   "outputs": [],
   "source": [
    "msg = 'Hello Lloyd you are ' + str(21) \n",
    "print(msg)"
   ]
  },
  {
   "cell_type": "markdown",
   "metadata": {},
   "source": [
    "### Comparar cadenas\n",
    "\n",
    "Para comparar una cadena con otra, puede usar los operadores '==' igualdad y '! =' No es igual a. Estos compararán dos cadenas y devolverán Verdadero o Falso, indicando si las cadenas son iguales o no.\n",
    "Por ejemplo:"
   ]
  },
  {
   "cell_type": "code",
   "execution_count": null,
   "metadata": {},
   "outputs": [],
   "source": [
    "'James' != 'James'"
   ]
  },
  {
   "cell_type": "code",
   "execution_count": null,
   "metadata": {},
   "outputs": [],
   "source": [
    "print('James' == 'James') # prints True \n",
    "print('James' == 'John') # prints False \n",
    "print('James' != 'John') # prints True"
   ]
  },
  {
   "cell_type": "markdown",
   "metadata": {},
   "source": [
    "### Otras operaciones de cadena\n",
    "\n",
    "De hecho, hay muchas operaciones diferentes disponibles para cadenas, incluida la verificación de que una cadena comienza o termina con otra cadena, es decir, mayúsculas o minúsculas, etc. También es posible reemplazar parte de una cadena con otra cadena, convertir cadenas a mayúscula, minúscula o título, etc."
   ]
  },
  {
   "cell_type": "code",
   "execution_count": null,
   "metadata": {},
   "outputs": [],
   "source": [
    "some_string = 'Hello World'\n",
    "print('Testing a String')\n",
    "print('-' * 20)\n",
    "print('some_string', some_string) \n",
    "print(\"some_string.startswith('H')\", some_string.startswith('H')) \n",
    "print(\"some_string.startswith('h')\", some_string.startswith('h'))\n",
    "print(\"some_string.endswith('d')\", some_string.endswith('d')) \n",
    "print('some_string.istitle()', some_string.istitle()) \n",
    "print('some_string.isupper()', some_string.isupper()) \n",
    "print('some_string.islower()', some_string.islower()) \n",
    "print('some_string.isalpha()', some_string.isalpha())\n",
    "print('String conversions')\n",
    "print('-' * 20)\n",
    "print('some_string.upper()', some_string.upper())\n",
    "print('some_string.lower()', some_string.lower()) \n",
    "print('some_string.title()', some_string.title()) \n",
    "print('some_string.swapcase()', some_string.swapcase())\n",
    "print('String leading, trailing spaces', \" xyz \".strip())"
   ]
  },
  {
   "cell_type": "markdown",
   "metadata": {},
   "source": [
    "## 6.5. Formato de cadena "
   ]
  },
  {
   "cell_type": "markdown",
   "metadata": {},
   "source": [
    "Python proporciona un sofisticado sistema de formato para cadenas que puede ser útil para imprimir información o registrar información de un programa.\n",
    "\n",
    "El sistema de formato de cadenas utiliza una cadena especial conocida como cadena de formato que actúa como un patrón que define cómo se distribuirá la cadena final. Esta cadena de formato puede contener marcadores de posición que se reemplazarán con valores reales cuando se cree la cadena final. Se puede aplicar un conjunto de valores a la cadena de formato para llenar los marcadores de posición utilizando el método `format()`.\n",
    "\n",
    "El ejemplo más simple de una cadena de *formato* es uno que proporciona un marcador de posición único indicado por dos llaves (`{}`). Por ejemplo, la siguiente es una cadena de formato con el patrón 'Hola' seguido de un marcador de posición:\n"
   ]
  },
  {
   "cell_type": "code",
   "execution_count": null,
   "metadata": {},
   "outputs": [],
   "source": [
    "name = 'Pedro'\n",
    "number = 409076332"
   ]
  },
  {
   "cell_type": "code",
   "execution_count": null,
   "metadata": {},
   "outputs": [],
   "source": [
    "student = f'{name} tiene como numero de cuenta {number}'"
   ]
  },
  {
   "cell_type": "code",
   "execution_count": null,
   "metadata": {},
   "outputs": [],
   "source": [
    "print(student)"
   ]
  },
  {
   "cell_type": "code",
   "execution_count": null,
   "metadata": {},
   "outputs": [],
   "source": [
    "format_string = f'Hello {name}!'"
   ]
  },
  {
   "cell_type": "code",
   "execution_count": null,
   "metadata": {},
   "outputs": [],
   "source": [
    "print(format_string)"
   ]
  },
  {
   "cell_type": "markdown",
   "metadata": {},
   "source": [
    "Esto se puede usar con el método de cadena `format()` para proporcionar un valor (o completar) el marcador de posición, por ejemplo:"
   ]
  },
  {
   "cell_type": "code",
   "execution_count": null,
   "metadata": {},
   "outputs": [],
   "source": [
    "format_string = 'Hello {}!'"
   ]
  },
  {
   "cell_type": "code",
   "execution_count": null,
   "metadata": {},
   "outputs": [],
   "source": [
    "print(format_string.format('Phoebe'))"
   ]
  },
  {
   "cell_type": "markdown",
   "metadata": {},
   "source": [
    "Una cadena de formato puede tener cualquier número de marcadores de posición que se deben completar, por ejemplo, el siguiente ejemplo tiene dos marcadores de posición que se completan al proporcionar dos valores al método `format()`:"
   ]
  },
  {
   "cell_type": "code",
   "execution_count": null,
   "metadata": {},
   "outputs": [],
   "source": [
    "name = \"Adam\"\n",
    "age = 20\n",
    "print(\"{} is {} years old\".format(name, age))"
   ]
  },
  {
   "cell_type": "markdown",
   "metadata": {},
   "source": [
    "# 7. Números \n",
    "\n",
    "En esta sección exploraremos las diferentes formas en que los números pueden ser representados por los tipos incorporados en Python. También presentaremos el tipo booleano utilizado para representar `True` y `Falso`. Como parte de esta discusión, también veremos los operadores numéricos y de asignación en Python. Concluiremos presentando el valor especial conocido como `None`."
   ]
  },
  {
   "cell_type": "markdown",
   "metadata": {},
   "source": [
    "## 7.1. Tipos de números\n",
    "\n",
    "Hay tres tipos utilizados para representar números en Python; Estos son tipos enteros, números de punto flotante (los cuales veremos más adelante en el curos) y números complejos.\n"
   ]
  },
  {
   "cell_type": "markdown",
   "metadata": {},
   "source": [
    "### 7.1.1. Enteros\n",
    "Todos los valores enteros, sin importar cuán grande o pequeño estén representados por el tipo entero (o `int`) en Python 3. Por ejemplo: "
   ]
  },
  {
   "cell_type": "code",
   "execution_count": null,
   "metadata": {},
   "outputs": [],
   "source": [
    "x = 1\n",
    "print(x)\n",
    "print(type(x))"
   ]
  },
  {
   "cell_type": "code",
   "execution_count": null,
   "metadata": {},
   "outputs": [],
   "source": [
    "x = 100000000000000000000000000000000000000000000000000000000001 \n",
    "print(x)\n",
    "print(type(x))"
   ]
  },
  {
   "cell_type": "code",
   "execution_count": null,
   "metadata": {},
   "outputs": [],
   "source": [
    "x = 45_389\n",
    "print(x)\n",
    "print(type(x))"
   ]
  },
  {
   "cell_type": "markdown",
   "metadata": {},
   "source": [
    "Una manera más comoda es escribir a los enteros usando `_`, por ejemplo:"
   ]
  },
  {
   "cell_type": "code",
   "execution_count": null,
   "metadata": {},
   "outputs": [],
   "source": [
    "x = 200_783_032 \n",
    "print(x)\n",
    "print(type(x))"
   ]
  },
  {
   "cell_type": "markdown",
   "metadata": {},
   "source": [
    "### Convertir a `int`\n",
    "\n",
    "Es posible convertir otro tipo en un entero usando la función `int()`. Por ejemplo, si queremos convertir una cadena en un `int` (suponiendo que la cadena contenga un número entero), podemos hacerlo usando la función int (). Por ejemplo:"
   ]
  },
  {
   "cell_type": "code",
   "execution_count": null,
   "metadata": {},
   "outputs": [],
   "source": [
    "total = int('100')\n",
    "print(total, type(total))"
   ]
  },
  {
   "cell_type": "code",
   "execution_count": null,
   "metadata": {},
   "outputs": [],
   "source": [
    "aux = input('¿Cuál es tu edad ?:')\n",
    "age = int(aux)\n",
    "print(type(age))"
   ]
  },
  {
   "cell_type": "code",
   "execution_count": null,
   "metadata": {},
   "outputs": [],
   "source": [
    "age = int(input('¿Cuál es tu edad ?:'))\n",
    "print(type(age))\n",
    "print(\"Tu pareja debe de tener:\", (age + 18)/2) "
   ]
  },
  {
   "cell_type": "markdown",
   "metadata": {},
   "source": [
    "Esto puede ser útil cuando se usa con la función `input()`.\n",
    "La función `input()` siempre devuelve una cadena. Si queremos pedirle al usuario que ingrese un número entero, necesitaremos convertir la cadena devuelta por la función `input()` en un `int`. Podemos hacer esto envolviendo la llamada a la función `input()` en una llamada a la función `int()`, por ejemplo:\n"
   ]
  },
  {
   "cell_type": "code",
   "execution_count": null,
   "metadata": {},
   "outputs": [],
   "source": [
    "age = int(input('Please enter your age:')) \n",
    "print(type(age))\n",
    "print(age)"
   ]
  },
  {
   "cell_type": "markdown",
   "metadata": {},
   "source": [
    "La función `int()` también se puede usar para convertir un número de coma flotante en un int, por ejemplo:"
   ]
  },
  {
   "cell_type": "code",
   "execution_count": null,
   "metadata": {},
   "outputs": [],
   "source": [
    "print(type(1.0))\n",
    "\n",
    "i = int(2.0000001)\n",
    "\n",
    "print(i , \" \", type(i))"
   ]
  },
  {
   "cell_type": "markdown",
   "metadata": {},
   "source": [
    "###  7.1.2. Números de punto flotante\n",
    "\n",
    "Los números reales, o números de punto flotante, se representan en Python usando el formato de número de punto flotante binario de doble precisión IEEE 754; en su mayor parte no necesita saber esto, pero es algo que más adelante en el curso revidsaremos con detalle.\n",
    "\n",
    "El tipo utilizado para representar un número de coma flotante se llama `float`.\n",
    "\n",
    "Python representa números de punto flotante usando un punto decimal para separar toda la parte de la parte fraccionaria del número, por ejemplo:"
   ]
  },
  {
   "cell_type": "code",
   "execution_count": null,
   "metadata": {},
   "outputs": [],
   "source": [
    "exchange_rate = 1.83 \n",
    "print(exchange_rate) \n",
    "print(type(exchange_rate))"
   ]
  },
  {
   "cell_type": "markdown",
   "metadata": {},
   "source": [
    "### Convertir a números flotantes\n",
    "\n",
    "Al igual que con los enteros, es posible convertir otros tipos, como un `int` o una cadena, en un flotante. Esto se hace usando la función `float()`:"
   ]
  },
  {
   "cell_type": "code",
   "execution_count": null,
   "metadata": {},
   "outputs": [],
   "source": [
    "int_value = 1\n",
    "string_value = '1.5'\n",
    "float_value = float(int_value)\n",
    "print('int value as a float:', float_value) \n",
    "print(type(float_value))\n",
    "float_value = float(string_value) \n",
    "print('string value as a float:', float_value)\n",
    "print(type(float_value))"
   ]
  },
  {
   "cell_type": "markdown",
   "metadata": {},
   "source": [
    "### Convertir una cadena de entrada en un número de punto flotante \n",
    "\n",
    "Como hemos visto, la función `input()` devuelve una cadena; ¿Qué sucede si queremos que el usuario ingrese un número de punto flotante? Como hemos visto anteriormente, una cadena se puede convertir en un número de coma flotante usando la función `float()` y, por lo tanto, podemos usar este enfoque para convertir una entrada del usuario en un flotante:"
   ]
  },
  {
   "cell_type": "code",
   "execution_count": null,
   "metadata": {},
   "outputs": [],
   "source": [
    "exchange_rate = float(input(\"Please enter the exchange rate to use: \"))\n",
    "print(exchange_rate)\n",
    "print(type(exchange_rate))\n"
   ]
  },
  {
   "cell_type": "markdown",
   "metadata": {},
   "source": [
    "### 7.1.3. Números complejos\n",
    "\n",
    "Los números complejos son el tercer tipo de Python de tipo numérico incorporado. Un número complejo se define por una parte real y una parte imaginaria y tiene la forma $a + i b$ (donde $i^2 = - 1$ es la parte imaginaria, $a$ y $b$ son números reales):"
   ]
  },
  {
   "cell_type": "code",
   "execution_count": null,
   "metadata": {},
   "outputs": [],
   "source": [
    "z = 3.0 + 5.0j"
   ]
  },
  {
   "cell_type": "code",
   "execution_count": null,
   "metadata": {},
   "outputs": [],
   "source": [
    "print(z)"
   ]
  },
  {
   "cell_type": "code",
   "execution_count": null,
   "metadata": {},
   "outputs": [],
   "source": [
    "z.imag"
   ]
  },
  {
   "cell_type": "code",
   "execution_count": null,
   "metadata": {},
   "outputs": [],
   "source": [
    "z.real"
   ]
  },
  {
   "cell_type": "code",
   "execution_count": null,
   "metadata": {},
   "outputs": [],
   "source": [
    "c1 = 1j\n",
    "c2 = 2j\n",
    "print('c1:', c1, ', c2:', c2) \n",
    "print(type(c1))\n",
    "print(c1.real)\n",
    "print(c1.imag)"
   ]
  },
  {
   "cell_type": "markdown",
   "metadata": {},
   "source": [
    "### 7.1.4. Valores booleanos\n",
    "\n",
    "Python admite otro tipo llamado booleano; un tipo booleano solo puede ser uno verdadero o falso (y nada más). Tenga en cuenta que estos valores son `True`y `False`. El siguiente ejemplo ilustra el almacenamiento de los dos valores booleanos en una variable `all_ok`:"
   ]
  },
  {
   "cell_type": "code",
   "execution_count": null,
   "metadata": {},
   "outputs": [],
   "source": [
    "names = \"James\" != \"James\"\n",
    "print(type(names), names)"
   ]
  },
  {
   "cell_type": "code",
   "execution_count": null,
   "metadata": {},
   "outputs": [],
   "source": [
    "type(False)"
   ]
  },
  {
   "cell_type": "code",
   "execution_count": null,
   "metadata": {},
   "outputs": [],
   "source": [
    "all_ok = True \n",
    "print(all_ok) \n",
    "all_ok = False \n",
    "print(all_ok) \n",
    "print(type(all_ok))"
   ]
  },
  {
   "cell_type": "markdown",
   "metadata": {},
   "source": [
    "El tipo booleano es en realidad un subtipo de entero (pero solo con los valores Verdadero y Falso), por lo que es fácil de traducir entre los dos, utilizando las funciones `int()` y `bool()` para convertir de Booleanos a Enteros y viceversa. Por ejemplo:"
   ]
  },
  {
   "cell_type": "code",
   "execution_count": null,
   "metadata": {},
   "outputs": [],
   "source": [
    "print('Convertir enteros a boleanos, ', bool(1)) \n",
    "print('Convertir enteros a boleanos, ', bool(0)) \n",
    "print('Convertir boleanos a enteros, ', int(True) )\n",
    "print('Convertir boleanos a enteros, ', int(False))"
   ]
  },
  {
   "cell_type": "markdown",
   "metadata": {},
   "source": [
    "También puede convertir cadenas en booleanos siempre que las cadenas contengan `True` o `False` (y nada más). Por ejemplo:"
   ]
  },
  {
   "cell_type": "code",
   "execution_count": null,
   "metadata": {},
   "outputs": [],
   "source": [
    "status = bool(input('OK to proceed: ')) \n",
    "print(status)\n",
    "print(type(status))"
   ]
  },
  {
   "cell_type": "markdown",
   "metadata": {},
   "source": [
    "##  8. Aritmética de operadores\n",
    "\n",
    "Los operadores aritméticos se utilizan para realizar alguna operación matemática, como la suma, la resta, la multiplicación y la división, etc. En Python están representados por uno o dos caracteres. La siguiente tabla resume los operadores aritméticos de Python:\n",
    "\n",
    "| Operador  |    Descripción   |  Ejemplo |\n",
    "|-----------|------------------|----------|\n",
    "|     +     |    Suma          |  `1 + 2` |\n",
    "|     -     |    Resta         |  `3 - 2` |\n",
    "|     *     |    Multiplicación|  `3 * 4` |\n",
    "|     /     |    División      |  `12 / 3` |\n",
    "|    //     |    División Entera     |  `12 // 3` |\n",
    "|     %     |    Módulo              |  `13 % 3`  |\n",
    "|    **     |    potenica            |  `3 ** 3`  |\n"
   ]
  },
  {
   "cell_type": "code",
   "execution_count": null,
   "metadata": {},
   "outputs": [],
   "source": [
    "2 + 3 "
   ]
  },
  {
   "cell_type": "code",
   "execution_count": null,
   "metadata": {},
   "outputs": [],
   "source": [
    "2- 3"
   ]
  },
  {
   "cell_type": "code",
   "execution_count": null,
   "metadata": {},
   "outputs": [],
   "source": [
    "2*3"
   ]
  },
  {
   "cell_type": "code",
   "execution_count": null,
   "metadata": {},
   "outputs": [],
   "source": [
    "2/3"
   ]
  },
  {
   "cell_type": "code",
   "execution_count": null,
   "metadata": {},
   "outputs": [],
   "source": [
    "3//2"
   ]
  },
  {
   "cell_type": "code",
   "execution_count": null,
   "metadata": {},
   "outputs": [],
   "source": [
    "2%3"
   ]
  },
  {
   "cell_type": "code",
   "execution_count": null,
   "metadata": {},
   "outputs": [],
   "source": [
    "2**3"
   ]
  },
  {
   "cell_type": "code",
   "execution_count": null,
   "metadata": {},
   "outputs": [],
   "source": [
    "2**0.5"
   ]
  },
  {
   "cell_type": "markdown",
   "metadata": {},
   "source": [
    "### 8.1. Operaciones de enteros\n",
    "\n",
    "Dos enteros se pueden sumar usando `+`, por ejemplo `10 + 5`. A su vez, se pueden restar dos enteros `10 - 5` y multiplicar `10 * 4`. Operaciones como `+`, `-` y `*` entre enteros siempre producen resultados enteros.\n",
    "Esto se ilustra a continuación`"
   ]
  },
  {
   "cell_type": "code",
   "execution_count": null,
   "metadata": {},
   "outputs": [],
   "source": [
    "home = 10\n",
    "away = 15\n",
    "print(home + away) \n",
    "print(type(home + away))"
   ]
  },
  {
   "cell_type": "code",
   "execution_count": null,
   "metadata": {},
   "outputs": [],
   "source": [
    "print(home - away) \n",
    "print(type(home - away))"
   ]
  },
  {
   "cell_type": "code",
   "execution_count": null,
   "metadata": {},
   "outputs": [],
   "source": [
    "print(10 * 4) \n",
    "print(type(10*4))"
   ]
  },
  {
   "cell_type": "markdown",
   "metadata": {},
   "source": [
    "Sin embargo, puede notar que hemos perdido la división con respecto a los enteros, ¿por qué es esto? Esto se debe a que depende del operador de división que utilice en cuanto a cuál es realmente el tipo devuelto."
   ]
  },
  {
   "cell_type": "code",
   "execution_count": null,
   "metadata": {},
   "outputs": [],
   "source": [
    "print(100 / 20)\n",
    "print(type(100 / 20))"
   ]
  },
  {
   "cell_type": "code",
   "execution_count": null,
   "metadata": {},
   "outputs": [],
   "source": [
    "res1 = 3/2 \n",
    "print(res1)\n",
    "print(type(res1))"
   ]
  },
  {
   "cell_type": "code",
   "execution_count": null,
   "metadata": {},
   "outputs": [],
   "source": [
    "res1 = 3//2 \n",
    "print(res1)\n",
    "print(type(res1))"
   ]
  },
  {
   "cell_type": "markdown",
   "metadata": {},
   "source": [
    "Pero, ¿qué sucede si solo le interesa la parte restante de una división, el operador de división entera lo ha perdido? Bueno, en ese caso puedes usar la operación de módulo `%`. Este operador devuelve el resto de una operación de división: por ejemplo:"
   ]
  },
  {
   "cell_type": "code",
   "execution_count": null,
   "metadata": {},
   "outputs": [],
   "source": [
    "print('Modulus division 4 % 2:', 4 % 2)\n",
    "print('Modulus division 3 % 2:', 3 % 2)"
   ]
  },
  {
   "cell_type": "markdown",
   "metadata": {},
   "source": [
    "El último operador que veremos es el operador potencia que puede usarse para elevar un número entero por una potencia dada, por ejemplo 5 a la potencia de 3. El operador de potencia es `**`, esto se ilustra a continuación:"
   ]
  },
  {
   "cell_type": "code",
   "execution_count": null,
   "metadata": {},
   "outputs": [],
   "source": [
    "a = 5\n",
    "b = 3\n",
    "print(a ** b)"
   ]
  },
  {
   "cell_type": "code",
   "execution_count": null,
   "metadata": {},
   "outputs": [],
   "source": [
    "3*2**3 + 1"
   ]
  },
  {
   "cell_type": "markdown",
   "metadata": {},
   "source": [
    "### 8.2. División de enteros de números negativos\n",
    "También vale la pena explorar lo que sucede en la división entera y verdadera cuando hay números negativos involucrados. Por ejemplo, "
   ]
  },
  {
   "cell_type": "code",
   "execution_count": null,
   "metadata": {},
   "outputs": [],
   "source": [
    "print('True division 3/2:', 3 / 2) \n",
    "print('True division -3/2:', -3 / 2) \n",
    "print('Integer division 3//2:', 3 // 2)\n",
    "print('Integer division -3//2:', -3 // 2)"
   ]
  },
  {
   "cell_type": "markdown",
   "metadata": {},
   "source": [
    "Los primeros tres de estos podrían ser exactamente lo que espera dada nuestra discusión anterior; sin embargo, la salida del último ejemplo puede parecer un poco sorprendente, ¿por qué `3 // 2` genera `1` pero `−3 // 2` genera `−2`?\n",
    "\n",
    "La respuesta es que Python siempre redondea el resultado de la división de enteros hacia menos infinito (que es el número negativo más pequeño posible). Esto significa que extrae el resultado de la división entera al número más pequeño posible,`1` es menor que `1.5` pero `−2` es menor que `−1.5`."
   ]
  },
  {
   "cell_type": "markdown",
   "metadata": {},
   "source": [
    "### 8.3. Floating Point Number Operators\n",
    "\n",
    "También tenemos las operaciones múltiples, restar, sumar y dividir disponibles para números de punto flotante. Todos estos operadores producen nuevos números de punto flotante:"
   ]
  },
  {
   "cell_type": "code",
   "execution_count": null,
   "metadata": {},
   "outputs": [],
   "source": [
    "print(2.3 + 1.5) \n",
    "print(1.5 / 2.3) \n",
    "print(1.5 * 2.3) \n",
    "print(2.3 - 1.5) \n",
    "print(1.5 - 2.3)\n"
   ]
  },
  {
   "cell_type": "markdown",
   "metadata": {},
   "source": [
    "### 8.4. Operaciones de enteros y de punto flotante \n",
    "\n",
    "Cualquier operación que implique números enteros y números de punto flotante siempre producirá un número de punto flotante. Es decir, si uno de los lados de una operación como sumar, restar, dividir o múltiplo es un número de punto flotante, entonces el resultado será un número de punto flotante. Por ejemplo, dado el número entero $3$ y el número de punto flotante $0.1$, si los multiplicamos juntos obtenemos un número de punto flotante:"
   ]
  },
  {
   "cell_type": "code",
   "execution_count": null,
   "metadata": {},
   "outputs": [],
   "source": [
    "i = 3 * 0.1 \n",
    "print(i)"
   ]
  },
  {
   "cell_type": "markdown",
   "metadata": {},
   "source": [
    "### 8.5. Operación de números complejos\n",
    "\n",
    "Por supuesto, puede usar operadores como multiplicar, sumar, restar y dividir con números complejos. Por ejemplo:"
   ]
  },
  {
   "cell_type": "code",
   "execution_count": null,
   "metadata": {},
   "outputs": [],
   "source": [
    "c1 = 1j\n",
    "c2 = 2j\n",
    "c3 = c1 * c2\n",
    "print(c3)"
   ]
  },
  {
   "cell_type": "markdown",
   "metadata": {},
   "source": [
    "También puede convertir otro número o una cadena en un número complejo utilizando la función `complex()`. Por ejemplo:"
   ]
  },
  {
   "cell_type": "code",
   "execution_count": null,
   "metadata": {},
   "outputs": [],
   "source": [
    "complex(2.0)"
   ]
  },
  {
   "cell_type": "markdown",
   "metadata": {},
   "source": [
    "## 9. Operadores de Asignación \n",
    "\n",
    "Anteriormente  presentamos brevemente el operador de asignación `=` que se utilizó para asignar un valor a una variable. De hecho, hay varios operadores de asignación diferentes que podrían usarse con valores numérico.\n",
    "\n",
    "En realidad, estos operadores de asignación se denominan operadores compuestos, ya que combinan una operación numérica (como sumar) con el operador de asignación. Por ejemplo, el operador compuesto `+=` es una combinación del operador *suma* y el operador `= tal que"
   ]
  },
  {
   "cell_type": "code",
   "execution_count": null,
   "metadata": {},
   "outputs": [],
   "source": [
    "x = 0"
   ]
  },
  {
   "cell_type": "code",
   "execution_count": null,
   "metadata": {},
   "outputs": [],
   "source": [
    "x"
   ]
  },
  {
   "cell_type": "code",
   "execution_count": null,
   "metadata": {},
   "outputs": [],
   "source": [
    "x = x + 1"
   ]
  },
  {
   "cell_type": "code",
   "execution_count": null,
   "metadata": {},
   "outputs": [],
   "source": [
    "x"
   ]
  },
  {
   "cell_type": "code",
   "execution_count": null,
   "metadata": {},
   "outputs": [],
   "source": [
    "x = 0\n",
    "x += 5 # has the same behaviour as x = x + 1"
   ]
  },
  {
   "cell_type": "code",
   "execution_count": null,
   "metadata": {},
   "outputs": [],
   "source": [
    "x"
   ]
  },
  {
   "cell_type": "code",
   "execution_count": null,
   "metadata": {},
   "outputs": [],
   "source": [
    "y = 5"
   ]
  },
  {
   "cell_type": "code",
   "execution_count": null,
   "metadata": {},
   "outputs": [],
   "source": [
    "y"
   ]
  },
  {
   "cell_type": "code",
   "execution_count": null,
   "metadata": {},
   "outputs": [],
   "source": [
    "y += 2"
   ]
  },
  {
   "cell_type": "code",
   "execution_count": null,
   "metadata": {},
   "outputs": [],
   "source": [
    "y"
   ]
  },
  {
   "cell_type": "markdown",
   "metadata": {},
   "source": [
    "La siguiente tabla proporciona una lista de los operadores compuestos disponibles.\n",
    "\n",
    "\n",
    "|Operador|                      Descripción                  |  Ejemplo | Equivalente |\n",
    "|--------|---------------------------------------------------|----------|-------------|\n",
    "|  `+=`  |   Agregue el valor a la variable de la izquierda  | `x += 2` |`x =  x + 2` |\n",
    "|  `-=`  |   Resta el valor de la variable de la izquierda   | `x -= 2` |`x =  x - 2` |\n",
    "|  `*=`  |Multiplica la variable de la izquierda por el valor| `x *= 2` |`x =  x * 2` |\n",
    "|  `/=`  |Divide el valor variable por el valor de la derecha| `x /= 2` |`x =  x / 2` |\n",
    "| `//=`  |Use la división entera para dividir el valor de la variable por el valor de la derecha|  `x //= 2` |`x = x // 2` |\n",
    "|  `%=`  |Use el operador de módulo para aplicar el valor de la derecha a la variable|  `x %= 2` |`x =  x % 2` |\n",
    "| `**=`  |Apliqua el operador potencia para aumentar el valor de la variable por el valor suministrado|  `x **= 3` |`x =  x **2` |"
   ]
  },
  {
   "cell_type": "markdown",
   "metadata": {},
   "source": [
    "## 10. Valor `None` \n",
    "\n",
    "Python tiene un tipo especial, NoneType, con un solo valor, `None`.\n",
    "Esto se usa para representar valores nulos o nada.\n",
    "No es lo mismo que `False`, o una cadena vacía o $0$; Es un *no-valor*. Puede ser\n",
    "se usa cuando necesita crear una variable pero no tiene un valor inicial para ella. Por ejemplo:"
   ]
  },
  {
   "cell_type": "code",
   "execution_count": null,
   "metadata": {},
   "outputs": [],
   "source": [
    "winner = None"
   ]
  },
  {
   "cell_type": "markdown",
   "metadata": {},
   "source": [
    "Se puede probar la presencia de `None` usando `is` y `is not`, por ejemplo:"
   ]
  },
  {
   "cell_type": "code",
   "execution_count": null,
   "metadata": {},
   "outputs": [],
   "source": [
    "print(winner is None)"
   ]
  },
  {
   "cell_type": "code",
   "execution_count": null,
   "metadata": {},
   "outputs": [],
   "source": [
    "print(winner is not None)"
   ]
  },
  {
   "cell_type": "code",
   "execution_count": null,
   "metadata": {},
   "outputs": [],
   "source": []
  },
  {
   "cell_type": "markdown",
   "metadata": {},
   "source": [
    "Antes de explorar el condicional `if` necesitamos discutir *operadores de comparación*. Estos son operadores que devuelven valores booleanos. Son clave para los elementos condicionales de las declaraciones de flujo de control, tal como `if`.\n",
    "Un operador de comparación es un operador que realiza una prueba y devuelve un `True` o un `False`.\n",
    "\n",
    "Estos son operadores que usamos en la vida cotidiana todo el tiempo. Por ejemplo, ¿tengo suficiente dinero para comprar el almuerzo o es este zapato de mi talla, etc.\n",
    "\n",
    "En Python hay una gama de operadores de comparación representados típicamente por uno o dos caracteres. Estos son:\n",
    "\n",
    "|Operador|                      Descripción                  |  Ejemplo |\n",
    "|--------|---------------------------------------------------|----------|\n",
    "|  `==`  |Comprueba si dos valores son iguales| `x == 2` |\n",
    "|  `!=`  |Comprueba que dos valores no son iguales entre sí|`2 != 3` |\n",
    "|   `<`  |Comprueba si el valor de la izquierda es menor que el valor de la derecha|`2 <  3` |\n",
    "|   `>`  |Comprueba si el valor de la izquierda es mayor que el valor de la derecha|`3 >  2` |\n",
    "|  `<=`  |Comprueba si el valor de la izquierda es menor o igual que el valor de la derecha|`3 <=  4` |\n",
    "|  `>=`  |Comprueba si el valor de la izquierda es mayor o igual que el valor de la derecha|`5 >=  4` |"
   ]
  },
  {
   "cell_type": "markdown",
   "metadata": {},
   "source": [
    "## 11. Operadores logicos\n",
    "\n",
    "Además de los operadores de comparación, Python también tiene operadores lógicos.\n",
    "Los operadores lógicos se pueden usar para combinar expresiones booleanas juntas. Típicamente, se usan con operadores de comparación para crear condiciones más complejas. Nuevamente, los usamos todos los días, por ejemplo, podríamos considerar si\n",
    "puede permitirse un helado y si cenaremos pronto, etc. Hay tres operadores lógicos en Python que se enumeran a continuación:\n",
    "\n",
    "|Operador|                      Descripción                  |  Ejemplo |\n",
    "|--------|---------------------------------------------------|----------|\n",
    "|  `and` |Devuelve `True` si tanto el lado izquierdo como la derecha son verdaderos|`(3 < 4) and (5 > 3)` |\n",
    "|  `or`  |Devuelve `True` si la izquierda o la derecha es una cierta.              |`(3 < 4) or (3 > 4)` |\n",
    "|  `not` |Devuelve `True` si el valor que se prueba es Falso|`not 3 <  2` |"
   ]
  },
  {
   "cell_type": "code",
   "execution_count": null,
   "metadata": {},
   "outputs": [],
   "source": [
    "(not 3 < 4) and (5 > 3)"
   ]
  },
  {
   "cell_type": "markdown",
   "metadata": {},
   "source": [
    "# 12. Ejercicios en clase"
   ]
  },
  {
   "cell_type": "markdown",
   "metadata": {},
   "source": [
    "Escribir ciclos que:\n",
    "\n",
    "* \n"
   ]
  },
  {
   "cell_type": "markdown",
   "metadata": {},
   "source": [
    "# 13. Bibliografía"
   ]
  },
  {
   "cell_type": "markdown",
   "metadata": {},
   "source": [
    "* 1. Wei-Bing Lin, J., 2012. A Hands-On Introduction to Using Python in the Atmospheric and Oceanic Sciences. 1st ed. [ebook] lulu, pp.1 to 209. Available at: <https://www.lulu.com/commerce/index.php?fBuyContent=13110573&page=1&pageSize=4> [Accessed 19 May 2021].\n",
    "* 2. Langtangen, H., 2009. A Primer on Scientific Programming with Python. Leipzig, Germany: Springer, p.all.\n",
    "* 3. Heath, M., 2009. Scientific computing. 1st ed. Boston, Mass: McGraw Hill, p.all.\n",
    "* 4. Johansson, R., n.d. Numerical python. 2nd ed. New York: Springer, p.all.\n",
    "* 5. Hunt, J., 2019. A Begginers Guide to Python 3 Programming. 1st ed. Cham, Suiza: Springer, p.all."
   ]
  },
  {
   "cell_type": "code",
   "execution_count": null,
   "metadata": {},
   "outputs": [],
   "source": []
  }
 ],
 "metadata": {
  "kernelspec": {
   "display_name": "Python 3",
   "language": "python",
   "name": "python3"
  },
  "language_info": {
   "codemirror_mode": {
    "name": "ipython",
    "version": 3
   },
   "file_extension": ".py",
   "mimetype": "text/x-python",
   "name": "python",
   "nbconvert_exporter": "python",
   "pygments_lexer": "ipython3",
   "version": "3.6.5"
  }
 },
 "nbformat": 4,
 "nbformat_minor": 2
}

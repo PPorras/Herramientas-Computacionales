{
 "cells": [
  {
   "cell_type": "markdown",
   "metadata": {},
   "source": [
    "# Práctica 1\n",
    "## Herramientas computacionales\n",
    "#### Práctica hecha por: Abigail Mosso Mendoza"
   ]
  },
  {
   "cell_type": "markdown",
   "metadata": {},
   "source": [
    "### ***INDÍCE***"
   ]
  },
  {
   "cell_type": "markdown",
   "metadata": {},
   "source": [
    "* [1. Celdas](#1.-Celdas) \n",
    "   * [1.1 Tipo Código](#1.1-Tipo-Código)\n",
    "   * [1.2 Tipo Markdown](#1.2-Tipo-Markdown) \n",
    "   * [1.3 Tipo Raw](#1.3-Tipo-Raw) \n",
    "* [2. Estilos de Fuente](#2.-Esilo-de-Fuente) \n",
    "   * [2.1 Fuete Italica](#2.1-Fuente-Italica) \n",
    "   * [2.2 Fente Negrita](#2.2-Fuente-Negrita)\n",
    "   * [2.3 Fuente Italica y Negrita](#2.3-Fuente-Italica-y-Negrita)\n",
    "* [3. Enlaces](#3.-Enlaces) \n",
    "   * [3.1 Enlaces dentro del Notebook](#3.1-Enlaces-dentro-del-Notebook) \n",
    "   * [3.2 Enlaces a un Sitio Web](#3.2-Enlaces-a-un-Sitio-Web) \n",
    "   * [3.3 Enlaces a una imagen web](#3.3-Enlaces-a-una-imagen-web) \n",
    "* [4. Ecuaciones](#4.-Ecuaciones) \n",
    "   * [4.1 Ecuaciones tipo LaTex](#4.1-Ecuaciones-tipo-LaTex) \n",
    "* [5. Tablas](#5.-Tablas)\n",
    "-----"
   ]
  },
  {
   "cell_type": "markdown",
   "metadata": {},
   "source": [
    "# 1. Celdas"
   ]
  },
  {
   "cell_type": "markdown",
   "metadata": {},
   "source": [
    "Las celdas te permitirán poder realizar tú trabajo, ya que es en ellas donde podras plasmar lo que desees, desde un texto cualquiera, hasta ecuaciones, operaciones, tablas, enlaces, etc. Un ejemplo clarisimo de lo que es una celda, es esto mismo que estas leyendo, ya que todo el texto esta escrito en una celda; de tipo Markdown para ser especificos.  \n",
    "\n",
    "Para plasmar ciertas de las funciones mencionadas anteriormente, necesitaras del uso de los distintos tipos de celdas, los cuales se presentaran posteriormente.  "
   ]
  },
  {
   "cell_type": "markdown",
   "metadata": {},
   "source": [
    "## 1.1 Tipo Código"
   ]
  },
  {
   "cell_type": "markdown",
   "metadata": {},
   "source": [
    "Las celdas tipo código (code) son las que te permitirán programar, ya que cuentan con celdas de entrada y salida, esto se refiere a que en ellas tu podrás ingresar comandos, para enseguida ser ejecutados. \n",
    "\n",
    "Ejemplos: "
   ]
  },
  {
   "cell_type": "code",
   "execution_count": 6,
   "metadata": {},
   "outputs": [
    {
     "name": "stdout",
     "output_type": "stream",
     "text": [
      "Esto es una celda tipo code, en donde el comando que introduzco es 'x' texto y en la celda de salida lo transcribe tal cual.\n"
     ]
    }
   ],
   "source": [
    "print(\"Esto es una celda tipo code, en donde el comando que introduzco es 'x' texto y en la celda de salida lo transcribe tal cual.\")"
   ]
  },
  {
   "cell_type": "markdown",
   "metadata": {},
   "source": [
    "En este segundo ejemplo, la celda code ejecutará la suma indicada, arrojando el resultado correcto. "
   ]
  },
  {
   "cell_type": "code",
   "execution_count": 8,
   "metadata": {},
   "outputs": [
    {
     "data": {
      "text/plain": [
       "2060"
      ]
     },
     "execution_count": 8,
     "metadata": {},
     "output_type": "execute_result"
    }
   ],
   "source": [
    "16+10+2002+18+14 "
   ]
  },
  {
   "cell_type": "markdown",
   "metadata": {},
   "source": [
    "Estos son 2 pequeños y básicos ejemplos de los comandos que se pueden llevar a cabo en celda code.  "
   ]
  },
  {
   "cell_type": "markdown",
   "metadata": {},
   "source": [
    "## 1.2 Tipo Markdown "
   ]
  },
  {
   "cell_type": "markdown",
   "metadata": {},
   "source": [
    "La celda Markdown es muy usada para enriqucer la información que presentas, a base de ella es que la mayor parte de este trabajo esta siendo presentado. En ella puedes escribir con diferentes estilos de fuente, ingresar ecuaciones, enlaces, indices funcionales, tiítulos, étc.   "
   ]
  },
  {
   "cell_type": "markdown",
   "metadata": {},
   "source": [
    "## 1.3 Tipo Raw "
   ]
  },
  {
   "cell_type": "markdown",
   "metadata": {},
   "source": [
    "En sí esta celda es poco usada en comparacióm con las dos anteriores, ya que esta solo se encarga de retener lo que escribes en ella, sea lo que sea que escribas, al texto lo mantendra tal cual, no ejecuta ningun comando ni tiene la posibiladad de crear ningún estilo de fuente distinta.\n",
    "\n",
    "Ejemplos:"
   ]
  },
  {
   "cell_type": "raw",
   "metadata": {},
   "source": [
    "print(\"Hola mundo\")"
   ]
  },
  {
   "cell_type": "raw",
   "metadata": {},
   "source": [
    "16+10+2002+18+14"
   ]
  },
  {
   "cell_type": "raw",
   "metadata": {},
   "source": [
    "**Con estos asteriscos la letra deberia estar en negrita, pero por estar en celda Raw no lo esta)**"
   ]
  },
  {
   "cell_type": "markdown",
   "metadata": {},
   "source": [
    "# 2. Estilos de Fuente"
   ]
  },
  {
   "cell_type": "markdown",
   "metadata": {},
   "source": [
    "Son los diferentos estilos de letra que Jupyter puede ofrecer a los diversos trabajos que aquí se realizan. Para poder hacer uso de dichos estilos se requiere conocer los signos que los hacen funcionales. "
   ]
  },
  {
   "cell_type": "markdown",
   "metadata": {},
   "source": [
    "## 2.1 Fuente Italica"
   ]
  },
  {
   "cell_type": "markdown",
   "metadata": {},
   "source": [
    "*La fuente Italica también es conocida como letra cursiva, para poder aplicarla es necesario hacer uso de un solo asterisco (*) *tanto al inicio como al final del texto o palabra en donde se requiera la fuente italica.* \n",
    "\n",
    "El anterior parráfo fue escrito usando la letra cursiva, en cambio para este segundo la letra ya esta normal.\n",
    "\n",
    "Nota: El asterico al inicio debe estar pegado a la palabra o letra con que se desee empezar la fuente, en caso de tener un espacio entre el asterisco y la primera letra, no funcionará. Esta misma regla aplica para las otras fuentes. "
   ]
  },
  {
   "cell_type": "markdown",
   "metadata": {},
   "source": [
    "## 2.2 Fuente Negrita "
   ]
  },
  {
   "cell_type": "markdown",
   "metadata": {},
   "source": [
    "**Para hacer la letra negrita, ahora se utilizarán dos asteriscos pegados al inicio de la letra inicial del texto y otros dos astericos pegados a la letra final.**             (Letra normal --- **Letra negrita**)"
   ]
  },
  {
   "cell_type": "markdown",
   "metadata": {},
   "source": [
    "## 2.3 Fuenta Italica y Negrita "
   ]
  },
  {
   "cell_type": "markdown",
   "metadata": {},
   "source": [
    "***Para este caso se utilizan 3 asteriscos al inicio y al final, la regla sigue siendo la misma que en las anteriores fuentes.***"
   ]
  },
  {
   "cell_type": "markdown",
   "metadata": {},
   "source": [
    "# 3. Enlaces"
   ]
  },
  {
   "cell_type": "markdown",
   "metadata": {},
   "source": [
    "Meter enlaces para redireccionarte a alguna pagina web es posible en las celdas Markdown, los enlaces pueden ser para una imagen web, alguna página virtual o incluso para indagar más sobre la plataforma de Jupyter Notebook."
   ]
  },
  {
   "cell_type": "markdown",
   "metadata": {},
   "source": [
    "## 3.1 Enlaces dentro del Notebook "
   ]
  },
  {
   "cell_type": "markdown",
   "metadata": {},
   "source": [
    "Los enlaces dentro del notebook te permiten redireccionarte hacia links exclusivos de la plataforma Jupyter, tal es el caso del siguiente link:\n",
    "\n",
    "[JupyterConOnline](https://jupytercon.com/) "
   ]
  },
  {
   "cell_type": "markdown",
   "metadata": {},
   "source": [
    "## 3.2 Enlaces a un Sitio Web"
   ]
  },
  {
   "cell_type": "markdown",
   "metadata": {},
   "source": [
    "Para llegar a cierta página virtual lo que se necesita es del uso de 2 corchetes en donde adentro de estos, escribirás el nombre que se desee para que la gente pueda entrar al enlace de forma inmediata (por lo general se usa el nombre de la página del respectivo link) y enseguida de estos dos corchetes con el respectivo título asignado, se abrirán parentesis, para insertar en link, y listo, estarás creando un enlace a un Sitio Web. \n",
    "\n",
    "[Escuela Nacional de Ciencias de la Tierra](http://www.encit.unam.mx/)\n"
   ]
  },
  {
   "cell_type": "markdown",
   "metadata": {},
   "source": [
    "## 3.3 Enlaces a una imagen Web "
   ]
  },
  {
   "cell_type": "markdown",
   "metadata": {},
   "source": [
    "Insertar un enlace para una imagen Web es muy similar a insertar un enlace para algun Sitio Web, la unica diferencia radica en que al inicio de los corchetes añadiras un signo de exclamación (cerrando), enseguida un espacio y a continuación la misma nomenclatura ya vista anteriormente. Esto te permitira presentar las imágenes sin tener que descargarlas.   \n",
    "![Espacio](http://www.encit.unam.mx/sites/default/files/2020-09/foto_acerca.jpg)\n",
    "![Naturaleza geométrica](http://www.encit.unam.mx/sites/default/files/2020-09/foto_portada.jpg)"
   ]
  },
  {
   "cell_type": "markdown",
   "metadata": {},
   "source": [
    "# 4. Ecuaciones "
   ]
  },
  {
   "cell_type": "markdown",
   "metadata": {},
   "source": [
    "Como se menciono desde el inicio, las ecuaciones pueden aplicarse en las celdas Markdown, por mencionar algunas de la variedad de ecuaciones que se pueden utilizar en Jupyter, estan las Raíces cuadradas, funciones trigonométricas, logaritmos, sumatorio y producto, integrales, límites, entre otras... "
   ]
  },
  {
   "cell_type": "markdown",
   "metadata": {},
   "source": [
    "## 4.1 Ecuaciones tipo LaTex"
   ]
  },
  {
   "cell_type": "markdown",
   "metadata": {},
   "source": [
    "Para escribir ecuaciones se necesitan conocer distintos comandos para que al meterlos a la celda, ésta pueda ejecutarlos adecuadamente. Los siguientes ejemplos son algunos de las ecuaciones que se pueden utilizar. "
   ]
  },
  {
   "cell_type": "markdown",
   "metadata": {},
   "source": [
    " $\\displaystyle \\sum_{k=1}^{n} k = \\dfrac{n(n+1)}{2}$."
   ]
  },
  {
   "cell_type": "markdown",
   "metadata": {},
   "source": [
    "\\begin{equation}\n",
    "e^{i\\pi} + 1 = 0\n",
    "\\end{equation}"
   ]
  },
  {
   "cell_type": "markdown",
   "metadata": {},
   "source": [
    "$f(x)=y$"
   ]
  },
  {
   "cell_type": "markdown",
   "metadata": {},
   "source": [
    "# 5. Tablas "
   ]
  },
  {
   "cell_type": "markdown",
   "metadata": {},
   "source": [
    "Las celdas Markdown también permiten realizar tablas en donde las lineas horizontales que separan las filas estan representadas por el signo de menos (---) y las lineas verticales que separan las columnas estan representadas por el siguiente símbolo |\n",
    "\n",
    "Ejemplo:"
   ]
  },
  {
   "cell_type": "markdown",
   "metadata": {},
   "source": [
    "\n",
    "Hola|Hola|Hola|Hola\n",
    "-|-|-|-\n",
    "11|12|13|14\n",
    "14|25|3|7\n",
    "29|28|26|18\n",
    "\n",
    "\n"
   ]
  }
 ],
 "metadata": {
  "kernelspec": {
   "display_name": "Python 3",
   "language": "python",
   "name": "python3"
  },
  "language_info": {
   "codemirror_mode": {
    "name": "ipython",
    "version": 3
   },
   "file_extension": ".py",
   "mimetype": "text/x-python",
   "name": "python",
   "nbconvert_exporter": "python",
   "pygments_lexer": "ipython3",
   "version": "3.8.3"
  }
 },
 "nbformat": 4,
 "nbformat_minor": 4
}

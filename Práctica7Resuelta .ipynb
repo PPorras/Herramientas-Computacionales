{
 "cells": [
  {
   "cell_type": "markdown",
   "metadata": {},
   "source": [
    "# Práctica 7\n",
    "## Herramientas Computacionales\n",
    "### Autores\n",
    "* Soto Hernández Derek Anibal        \n",
    "\n",
    "* Islas Villamar Fernando Jesus    "
   ]
  },
  {
   "cell_type": "markdown",
   "metadata": {},
   "source": [
    "## Parte-Python"
   ]
  },
  {
   "cell_type": "markdown",
   "metadata": {},
   "source": [
    "El medicamento administrado a un paciente produce una concentración en la corriente sanguínea dada por: **$$c(t) = Ate^{−t/3}$$** miligramos por mililitros, t horas después de inyectarse A unidades, la máxima concentración segura es de 1mg/ml."
   ]
  },
  {
   "cell_type": "markdown",
   "metadata": {},
   "source": [
    "### Actividad 1\n",
    "\n",
    "* ***¿Qué dosis deberá inyectársele al paciente para alcanzar la máxima concentración segura y cuándo se alcanza esta concentración?***\n",
    "\n",
    "Hints: \n",
    "\n",
    "* Deriva la función e iguale a cero para encontrar un máximo, y use el método de Newton para encontrar la raíz de la función que le queda al igualar a cero. \n",
    "\n",
    "* Utilce anterior para determinar la constante $A$."
   ]
  },
  {
   "cell_type": "markdown",
   "metadata": {},
   "source": [
    "Tenemos que la concentración del medicamento esta dada por la función:\n",
    "\n",
    "**$$c(t) = Ate^{−t/3}$$**"
   ]
  },
  {
   "cell_type": "markdown",
   "metadata": {},
   "source": [
    "Al derivarla obtenemos la función: \n",
    "\n",
    "**$$c'(t) = u \\cdot v$$**\n",
    "\n",
    "**$$u = At$$**      \n",
    "\n",
    "**$$v = e^{-t/3}$$**\n",
    "  \n",
    "**$$c'(t) = {-1/3}Ate^{-t/3}+Ae^{-t/3}$$**"
   ]
  },
  {
   "cell_type": "markdown",
   "metadata": {},
   "source": [
    "Podemos observar que, el punto en t donde la función se hace 0 es t=3\n",
    "\n",
    "**$$c'(t) = {-1/3}Ate^{-t/3}+Ae^{-t/3} = 0 $$**\n",
    "\n",
    "Encontramos su factor común:\n",
    "**$$Ae^{-t/3} \\cdot ({-1/3}t + 1) = 0$$**\n",
    "\n",
    "**$${-1/3}t + 1 = 0$$**\n",
    "\n",
    "**$$t = -1(-3) = 3$$** "
   ]
  },
  {
   "cell_type": "markdown",
   "metadata": {},
   "source": [
    "En esta situación tomamos A como una constante \"n\"."
   ]
  },
  {
   "cell_type": "markdown",
   "metadata": {},
   "source": [
    "Asi tenemos que la f de t del método de newton para obtener el tiempo en el que se alcanza la máxima concentración es la derivada de la función original ya que, igualada a 0, y, utilizado su criterio, encontramos el máximo de t(3) de forma analítica:\n",
    "\n",
    "**$$f(t) = c'(t) = {-1/3}Ate^{-t/3}+Ae^{-t/3}$$**\n",
    "\n",
    "**$$f'(t) = c''(t)= {1/9}Ate^{-t/3}{-2/3}Ae^{-t/3}$$**\n"
   ]
  },
  {
   "cell_type": "code",
   "execution_count": 1,
   "metadata": {},
   "outputs": [],
   "source": [
    "import numpy as np\n",
    "import matplotlib.pyplot as plt"
   ]
  },
  {
   "cell_type": "code",
   "execution_count": 46,
   "metadata": {},
   "outputs": [],
   "source": [
    "def Newton_Met(f, t, dfdt, epsilon= 2.0E-8, N= 100):\n",
    "    \n",
    "    n=0\n",
    "    \n",
    "    while abs(f(t))> epsilon and n<=N:\n",
    "        t= t-f(t)/dfdt(t)\n",
    "        n += 1.0\n",
    "        \n",
    "    return t, f(t), n"
   ]
  },
  {
   "cell_type": "code",
   "execution_count": 47,
   "metadata": {},
   "outputs": [],
   "source": [
    "f = lambda t : ((-1/3)*(3*t)*np.e**(-t/3))+(3*np.e**(-t/3))\n",
    "df= lambda t : ((1/9)*3*t*np.e**(-t/3))+((-2/3)*3*np.e**(-t/3))"
   ]
  },
  {
   "cell_type": "code",
   "execution_count": 48,
   "metadata": {},
   "outputs": [],
   "source": [
    "seed= 2\n",
    "\n",
    "out= Newton_Met(f, seed, df)"
   ]
  },
  {
   "cell_type": "code",
   "execution_count": 49,
   "metadata": {},
   "outputs": [
    {
     "data": {
      "text/plain": [
       "(2.999999994999021, 1.8397574574890996e-09, 4.0)"
      ]
     },
     "execution_count": 49,
     "metadata": {},
     "output_type": "execute_result"
    }
   ],
   "source": [
    "out"
   ]
  },
  {
   "cell_type": "markdown",
   "metadata": {},
   "source": [
    "Para obtener el valor de la dosis en dicho tiempo y la concetración máxima se realizan los pasos\n",
    "\n",
    "1.- Igualamos la ecuación original a 1 ya que es la que da dicho resultado.\n",
    "**$$c(t) = Ate^{-t/3} = 1$$**\n",
    "\n",
    "2.- Despejamos considerando el valor de t = 3.\n",
    "**$$c(t) = 3Ae^{-t/3}-1 = 0$$**\n",
    "\n",
    "3.- Como ahora la única incognit es A la ecuación será en función de ella.\n",
    "**$$c(A) = 3Ae^{-1}-1$$**\n",
    "\n",
    "4.- Realizamos la derivada.\n",
    "**$$c'(A) = 3/e$$** "
   ]
  },
  {
   "cell_type": "code",
   "execution_count": 58,
   "metadata": {},
   "outputs": [],
   "source": [
    "def Newton_Met(f, A, dfdA, epsilon= 2.0E-8, N= 100):\n",
    "    \n",
    "    n=0\n",
    "    \n",
    "    while abs(f(A))> epsilon and n<=N:\n",
    "        A= A-f(A)/dfdA(A)\n",
    "        n += 1\n",
    "        \n",
    "    return A, f(A), n"
   ]
  },
  {
   "cell_type": "code",
   "execution_count": 59,
   "metadata": {},
   "outputs": [],
   "source": [
    "f = lambda A : (((3*A)*np.e**(-1))-1)\n",
    "df= lambda A : 3/np.e"
   ]
  },
  {
   "cell_type": "code",
   "execution_count": 8,
   "metadata": {},
   "outputs": [],
   "source": [
    "seed= 2\n",
    "\n",
    "out= Newton_Met(f, seed, df)"
   ]
  },
  {
   "cell_type": "code",
   "execution_count": 9,
   "metadata": {},
   "outputs": [
    {
     "data": {
      "text/plain": [
       "(0.9060939428196817, 0.0, 1)"
      ]
     },
     "execution_count": 9,
     "metadata": {},
     "output_type": "execute_result"
    }
   ],
   "source": [
    "out"
   ]
  },
  {
   "cell_type": "markdown",
   "metadata": {},
   "source": [
    "Con respecto a lo anterior tenemos que la dosis necesaria para llegar a una concentración máxima segura de 1 mg/ml, en 3 horas es de 0.9060... mg. al cual es también el valor de como: **$$A = e/3$$**"
   ]
  },
  {
   "cell_type": "markdown",
   "metadata": {},
   "source": [
    "### Actividad 2"
   ]
  },
  {
   "cell_type": "markdown",
   "metadata": {},
   "source": [
    "* ***Una cantidad adicional de medicamento deberá administrarse al paciente después de que la concentración disminuya a 0.25 mg/ml. Determine, con una aproximación al minuto más cercano, cuando debe aplicarse la segunda inyección.***"
   ]
  },
  {
   "cell_type": "markdown",
   "metadata": {},
   "source": [
    "Para determinar el tiempo al cual debe realizarse la segunda inyección usamos la funición de concentración igualada a 0.25:\n",
    "\n",
    "**$$0.25 = (e/3)(te^{−t/3})$$**\n",
    "\n",
    "Una vez que lo tenemos de esta forma, podemos desarrollar una función a partir de la cual obtenemos el tiempo:\n",
    "\n",
    "**$$f(t)=(e/3)(te^{−t/3})-0.25$$**\n",
    "\n",
    "Ahora, debemos obtener la raíz que nos indicara el valor en t, al cual se debe realizar la segunda inyección, por lo que derivamos la función:\n",
    "\n",
    "**$$  $$**\n"
   ]
  },
  {
   "cell_type": "code",
   "execution_count": 10,
   "metadata": {},
   "outputs": [],
   "source": [
    "f= lambda t: (((np.e/3)*(t*(np.e**(-t/3))))-(1/4))\n",
    "df= lambda t: ((-1/3)*(3*t)*np.e**(-t/3))+(3*np.e**(-t/3))"
   ]
  },
  {
   "cell_type": "code",
   "execution_count": 11,
   "metadata": {},
   "outputs": [],
   "source": [
    "seed= 11\n",
    "\n",
    "out= Newton_Met(f, seed, df)"
   ]
  },
  {
   "cell_type": "code",
   "execution_count": 12,
   "metadata": {
    "scrolled": true
   },
   "outputs": [
    {
     "data": {
      "text/plain": [
       "(11.077903316966399, 1.6388723489413337e-08, 35)"
      ]
     },
     "execution_count": 12,
     "metadata": {},
     "output_type": "execute_result"
    }
   ],
   "source": [
    "out"
   ]
  },
  {
   "cell_type": "markdown",
   "metadata": {},
   "source": [
    "Con lo anterior podemos afirmar que despues de inyectar la primera dosis, se debe aplicar una segunda inyección aproximadamente a los 664.2 minutos (11.07 horas). "
   ]
  },
  {
   "cell_type": "markdown",
   "metadata": {},
   "source": [
    "### Actividad 3"
   ]
  },
  {
   "cell_type": "markdown",
   "metadata": {},
   "source": [
    "* ***Suponiendo que la concentración producida por inyecciones consecutivas es aditiva y que el 75 % de la dosis inyectada originalmente se administra en la segunda inyección. ¿Cuándo será momento de aplicar la tercera inyección?***"
   ]
  },
  {
   "cell_type": "markdown",
   "metadata": {},
   "source": [
    "Considerando los posibles casos generados, exiten 2 posibles soluciones a esta incógnita de modo que si se sigue el teorema del ejercicio 2 o resolviendo la incógnita con la finalidad de conseguir el máximo de concentración seguro en cada inyección. Desarrollamos las siguientes opciones:"
   ]
  },
  {
   "cell_type": "markdown",
   "metadata": {},
   "source": [
    "### Opción_1"
   ]
  },
  {
   "cell_type": "markdown",
   "metadata": {},
   "source": [
    "Al buscar la relación donde la inyección se administra cuando su previa inyección llega al 25% de la concentración (siguiendo dicha relación en el teorema del ejercicio 2 y 3)."
   ]
  },
  {
   "cell_type": "markdown",
   "metadata": {},
   "source": [
    "Dada: **$$c(t) = 3/4At_1e^{-t_1/3} + At_2e^{-t_2/3}$$**\n",
    "\n",
    "Donde: **$$3/4At_1e^{-t_1/3}$$** es la ecuación de la segunda dosis y **$$At_2e^{-t_2/3}$$** la ecuación de la primera dosis.\n",
    "Donde **$$t_1 = 0$$** y **$$t_2 = 11.07$$** y, aplicado en la relación de la ecuación: **$$t_1 = t$$** y **$$t_2 = t + 11.07$$**"
   ]
  },
  {
   "cell_type": "markdown",
   "metadata": {},
   "source": [
    "Sustituimos los valores en la ecuación y obtenemos nuestra f(x) del método de newton igualado a .25 y luego despejamos:\n",
    "\n",
    "**$$c(t) = 3/4Ate^{-t/3} + A(t + 11.07)e^{-(t + 11.07)/3} = 0.25$$**\n",
    "sustituyendo:\n",
    "\n",
    "**$$f(x) = c(t) = 3/4Ate^{-t/3} + A(t + 11.07)e^{-(t + 11.07)/3} - 0.25 = 0$$**\n",
    "y derivando:\n",
    "\n",
    "**$$f'(x) = c'(t) = 3/4(-1/3Ate^{-t/3} + Ae^{-t/3}) + (-1/3Ate^{-(t + 11.07)/3} + Ae^{-(t + 11.07)/3}) + (-1/3(11.07Ae^{-(t + 11.07)/3}))$$**\n",
    "y aplicar el valor de **$$A = e/3$$**"
   ]
  },
  {
   "cell_type": "code",
   "execution_count": 60,
   "metadata": {},
   "outputs": [],
   "source": [
    "f= lambda t: ((3/4)*((np.e/3)*t)*np.e**(-t/3)) + ((np.e/3)*(t + 11.07)*np.e**(-(t + 11.07)/3)) -(1/4)\n",
    "df= lambda t: (3/4)*(((-1/3)*(((np.e/3)*t*np.e**(-t/3)))) + ((np.e/3)*np.e**(-t/3))) + (((-1/3)*((np.e/3)*t*np.e**(-(t + 11.07)/3))) + ((np.e/3)*np.e**(-(t + 11.07)/3))) + ((-1/3)*((11.07)*((np.e/3)*np.e**(-(t + 11.07)/3)))) "
   ]
  },
  {
   "cell_type": "code",
   "execution_count": 70,
   "metadata": {},
   "outputs": [],
   "source": [
    "seed= 10\n",
    "\n",
    "\n",
    "out= Newton_Met(f, seed, df)"
   ]
  },
  {
   "cell_type": "code",
   "execution_count": 19,
   "metadata": {},
   "outputs": [
    {
     "data": {
      "text/plain": [
       "(10.156022413707621, 1.942890293094024e-15, 3)"
      ]
     },
     "execution_count": 19,
     "metadata": {},
     "output_type": "execute_result"
    }
   ],
   "source": [
    "out"
   ]
  },
  {
   "cell_type": "markdown",
   "metadata": {},
   "source": [
    "De esta manera obtenemos el resultado de t1 el cual es que transcurre de la 2da dosis para la 3ra y, si le agregamos el tiempo que transcurrió de la primera dosis a la segunda, que es 11.07 horas se obtiene el tiempo de 21.22 horas (1273.56 minutos)."
   ]
  },
  {
   "cell_type": "markdown",
   "metadata": {},
   "source": [
    "### Opción_2"
   ]
  },
  {
   "cell_type": "markdown",
   "metadata": {},
   "source": [
    "En el caso de idear un teorema donde las concentraciones no cumplan una regla de que indique su administración de dosis luego de que su previa inyección disminuya al 25%, sino al contrario, que esta se inyecte en el momento adecuado para que esta alcance el máximo de concentración en cada inyección, se debe de cumplir cierta relación que cambia por completo todo lo anterior realizado en los ejercicios previos. Siguiendo esta idea, el tiempo de administración de la segunda inyección cambia, por lo cual, debemos de empezar calculando un nuevo tiempo. Para ello seguiremos la misma relación que en la del caso_1, solo que al no saber en que tiempo se administra la segunda inyección lo consideraremos como una constante denominada \"***b***\". Donde:\n",
    "**$$t_1 = t0$$** \n",
    "y \n",
    "**$$t_2 = t + b$$**"
   ]
  },
  {
   "cell_type": "markdown",
   "metadata": {},
   "source": [
    "Cosiderando que la segunda inyección posee el 75% de la primera inyección se obtiene: \n",
    "\n",
    "**$$3/4Ate^{-t/3}$$**\n",
    "\n",
    "y a la primera dosis inyectada se le debe de considerar su tiempo t y el tiempo en que la segunda inyección se aplicará: \n",
    "\n",
    "**$$A(t + b)e^{-(t + b)/3}$$**\n",
    "\n",
    "Si ahora se genera una función para dicho tiempo:\n",
    "\n",
    "**$$C(t) = 3/4Ate^{-t/3} + A(t + b)e^{-(t + b)/3}$$**"
   ]
  },
  {
   "cell_type": "markdown",
   "metadata": {},
   "source": [
    "A dicha función le aplicamos sus condiciones de A como e/3 y a t = 3, con esto igualamos a 1 (la ecuación llega a u máximo de concentración, entonces el tiempo agregado \"***b***\" será nuestra nuev incógnita para obtener el punto máximo), y sabiendo que se utilizará el método de Newton simplemente despejamos, quedando:\n",
    "\n",
    "**$$f(x) = C(t) = 3/4Ate^{-t/3} + A(t + b)e^{-(t + b)/3} -1 = 0$$**\n",
    "a\n",
    "**$$f(x) = C(b) = 3/4(e/3)3e^{-1} + (e/3)(3 + b)e^{-(3 + b)/3} -1 = 0$$**\n",
    "\n",
    "Derivamos, y obtenemos: \n",
    "\n",
    "**$$f'(x) = C'(b) = 0 + (-1/3)(3(e/3)e^{-(3 + b)/3} + (-1/3)((e/3)be^{-(3 + b)/3} + (e/3)e^{-(3 + b)/3}$$**"
   ]
  },
  {
   "cell_type": "code",
   "execution_count": 72,
   "metadata": {},
   "outputs": [],
   "source": [
    "def Newton_Met(f, b, dfdb, epsilon= 2.0E-8, N= 100):\n",
    "    \n",
    "    n=0\n",
    "    \n",
    "    while abs(f(b))> epsilon and n<=N:\n",
    "        b= b-f(b)/dfdb(b)\n",
    "        n += 1\n",
    "        \n",
    "    return b, f(b), n"
   ]
  },
  {
   "cell_type": "code",
   "execution_count": 73,
   "metadata": {},
   "outputs": [],
   "source": [
    "f = lambda b: ((3/4)*((np.e/3)*3*np.e**(-1))) + ((np.e/3)*(3 + b)*np.e**(-(3 + b)/3)) -1\n",
    "df= lambda b: (-(1/3)*(3*(np.e/3)*np.e**(-(3 + b)/3))) + ((-(1/3)*((np.e/3)*b*np.e**(-(3 + b)/3))) + ((np.e/3)*np.e**(-(3 + b)/3)))"
   ]
  },
  {
   "cell_type": "code",
   "execution_count": 79,
   "metadata": {},
   "outputs": [],
   "source": [
    "seed= 4\n",
    "\n",
    "\n",
    "out= Newton_Met(f, seed, df)"
   ]
  },
  {
   "cell_type": "code",
   "execution_count": 67,
   "metadata": {},
   "outputs": [
    {
     "data": {
      "text/plain": [
       "(8.077903524163506, 3.798207082184035e-09, 4)"
      ]
     },
     "execution_count": 67,
     "metadata": {},
     "output_type": "execute_result"
    }
   ],
   "source": [
    "out"
   ]
  },
  {
   "cell_type": "markdown",
   "metadata": {},
   "source": [
    "Este es, el tiempo que debe de reposar el medicamento inyectado hasta inyectar la segunda dosis para que esta última también alcance el máximo de concentración."
   ]
  },
  {
   "cell_type": "markdown",
   "metadata": {},
   "source": [
    "Ahora, se calculará el tiempo que transcurre dessde la segunda dosis hasta el momento de inyectar la tercera dosis.\n",
    "\n",
    "Si consideramos que la primera dosis sigue nuestra función original y la segunda es un 75% (3/4) de la primera y la 3ra debe ser aditiva, con lo cual será el 75% (3/4) de la segunda. Y se sigue la relación entre t1, t2 y t3 donde:\n",
    "\n",
    "**$$t_1 = t$$**\n",
    "**$$t_2 = t + c$$** \n",
    "**$$t_3 = t + c + 8.07$$**\n",
    "Tomando como c la incógnita del tiempo que transcurre en la segunda dosis y sumando el tiempo 8.07 que es el de la primera dosis.\n",
    "Si generamos nuestra función se obtiene:"
   ]
  },
  {
   "cell_type": "markdown",
   "metadata": {},
   "source": [
    "**$$C(t) = 9/16At_1e^{-t_1/3} + 3/4At_2e^{-t_2/3} + At_3e^{-t_3/3}$$**\n",
    "\n",
    "Sustituyendo las relaciones de t:\n",
    " \n",
    "**$$C(t) = 9/16Ate^{-t/3} + 3/4A(t + c)e^{-(t + c)/3} + A(t + c + 8.07)e^{-(t + c + 8.07)/3}$$**\n",
    "\n",
    "Si ahora aplicamos las condiciones de A como e/3, t = 3 e igualamos a 1 sabiendo que es la máxima conectración a obtener, nos da:\n",
    "\n",
    "**$$ C(3) = (9/16)(e/3)3e^{-1} + (3/4)(e/3)(3 + c)e^{-(3 + c)/3} + (e/3)(3 + c + 8.07)e^{-(3 + c + 8.07)/3} = 1 $$**\n",
    "\n",
    "Como el valor de t ya está dado, nuestra nueva incógnita es \"\"c\"\" por lo tanto, nuestra ecuación será en función de \"\"c\"\" y sustituiremos \"-1\" igualando a 0, la cuál será nuestra función para plaicar el método de Newton: \n",
    "\n",
    "**$$f(x) = C(c) = 9/16(e/3)3e^{-1} + 3/4(e/3)(3 + c)e^{-(3 + c)/3} + (e/3)(3 + c + 8.07)e^{-(3 + c + 8.07)/3} -1 = 0$$** \n",
    "\n",
    "Y Derivada:\n",
    "\n",
    "**$$f'(x) = C'(c) = 0 - (1/3)3/4(e/3)3e^{-(3 + c)/3} - (1/3)3/4(e/3)ce^{-(3 + c)/3} + 3/4(e/3)e^{-(3 + c)/3} -(1/3)(e/3)ce^{-(c + 11.07)/3} + (e/3)e^{-(c + 11.07)/3} -(1/3)11.07(e/3)e^{-(c + 11.07)/3}$$**\n",
    "\n",
    "Simplificando:\n",
    "\n",
    "**$$f'(x) = C'(c) = -3/4(e/3)e^{-(3 + c)/3} -1/4(e/3)ce^{-(3 + c)/3} +3/4(e/3)e^{-(3 + c)/3} -1/3(e/3)ce^{-(c + 11.07)/3} + (e/3)e^{-(c + 11.07)/3} -1/3(11.07)(e/3)e^{-(c + 11.07)/3}$$**"
   ]
  },
  {
   "cell_type": "code",
   "execution_count": 76,
   "metadata": {},
   "outputs": [],
   "source": [
    "def Newton_Met(C, c, dCdc, epsilon= 2.0E-8, N= 100):\n",
    "    \n",
    "    n=0\n",
    "    \n",
    "    while abs(C(c))> epsilon and n<=N:\n",
    "        c= c-C(c)/dCdc(c)\n",
    "        n += 1\n",
    "        \n",
    "    return c, C(c), n"
   ]
  },
  {
   "cell_type": "code",
   "execution_count": 81,
   "metadata": {},
   "outputs": [],
   "source": [
    "C = lambda c: ((9/16)*((np.e/3)*3*np.e**(-1))) + ((3/4)*((np.e/3)*(3 + c)*np.e**(-(3 + c)/3))) + ((np.e/3)*((3 + c + 8.07)*np.e**(-(3 + c + 8.07)/3))) - 1\n",
    "dC =lambda c: ((-3/4)*((np.e/3)*np.e**(-(3 + c)/3))) -((1/4)*((np.e/3)*c*np.e**(-(3 + c)/3))) + ((3/4)*((np.e/3)*np.e**(-(3 + c)/3))) -((1/3)*((np.e/3)*c*np.e**(-(c + 11.07)/3))) +((np.e/3)*np.e**(-(c + 11.07)/3)) -((1/3)*(11.07*(np.e/3)*np.e**(-(c + 11.07)/3)))"
   ]
  },
  {
   "cell_type": "code",
   "execution_count": 86,
   "metadata": {},
   "outputs": [],
   "source": [
    "seed= 5\n",
    "\n",
    "\n",
    "out= Newton_Met(C, seed, dC)"
   ]
  },
  {
   "cell_type": "code",
   "execution_count": 87,
   "metadata": {},
   "outputs": [
    {
     "data": {
      "text/plain": [
       "(5.092425925165482, 3.45148132296913e-09, 2)"
      ]
     },
     "execution_count": 87,
     "metadata": {},
     "output_type": "execute_result"
    }
   ],
   "source": [
    "out"
   ]
  },
  {
   "cell_type": "markdown",
   "metadata": {},
   "source": [
    "Como se observa, 5.09 horas son las que trancurren entre la administración de la segunda dosis y la tercera, si se le suman las 8.07 horas que tomaron entre la primera y la segunda, nos da un total de 13.16 horas hasta la tercera inyección (789.6 minutos)."
   ]
  },
  {
   "cell_type": "markdown",
   "metadata": {},
   "source": [
    "## Parte LaTeX  "
   ]
  },
  {
   "cell_type": "markdown",
   "metadata": {},
   "source": [
    "### Actividad 4 "
   ]
  },
  {
   "cell_type": "markdown",
   "metadata": {},
   "source": [
    "Use la plantilla que se vio en clase para entregar la introducción de su proyecto final. "
   ]
  },
  {
   "cell_type": "code",
   "execution_count": null,
   "metadata": {},
   "outputs": [],
   "source": []
  },
  {
   "cell_type": "markdown",
   "metadata": {},
   "source": [
    "### Actividad 5 "
   ]
  },
  {
   "cell_type": "markdown",
   "metadata": {},
   "source": [
    "Use la plantilla que se vio en clase para entregar parte de la metodología de su proyecto final."
   ]
  },
  {
   "cell_type": "code",
   "execution_count": null,
   "metadata": {},
   "outputs": [],
   "source": []
  }
 ],
 "metadata": {
  "kernelspec": {
   "display_name": "Python 3",
   "language": "python",
   "name": "python3"
  },
  "language_info": {
   "codemirror_mode": {
    "name": "ipython",
    "version": 3
   },
   "file_extension": ".py",
   "mimetype": "text/x-python",
   "name": "python",
   "nbconvert_exporter": "python",
   "pygments_lexer": "ipython3",
   "version": "3.8.3"
  }
 },
 "nbformat": 4,
 "nbformat_minor": 4
}

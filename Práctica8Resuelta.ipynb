{
 "cells": [
  {
   "cell_type": "markdown",
   "metadata": {},
   "source": [
    "# Práctica 8\n",
    "## Herramientas Computacionales\n",
    "### Autores\n",
    "* Garcia Aguilera Aline Itzel \n",
    "\n",
    "* Ricardo Daniel Garibay Camarillo "
   ]
  },
  {
   "cell_type": "markdown",
   "metadata": {},
   "source": [
    "## 1. El Cifrado de Julio César\n",
    "Durante sus campañas militares, el general romano Julio César escribía mensajes a sus subordinados de la siguiente forma:\n",
    "\n",
    "Sustituía cada letra del abecedario por la letra situada tres lugares más allá en el orden alfabético. Es decir, la letra A se convertiría en D; la B, en E; la C en F y así sucesivamente. Y del mismo modo para la cola: la X sería una A; la Y una B y la Z una C. En resumen, las letras se desplazan tres lugares en el orden alfabético.\n",
    "\n",
    "Por ejemplo, en lugar de escribir CENTURIA escribía FHPWXULD.\n",
    "\n",
    "Escriba una función que se llame encryption() que automatice el cifrado de Julio César.\n",
    "\n",
    "Tu función debe cumplir las siguientes características:\n",
    "\n",
    "Debe leer un archivo de texto que contenga el mensaje por codificar y escribir un nuevo archivo de texto con el mensaje cifrado.\n",
    "\n",
    "El programa debe preguntar por cuántos espacios queremos deplazar las letras en nuestro mensaje.\n",
    "\n",
    "El mensaje a codificar puede incluir únicamente:\n",
    "\n",
    "Letras mayúsculas y minúsculas (sin acentos).\n",
    "\n",
    "Espacios.\n",
    "\n",
    "Saltos de línea.\n",
    "\n",
    "Pruebe su función con el archivo myfile.txt ¿Qué contiene el archivo?"
   ]
  },
  {
   "cell_type": "code",
   "execution_count": 9,
   "metadata": {},
   "outputs": [
    {
     "name": "stdout",
     "output_type": "stream",
     "text": [
      "Esta es la codificación: Olwdfwlfdhvoluduwhdsuhpghufrorvrvtxhuhuwhfrorvrvolwdfwlfdhvkdeñduwhbhvfxfkduwhfrpvwuxlufrpsdñdeudvxpsxhpwhlpghvwuxfwleñholwdfwlfdhvtxhgduohhpwxuhfxhugrprvhforplvhfrptxsuhwhawrshurtxhgduohhpyrvolwdfwlfdhvvhuiudpfrbvdehutxhvrviudpfdbtxhprprvyhpgdorvvloxñdfurvsdudtxhhpwuhñrvgrvprkdbdwhñrppldelvorvolhvwudwhjldhvhpfdoelrodvsurixpgdbodvvlosñholhvwudwhjldhvtxhxpgldfxdñtxlhudprvhfrorplvhfrptxhsuhwhawrsruilpohphfhvlwhv\n",
      "Mi tactica es\n",
      "mirarte\n",
      "aprender como sos\n",
      "quererte como sos\n",
      "\n",
      "mi tactica es\n",
      "hablarte\n",
      "y escucharte\n",
      "construir con palabras\n",
      "un puente indestructible\n",
      "\n",
      "mi tactica es\n",
      "quedarme en tu recuerdo\n",
      "no se como ni se\n",
      "con que pretexto\n",
      "pero quedarme en vos\n",
      "\n",
      "mi tactica es\n",
      "ser franco\n",
      "y saber que sos franca\n",
      "y que no nos vendamos\n",
      "simulacros\n",
      "para que entre los dos\n",
      "no haya telon\n",
      "ni abismos\n",
      "\n",
      "mi estrategia es\n",
      "en cambio\n",
      "mas profunda y mas\n",
      "simple\n",
      "\n",
      "mi estrategia es\n",
      "que un dia cualquiera\n",
      "no se como ni se\n",
      "con que pretexto\n",
      "por fin me necesites.\n",
      "\n"
     ]
    }
   ],
   "source": [
    "abc = ['a', 'b', 'c', 'd', 'e', 'f', 'g', 'h', 'i', 'j', 'k', 'l', 'm', 'n', 'ñ', 'o', 'p', 'q', 'r', 's', 't', 'u', 'v', 'w', 'x', 'y', 'z']\n",
    "ABC = ['A', 'B', 'C', 'D', 'E', 'F', 'G', 'H', 'I', 'J', 'K', 'L', 'M', 'N', 'Ñ', 'O', 'P', 'Q', 'R', 'S', 'T', 'U', 'V', 'W', 'X', 'Y', 'Z']\n",
    "\n",
    "\n",
    "def encryption(palabra, desplazamiento):\n",
    "    \n",
    "    texto = '' \n",
    "    maximo = len(ABC)\n",
    "    p = 0\n",
    "    for letra in palabra:\n",
    "        for i in range(maximo):\n",
    "            if (i + desplazamiento < maximo):\n",
    "                p = i + desplazamiento\n",
    "            else: \n",
    "                p = abs((maximo - i) - desplazamiento)\n",
    "            if letra == abc[i]:\n",
    "                texto = texto + abc[p]\n",
    "            elif letra == ABC[i]:\n",
    "                texto = texto + ABC[p]\n",
    "\n",
    "    \n",
    "    return texto \n",
    "m = texto = encryption(t , 3)\n",
    "print('Esta es la codificación:', texto)\n",
    "\n",
    "   \n",
    "x = file = open('myfile.txt', 'r')\n",
    "t = file.read()\n",
    "print(t)\n",
    "file.close()\n",
    "\n",
    "z = file = open('encriptado.txt', 'w')\n",
    "w = file.write(m)\n",
    "file.close()"
   ]
  },
  {
   "cell_type": "markdown",
   "metadata": {},
   "source": [
    "# 2. Cadena de DNA"
   ]
  },
  {
   "cell_type": "markdown",
   "metadata": {},
   "source": [
    "El achivo random_DNA.txt contiene una de las hélices de un segmento de una cadena de DNA. escriba una función que se llame to_complete() que complete la cadena y además genere un archivo que se llame complete_DNA.txt"
   ]
  },
  {
   "cell_type": "code",
   "execution_count": 1,
   "metadata": {
    "scrolled": true
   },
   "outputs": [],
   "source": [
    "final = []\n",
    "A = open('random_DNA.txt' , 'r+')\n",
    "todo = A.read()\n",
    "todo = todo.replace(\"\\n\",\"\")\n",
    "for i in todo:\n",
    "    if i == str('A'):\n",
    "        cadena = (i + 'T')\n",
    "        final.append(cadena)\n",
    "    elif i == str('G'):\n",
    "        cadena = (i + 'C')\n",
    "        final.append(cadena)\n",
    "    elif i == str('T'):\n",
    "        cadena = (i + 'A')\n",
    "        final.append(cadena)\n",
    "    elif i == str('C'):\n",
    "        cadena = (i + 'G')\n",
    "        final.append(cadena)\n",
    "    else:\n",
    "        i = i\n",
    "A.close()\n",
    "\n",
    "b = open('Complete_DNA.txt' , 'w')\n",
    "for e in final:\n",
    "    b.write(e)\n",
    "    b.write('\\n')\n",
    "b.close()"
   ]
  },
  {
   "cell_type": "code",
   "execution_count": 2,
   "metadata": {},
   "outputs": [
    {
     "data": {
      "text/plain": [
       "True"
      ]
     },
     "execution_count": 2,
     "metadata": {},
     "output_type": "execute_result"
    }
   ],
   "source": [
    "A.closed"
   ]
  },
  {
   "cell_type": "code",
   "execution_count": 3,
   "metadata": {},
   "outputs": [
    {
     "data": {
      "text/plain": [
       "True"
      ]
     },
     "execution_count": 3,
     "metadata": {},
     "output_type": "execute_result"
    }
   ],
   "source": [
    "b.closed"
   ]
  },
  {
   "cell_type": "code",
   "execution_count": 4,
   "metadata": {},
   "outputs": [
    {
     "data": {
      "text/plain": [
       "'r+'"
      ]
     },
     "execution_count": 4,
     "metadata": {},
     "output_type": "execute_result"
    }
   ],
   "source": [
    "A.mode"
   ]
  },
  {
   "cell_type": "markdown",
   "metadata": {},
   "source": [
    "` import statistics as stats`  ---> importamos la libreria \"statistics\" y le ponemos un apodo que en ese caso es \"stats\""
   ]
  },
  {
   "cell_type": "markdown",
   "metadata": {},
   "source": []
  },
  {
   "cell_type": "markdown",
   "metadata": {},
   "source": [
    "` import statistics as stats`  ---> importamos la libreria \"statistics\" y le ponemos un apodo que en ese caso es \"stats\".\n",
    "\n",
    "## * Media o promedio: \n",
    "Valor promedio de un conjunto de datos numéricos, calculada como la suma del conjunto de valores dividida entre el número total de valores.\n",
    "\n",
    "### ¿Cómo se calcula? \n",
    "\n",
    "La función ` mean()`  devuelve la media aritmética de los datos de una muestra o población. Esta media se calcula sumando todos los valores y después el resultado de la suma se divide entre el número de elementos.\n",
    "\n",
    "edades = [22, 23, 26, 26, 26, 34, 34, 38, 40, 41, 42, 50, 9] ---> Añadimos una lista con los datos a evaluar en una variable.\n",
    "\n",
    "print(stats.mean(edades)) ---> imprimos la función, el alias y el nombre que le hayamos dado a nuestra variable."
   ]
  },
  {
   "cell_type": "code",
   "execution_count": 3,
   "metadata": {},
   "outputs": [],
   "source": [
    "import statistics as stats"
   ]
  },
  {
   "cell_type": "code",
   "execution_count": 4,
   "metadata": {},
   "outputs": [
    {
     "name": "stdout",
     "output_type": "stream",
     "text": [
      "32.125\n"
     ]
    }
   ],
   "source": [
    "edades = [22, 23, 26, 26, 26, 34, 34, 38, 40, 41, 42, 50, 9, 15, 56, 32]\n",
    "print(stats.mean(edades)) "
   ]
  },
  {
   "cell_type": "markdown",
   "metadata": {},
   "source": [
    "## * Mediana \n",
    "Es el número medio en el conjunto (después que los números han sido arreglados del menor al mayor) -- o, si hay un número par de datos, la mediana es el promedio de los dos números medios.\n",
    "\n",
    "### ¿Cómo se calcula? \n",
    "La función ` median()`  devuelve la mediana o valor medio de los datos. La mediana es el valor central de un grupo de números ordenados por tamaño. Si la cantidad de elementos es par, la mediana es el promedio de los dos números centrales.\n",
    "\n",
    "`edades = [22, 23, 24, 28, 30, 31]`---> Añadimos una lista con los datos a evaluar en una variable.\n",
    "\n",
    "`print(stats.median(edades))`---> imprimos la función, el alias y el nombre que le hayamos dado a nuestra variable.\n"
   ]
  },
  {
   "cell_type": "code",
   "execution_count": 5,
   "metadata": {},
   "outputs": [
    {
     "name": "stdout",
     "output_type": "stream",
     "text": [
      "26.0\n"
     ]
    }
   ],
   "source": [
    "edades = [31, 30, 28, 24, 23, 22]\n",
    "print(stats.median(edades))"
   ]
  },
  {
   "cell_type": "markdown",
   "metadata": {},
   "source": [
    "## * Moda\n",
    "Es el número que aparece más a menudo.\n",
    "\n",
    "### ¿Cómo se calcula? \n",
    "La función `mode()` devuelve el valor más frecuente de los datos.\n",
    "\n",
    "\n",
    "`edades = [22, 23, 26, 26, 26, 34, 34, 38, 40, 41]` --->  Añadimos una lista con los datos a evaluar en una variable.\n",
    "`print(stats.mode(edades))` ---> imprimos la función, el alias y el nombre que le hayamos dado a nuestra variable."
   ]
  },
  {
   "cell_type": "code",
   "execution_count": 6,
   "metadata": {},
   "outputs": [
    {
     "name": "stdout",
     "output_type": "stream",
     "text": [
      "34\n"
     ]
    }
   ],
   "source": [
    "edades = [22, 23, 26, 26, 26, 34, 34, 38, 40, 41, 34, 34, 34, 34]\n",
    "print(stats.mode(edades))"
   ]
  },
  {
   "cell_type": "markdown",
   "metadata": {},
   "source": [
    "## * Varianza\n",
    "Medida de dispersión que representa la variabilidad de una serie de datos respecto a su media.\n",
    "\n",
    "### ¿Cómo se calcula?\n",
    "\n",
    "La función `pvariance()` devuelve la varianza de una población de datos. Esta función es equivalente a `variance()` pero se aplica a una población en lugar de a una muestra.\n",
    "\n",
    "`edades = [22, 23, 26, 26, 26, 34, 34, 38, 40, 41]`--->  Añadimos una lista con los datos a evaluar en una variable.\n",
    "`print(stats.pvariance(edades))` --->  imprimos la función, el alias y el nombre que le hayamos dado a nuestra variable."
   ]
  },
  {
   "cell_type": "code",
   "execution_count": 7,
   "metadata": {},
   "outputs": [
    {
     "name": "stdout",
     "output_type": "stream",
     "text": [
      "46.8\n"
     ]
    }
   ],
   "source": [
    "edades = [22, 23, 26, 26, 26, 34, 34, 38, 40, 41]\n",
    "print(stats.pvariance(edades))"
   ]
  },
  {
   "cell_type": "markdown",
   "metadata": {},
   "source": [
    "## * Desviación estandar\n",
    "Medida que se utiliza para cuantificar la variación o la dispersión de un conjunto de datos numéricos.\n",
    "\n",
    "### ¿Cómo se calcula? \n",
    "La función `pstdev()` devuelve la desviación estándar de una población de datos, que se corresponde con la raíz cuadrada de la varianza de dicha población. Esta función es equivalente a `stdev()` pero se aplica a una población en lugar de a una muestra.\n",
    "\n",
    "`edades = [22, 23, 26, 26, 26, 34, 34, 38, 40, 41]` --->  Añadimos una lista con los datos a evaluar en una variable.\n",
    "`print(stats.pstdev(edades))` --->  imprimos la función, el alias y el nombre que le hayamos dado a nuestra variable."
   ]
  },
  {
   "cell_type": "code",
   "execution_count": 8,
   "metadata": {},
   "outputs": [
    {
     "name": "stdout",
     "output_type": "stream",
     "text": [
      "6.841052550594828\n"
     ]
    }
   ],
   "source": [
    "edades = [22, 23, 26, 26, 26, 34, 34, 38, 40, 41]\n",
    "print(stats.pstdev(edades))"
   ]
  },
  {
   "cell_type": "markdown",
   "metadata": {},
   "source": [
    "# 4. Análisis estadístico de un grupo"
   ]
  },
  {
   "cell_type": "markdown",
   "metadata": {},
   "source": [
    "* Escriba una función que se llame workbook(), que reciba mediante input el grupo de y el numero de tareas. La función debe crear un Workbook que se llame estudiantes.cvs o estudiantes.xlsxcon una hoja que tenga el nombre del grupo, además de que el primer renglon tenga el nombre de alumno, numero de cuenta y los nombres de las tareas."
   ]
  },
  {
   "cell_type": "markdown",
   "metadata": {},
   "source": [
    "* Codifique una función que se llame students() que reciba con un input el Workbook que se desea trabajar, además de mostrar y poder elegir una hoja a trabajar."
   ]
  },
  {
   "cell_type": "markdown",
   "metadata": {},
   "source": [
    "* La función students() debe permitir mediante uno o varios inputs llenar una hoja"
   ]
  },
  {
   "cell_type": "markdown",
   "metadata": {},
   "source": [
    "* Escriba una segunda función que se llame mesures(), que pida el nombre del Workbook, muestre todas la hojas y de a elegir alguna de ellas, y además calcule el promedio, varianza y desviación estandar para cada una de las tareas del grupo."
   ]
  },
  {
   "cell_type": "markdown",
   "metadata": {},
   "source": [
    "* En un mismo frame haga un histograma y además muestre el promedio, varianza y desviación estandar por cada tarea."
   ]
  },
  {
   "cell_type": "code",
   "execution_count": 10,
   "metadata": {},
   "outputs": [],
   "source": [
    "from openpyxl import Workbook"
   ]
  },
  {
   "cell_type": "code",
   "execution_count": 11,
   "metadata": {},
   "outputs": [],
   "source": [
    "from openpyxl import load_workbook"
   ]
  },
  {
   "cell_type": "code",
   "execution_count": 12,
   "metadata": {},
   "outputs": [],
   "source": [
    "def workbook():\n",
    "    \n",
    "    grupo = input('Nombre del grupo')\n",
    "    tareas = int(input('Numero de tareas'))\n",
    "   \n",
    "    workbook = Workbook()\n",
    "    ws = workbook.active \n",
    "    ws.title = 'estudiantes'\n",
    "   \n",
    "    ws2 = workbook.create_sheet(title = grupo)\n",
    "    \n",
    "    \n",
    "    ws2['A1'] = 'Nombre'\n",
    "    ws2['B1'] = 'Cuenta'\n",
    "    letters = 'ABCDEFGHIJKLMNOPQRSTUVWXYZ'\n",
    "    for i in range(1, tareas + 1):\n",
    "            aux = letters[i + 1] + str(1)\n",
    "            ws2[aux] = 'tarea-' + str(i)\n",
    "  \n",
    "    workbook.save('estudiantes.xlsx')"
   ]
  },
  {
   "cell_type": "code",
   "execution_count": 13,
   "metadata": {},
   "outputs": [
    {
     "name": "stdout",
     "output_type": "stream",
     "text": [
      "Nombre del grupo1002\n",
      "Numero de tareas10\n"
     ]
    }
   ],
   "source": [
    "workbook()"
   ]
  },
  {
   "cell_type": "code",
   "execution_count": 14,
   "metadata": {},
   "outputs": [],
   "source": [
    "def students(): \n",
    "    archivo = input('Ingrese el archivo')\n",
    "    workbook = load_workbook(filename=archivo)\n",
    "    print(workbook.active)\n",
    "    print(workbook.sheetnames)\n",
    "    print(workbook.worksheets)\n",
    "    \n",
    "    hoja = input('Ingrese la hoja con la que desea trabajar')\n",
    "    \n",
    "    ws2 = workbook[hoja]\n",
    "    \n",
    "    cant = int(input('¿Cuantos Alumnos Metera?:'))\n",
    "    numeros = ['1','2','3','4','5','6','7','8','9','10','11'] \n",
    "    for i in range(1, cant + 1 ):\n",
    "            Nombre = input('Ingrese los nombres en orden respectivamente')\n",
    "            aux = 'A' + numeros[i]\n",
    "            ws2[aux] = Nombre\n",
    "    workbook.save('estudiantes.xlsx')\n",
    "\n",
    "    for i in range(1, cant + 1 ):\n",
    "            Nombre1 = input('Ingrese los numeros de cuenta en orden respectivamente?:')\n",
    "            aux1 = 'B' + numeros[i]\n",
    "            ws2[aux1] = Nombre1\n",
    "    workbook.save('estudiantes.xlsx')\n",
    "    \n",
    "    for i in range(1, cant + 1 ):\n",
    "            Nombre2 = input('Ingrese las calificaciones de la tarea 1 en orden respectivamente?:')\n",
    "            aux2 = 'C' + numeros[i]\n",
    "            ws2[aux2] = Nombre2\n",
    "    workbook.save('estudiantes.xlsx')\n",
    "    \n",
    "    for i in range(1, cant + 1 ):\n",
    "            Nombre3 = input('Ingrese las calificaciones de la tarea 2 en orden respectivamente?:')\n",
    "            aux3 = 'D' + numeros[i]\n",
    "            ws2[aux3] = Nombre3\n",
    "    workbook.save('estudiantes.xlsx')\n",
    "    \n",
    "    for i in range(1, cant + 1 ):\n",
    "            Nombre4 = input('Ingrese las calificaciones de la tarea 3 en orden respectivamente?:')\n",
    "            aux4 = 'E' + numeros[i]\n",
    "            ws2[aux4] = Nombre4\n",
    "    workbook.save('estudiantes.xlsx')\n",
    "    \n",
    "    for i in range(1, cant + 1 ):\n",
    "            Nombre5 = input('Ingrese las calificaciones de la tarea 4 en orden respectivamente?:')\n",
    "            aux5 = 'F' + numeros[i]\n",
    "            ws2[aux5] = Nombre5\n",
    "    workbook.save('estudiantes.xlsx')\n",
    "    \n",
    "    for i in range(1, cant + 1 ):\n",
    "            Nombre6 = input('Ingrese las calificaciones de la tarea 5 en orden respectivamente?:')\n",
    "            aux6 = 'G' + numeros[i]\n",
    "            ws2[aux6] = Nombre6\n",
    "    workbook.save('estudiantes.xlsx')\n",
    "    \n",
    "    for i in range(1, cant + 1 ):\n",
    "            Nombre7 = input('Ingrese las calificaciones de la tarea 6 en orden respectivamente?:')\n",
    "            aux7 = 'H' + numeros[i]\n",
    "            ws2[aux7] = Nombre7\n",
    "    workbook.save('estudiantes.xlsx')\n",
    "    \n",
    "    for i in range(1, cant + 1 ):\n",
    "            Nombre8 = input('Ingrese las calificaciones de la tarea 7 en orden respectivamente?:')\n",
    "            aux8 = 'I' + numeros[i]\n",
    "            ws2[aux8] = Nombre8\n",
    "    workbook.save('estudiantes.xlsx')\n",
    "    \n",
    "    for i in range(1, cant + 1 ):\n",
    "            Nombre9 = input('Ingrese las calificaciones de la tarea 8 en orden respectivamente?:')\n",
    "            aux9 = 'J' + numeros[i]\n",
    "            ws2[aux9] = Nombre9\n",
    "    workbook.save('estudiantes.xlsx')\n",
    "    \n",
    "    for i in range(1, cant + 1 ):\n",
    "            Nombre10 = input('Ingrese las calificaciones de la tarea 9 en orden respectivamente?:')\n",
    "            aux10 = 'K' + numeros[i]\n",
    "            ws2[aux10] = Nombre10\n",
    "    workbook.save('estudiantes.xlsx')\n",
    "    \n",
    "    for i in range(1, cant + 1 ):\n",
    "            Nombre11 = input('Ingrese las calificaciones de la tarea 10 en orden respectivamente?:')\n",
    "            aux11 = 'L' + numeros[i]\n",
    "            ws2[aux11] = Nombre11\n",
    "    workbook.save('estudiantes.xlsx')\n",
    "    \n",
    "    "
   ]
  },
  {
   "cell_type": "code",
   "execution_count": 15,
   "metadata": {},
   "outputs": [],
   "source": [
    "import statistics as stats"
   ]
  },
  {
   "cell_type": "code",
   "execution_count": 16,
   "metadata": {},
   "outputs": [
    {
     "name": "stdout",
     "output_type": "stream",
     "text": [
      "Ingrese el archivoestudiantes.xlsx\n",
      "<Worksheet \"estudiantes\">\n",
      "['estudiantes', '1002']\n",
      "[<Worksheet \"estudiantes\">, <Worksheet \"1002\">]\n",
      "Ingrese la hoja con la que desea trabajar1002\n",
      "¿Cuantos Alumnos Metera?:3\n",
      "Ingrese los nombres en orden respectivamenteRicardo\n",
      "Ingrese los nombres en orden respectivamenteDaniel\n",
      "Ingrese los nombres en orden respectivamenteAline\n",
      "Ingrese los numeros de cuenta en orden respectivamente?:6352\n",
      "Ingrese los numeros de cuenta en orden respectivamente?:5649\n",
      "Ingrese los numeros de cuenta en orden respectivamente?:2305\n",
      "Ingrese las calificaciones de la tarea 1 en orden respectivamente?:9\n",
      "Ingrese las calificaciones de la tarea 1 en orden respectivamente?:9\n",
      "Ingrese las calificaciones de la tarea 1 en orden respectivamente?:9\n",
      "Ingrese las calificaciones de la tarea 2 en orden respectivamente?:7\n",
      "Ingrese las calificaciones de la tarea 2 en orden respectivamente?:8\n",
      "Ingrese las calificaciones de la tarea 2 en orden respectivamente?:7\n",
      "Ingrese las calificaciones de la tarea 3 en orden respectivamente?:8\n",
      "Ingrese las calificaciones de la tarea 3 en orden respectivamente?:3\n",
      "Ingrese las calificaciones de la tarea 3 en orden respectivamente?:5\n",
      "Ingrese las calificaciones de la tarea 4 en orden respectivamente?:10\n",
      "Ingrese las calificaciones de la tarea 4 en orden respectivamente?:10\n",
      "Ingrese las calificaciones de la tarea 4 en orden respectivamente?:9\n",
      "Ingrese las calificaciones de la tarea 5 en orden respectivamente?:6\n",
      "Ingrese las calificaciones de la tarea 5 en orden respectivamente?:8\n",
      "Ingrese las calificaciones de la tarea 5 en orden respectivamente?:7\n",
      "Ingrese las calificaciones de la tarea 6 en orden respectivamente?:1\n",
      "Ingrese las calificaciones de la tarea 6 en orden respectivamente?:3\n",
      "Ingrese las calificaciones de la tarea 6 en orden respectivamente?:1\n",
      "Ingrese las calificaciones de la tarea 7 en orden respectivamente?:4\n",
      "Ingrese las calificaciones de la tarea 7 en orden respectivamente?:8\n",
      "Ingrese las calificaciones de la tarea 7 en orden respectivamente?:10\n",
      "Ingrese las calificaciones de la tarea 8 en orden respectivamente?:7\n",
      "Ingrese las calificaciones de la tarea 8 en orden respectivamente?:7\n",
      "Ingrese las calificaciones de la tarea 8 en orden respectivamente?:7\n",
      "Ingrese las calificaciones de la tarea 9 en orden respectivamente?:8\n",
      "Ingrese las calificaciones de la tarea 9 en orden respectivamente?:4\n",
      "Ingrese las calificaciones de la tarea 9 en orden respectivamente?:9\n",
      "Ingrese las calificaciones de la tarea 10 en orden respectivamente?:9\n",
      "Ingrese las calificaciones de la tarea 10 en orden respectivamente?:5\n",
      "Ingrese las calificaciones de la tarea 10 en orden respectivamente?:8\n"
     ]
    }
   ],
   "source": [
    "students()"
   ]
  },
  {
   "cell_type": "code",
   "execution_count": 17,
   "metadata": {},
   "outputs": [],
   "source": [
    "def mesures():\n",
    "    archivo = input('Ingrese el archivo')\n",
    "    workbook = load_workbook(filename=archivo)\n",
    "    print(workbook.active)\n",
    "    print(workbook.sheetnames)\n",
    "    print(workbook.worksheets)\n",
    "    \n",
    "    hoja = input('Ingrese la hoja con la que desea trabajar')\n",
    "    \n",
    "    ws2 = workbook[hoja]\n",
    "    \n",
    "    \n",
    "    print('-' * 50)\n",
    "    \n",
    "    \n",
    "    Tarea1 = []\n",
    "    \n",
    "    cell_range = ws2['C2':'C4']\n",
    "    for cell in cell_range:\n",
    "        x = (cell[0].value)\n",
    "        Tarea1.append(x)\n",
    "    print('Las calificaciones de la tarea 1 son:')\n",
    "    print(Tarea1)\n",
    "    print('El promedio de la tarea 1 es:')\n",
    "    print(stats.mean(Tarea1)) \n",
    "    \n",
    "    \n",
    "    Tarea2 = []\n",
    "    \n",
    "    cell_range = ws2['D2':'D4']\n",
    "    for cell in cell_range:\n",
    "        x = (cell[0].value)\n",
    "        Tarea2.append(x)\n",
    "    print('Las calificaciones de la tarea 2 son:')\n",
    "    print(Tarea2)\n",
    "    print('El promedio de la tarea 2 es:')\n",
    "    print(stats.mean(Tarea2)) \n",
    "    \n",
    "    \n",
    "    Tarea3 = []\n",
    "    \n",
    "    cell_range = ws2['E2':'E4']\n",
    "    for cell in cell_range:\n",
    "        x = (cell[0].value)\n",
    "        Tarea3.append(x)\n",
    "    print('Las calificaciones de la tarea 3 son:')\n",
    "    print(Tarea3)\n",
    "    print('El promedio de la tarea 3 es:')\n",
    "    print(stats.mean(Tarea3)) \n",
    "    \n",
    "    \n",
    "    Tarea4 = []\n",
    "    \n",
    "    cell_range = ws2['F2':'F4']\n",
    "    for cell in cell_range:\n",
    "        x = (cell[0].value)\n",
    "        Tarea4.append(x)\n",
    "    print('Las calificaciones de la tarea 4 son:')\n",
    "    print(Tarea4)\n",
    "    print('El promedio de la tarea 4 es:')\n",
    "    print(stats.mean(Tarea4)) \n",
    "    \n",
    "    \n",
    "    Tarea5 = []\n",
    "    \n",
    "    cell_range = ws2['G2':'G4']\n",
    "    for cell in cell_range:\n",
    "        x = (cell[0].value)\n",
    "        Tarea5.append(x)\n",
    "    print('Las calificaciones de la tarea 5 son:')\n",
    "    print(Tarea5)\n",
    "    print('El promedio de la tarea 5 es:')\n",
    "    print(stats.mean(Tarea5)) \n",
    "    \n",
    "    \n",
    "    Tarea6 = []\n",
    "    \n",
    "    cell_range = ws2['H2':'H4']\n",
    "    for cell in cell_range:\n",
    "        x = (cell[0].value)\n",
    "        Tarea6.append(x)\n",
    "    print('Las calificaciones de la tarea 6 son:')\n",
    "    print(Tarea6)\n",
    "    print('El promedio de la tarea 6 es:')\n",
    "    print(stats.mean(Tarea6)) \n",
    "    \n",
    "    \n",
    "    Tarea7 = []\n",
    "    \n",
    "    cell_range = ws2['I2':'I4']\n",
    "    for cell in cell_range:\n",
    "        x = (cell[0].value)\n",
    "        Tarea7.append(x)\n",
    "    print('Las calificaciones de la tarea 7 son:')\n",
    "    print(Tarea7)\n",
    "    print('El promedio de la tarea 7 es:')\n",
    "    print(stats.mean(Tarea7)) \n",
    "    \n",
    "    \n",
    "    Tarea8 = []\n",
    "    \n",
    "    cell_range = ws2['J2':'J4']\n",
    "    for cell in cell_range:\n",
    "        x = (cell[0].value)\n",
    "        Tarea8.append(x)\n",
    "    print('Las calificaciones de la tarea 8 son:')\n",
    "    print(Tarea8)\n",
    "    print('El promedio de la tarea 8 es:')\n",
    "    print(stats.mean(Tarea8)) \n",
    "    \n",
    "    \n",
    "    Tarea9 = []\n",
    "    \n",
    "    cell_range = ws2['K2':'K4']\n",
    "    for cell in cell_range:\n",
    "        x = (cell[0].value)\n",
    "        Tarea9.append(x)\n",
    "    print('Las calificaciones de la tarea 9 son:')\n",
    "    print(Tarea9)\n",
    "    print('El promedio de la tarea 9 es:')\n",
    "    print(stats.mean(Tarea9)) \n",
    "    \n",
    "    Tarea10 = []\n",
    "    \n",
    "    cell_range = ws2['L2':'L4']\n",
    "    for cell in cell_range:\n",
    "        x = (cell[0].value)\n",
    "        Tarea10.append(x)\n",
    "    print('Las calificaciones de la tarea 10 son:')\n",
    "    print(Tarea10)\n",
    "    print('El promedio de la tarea 10 es:')\n",
    "    print(stats.mean(Tarea10)) \n",
    "    \n",
    "    \n",
    "\n",
    "    \n",
    "    print('-' * 50)\n",
    "    \n",
    "    \n",
    "    \n",
    "    \n",
    "    Tarea1 = []\n",
    "    \n",
    "    cell_range = ws2['C2':'C4']\n",
    "    for cell in cell_range:\n",
    "        x = (cell[0].value)\n",
    "        Tarea1.append(x)\n",
    "    print('Las calificaciones de la tarea 1 son:')\n",
    "    print(Tarea1)\n",
    "    print('La varianza de la tarea 1 es:')\n",
    "    print(stats.pvariance(Tarea1)) \n",
    "    \n",
    "    \n",
    "    Tarea2 = []\n",
    "    \n",
    "    cell_range = ws2['D2':'D4']\n",
    "    for cell in cell_range:\n",
    "        x = (cell[0].value)\n",
    "        Tarea2.append(x)\n",
    "    print('Las calificaciones de la tarea 2 son:')\n",
    "    print(Tarea2)\n",
    "    print('La varianza de la tarea 2 es:')\n",
    "    print(stats.pvariance(Tarea2)) \n",
    "    \n",
    "    \n",
    "    Tarea3 = []\n",
    "    \n",
    "    cell_range = ws2['E2':'E4']\n",
    "    for cell in cell_range:\n",
    "        x = (cell[0].value)\n",
    "        Tarea3.append(x)\n",
    "    print('Las calificaciones de la tarea 3 son:')\n",
    "    print(Tarea3)\n",
    "    print('La varianza de la tarea 3 es:')\n",
    "    print(stats.pvariance(Tarea3)) \n",
    "    \n",
    "    \n",
    "    Tarea4 = []\n",
    "    \n",
    "    cell_range = ws2['F2':'F4']\n",
    "    for cell in cell_range:\n",
    "        x = (cell[0].value)\n",
    "        Tarea4.append(x)\n",
    "    print('Las calificaciones de la tarea 4 son:')\n",
    "    print(Tarea4)\n",
    "    print('La varianza de la tarea 4 es:')\n",
    "    print(stats.pvariance(Tarea4)) \n",
    "    \n",
    "    \n",
    "    Tarea5 = []\n",
    "    \n",
    "    cell_range = ws2['G2':'G4']\n",
    "    for cell in cell_range:\n",
    "        x = (cell[0].value)\n",
    "        Tarea5.append(x)\n",
    "    print('Las calificaciones de la tarea 5 son:')\n",
    "    print(Tarea5)\n",
    "    print('La varianza de la tarea 5 es:')\n",
    "    print(stats.pvariance(Tarea5)) \n",
    "    \n",
    "    \n",
    "    Tarea6 = []\n",
    "    \n",
    "    cell_range = ws2['H2':'H4']\n",
    "    for cell in cell_range:\n",
    "        x = (cell[0].value)\n",
    "        Tarea6.append(x)\n",
    "    print('Las calificaciones de la tarea 6 son:')\n",
    "    print(Tarea6)\n",
    "    print('La varianza de la tarea 6 es:')\n",
    "    print(stats.pvariance(Tarea6)) \n",
    "    \n",
    "    \n",
    "    Tarea7 = []\n",
    "    \n",
    "    cell_range = ws2['I2':'I4']\n",
    "    for cell in cell_range:\n",
    "        x = (cell[0].value)\n",
    "        Tarea7.append(x)\n",
    "    print('Las calificaciones de la tarea 7 son:')\n",
    "    print(Tarea7)\n",
    "    print('La varianza de la tarea 7 es:')\n",
    "    print(stats.pvariance(Tarea7)) \n",
    "    \n",
    "    \n",
    "    Tarea8 = []\n",
    "    \n",
    "    cell_range = ws2['J2':'J4']\n",
    "    for cell in cell_range:\n",
    "        x = (cell[0].value)\n",
    "        Tarea8.append(x)\n",
    "    print('Las calificaciones de la tarea 8 son:')\n",
    "    print(Tarea8)\n",
    "    print('La varianza de la tarea 8 es:')\n",
    "    print(stats.pvariance(Tarea8)) \n",
    "    \n",
    "    \n",
    "    Tarea9 = []\n",
    "    \n",
    "    cell_range = ws2['K2':'K4']\n",
    "    for cell in cell_range:\n",
    "        x = (cell[0].value)\n",
    "        Tarea9.append(x)\n",
    "    print('Las calificaciones de la tarea 9 son:')\n",
    "    print(Tarea9)\n",
    "    print('La varianza de la tarea 9 es:')\n",
    "    print(stats.pvariance(Tarea9)) \n",
    "    \n",
    "    Tarea10 = []\n",
    "    \n",
    "    cell_range = ws2['L2':'L4']\n",
    "    for cell in cell_range:\n",
    "        x = (cell[0].value)\n",
    "        Tarea10.append(x)\n",
    "    print('Las calificaciones de la tarea 10 son:')\n",
    "    print(Tarea10)\n",
    "    print('La varianza de la tarea 10 es:')\n",
    "    print(stats.pvariance(Tarea10)) \n",
    "    \n",
    "    \n",
    "    \n",
    "    \n",
    "    \n",
    "    \n",
    "    \n",
    "    \n",
    "    \n",
    "    print('-' * 50)\n",
    "    \n",
    "    \n",
    "    \n",
    "    \n",
    "    Tarea1 = []\n",
    "    \n",
    "    cell_range = ws2['C2':'C4']\n",
    "    for cell in cell_range:\n",
    "        x = (cell[0].value)\n",
    "        Tarea1.append(x)\n",
    "    print('Las calificaciones de la tarea 1 son:')\n",
    "    print(Tarea1)\n",
    "    print('La desviación estándar de la tarea 1 es:')\n",
    "    print(stats.pstdev(Tarea1)) \n",
    "    \n",
    "    \n",
    "    Tarea2 = []\n",
    "    \n",
    "    cell_range = ws2['D2':'D4']\n",
    "    for cell in cell_range:\n",
    "        x = (cell[0].value)\n",
    "        Tarea2.append(x)\n",
    "    print('Las calificaciones de la tarea 2 son:')\n",
    "    print(Tarea2)\n",
    "    print('La desviación estándar de la tarea 2 es:')\n",
    "    print(stats.pstdev(Tarea2)) \n",
    "    \n",
    "    \n",
    "    Tarea3 = []\n",
    "    \n",
    "    cell_range = ws2['E2':'E4']\n",
    "    for cell in cell_range:\n",
    "        x = (cell[0].value)\n",
    "        Tarea3.append(x)\n",
    "    print('Las calificaciones de la tarea 3 son:')\n",
    "    print(Tarea3)\n",
    "    print('La desviación estándar de la tarea 3 es:')\n",
    "    print(stats.pstdev(Tarea3)) \n",
    "    \n",
    "    \n",
    "    Tarea4 = []\n",
    "    \n",
    "    cell_range = ws2['F2':'F4']\n",
    "    for cell in cell_range:\n",
    "        x = (cell[0].value)\n",
    "        Tarea4.append(x)\n",
    "    print('Las calificaciones de la tarea 4 son:')\n",
    "    print(Tarea4)\n",
    "    print('La desviación estándar de la tarea 4 es:')\n",
    "    print(stats.pstdev(Tarea4))  \n",
    "    \n",
    "    \n",
    "    Tarea5 = []\n",
    "    \n",
    "    cell_range = ws2['G2':'G4']\n",
    "    for cell in cell_range:\n",
    "        x = (cell[0].value)\n",
    "        Tarea5.append(x)\n",
    "    print('Las calificaciones de la tarea 5 son:')\n",
    "    print(Tarea5)\n",
    "    print('La desviación estándar de la tarea 5 es:')\n",
    "    print(stats.pstdev(Tarea5)) \n",
    "    \n",
    "    \n",
    "    Tarea6 = []\n",
    "    \n",
    "    cell_range = ws2['H2':'H4']\n",
    "    for cell in cell_range:\n",
    "        x = (cell[0].value)\n",
    "        Tarea6.append(x)\n",
    "    print('Las calificaciones de la tarea 6 son:')\n",
    "    print(Tarea6)\n",
    "    print('La desviación estándar de la tarea 6 es:')\n",
    "    print(stats.pstdev(Tarea6)) \n",
    "    \n",
    "    \n",
    "    Tarea7 = []\n",
    "    \n",
    "    cell_range = ws2['I2':'I4']\n",
    "    for cell in cell_range:\n",
    "        x = (cell[0].value)\n",
    "        Tarea7.append(x)\n",
    "    print('Las calificaciones de la tarea 7 son:')\n",
    "    print(Tarea7)\n",
    "    print('La desviación estándar de la tarea 7 es:')\n",
    "    print(stats.pstdev(Tarea7)) \n",
    "    \n",
    "    \n",
    "    Tarea8 = []\n",
    "    \n",
    "    cell_range = ws2['J2':'J4']\n",
    "    for cell in cell_range:\n",
    "        x = (cell[0].value)\n",
    "        Tarea8.append(x)\n",
    "    print('Las calificaciones de la tarea 8 son:')\n",
    "    print(Tarea8)\n",
    "    print('La desviación estándar de la tarea 8 es:')\n",
    "    print(stats.pstdev(Tarea8)) \n",
    "    \n",
    "    \n",
    "    Tarea9 = []\n",
    "    \n",
    "    cell_range = ws2['K2':'K4']\n",
    "    for cell in cell_range:\n",
    "        x = (cell[0].value)\n",
    "        Tarea9.append(x)\n",
    "    print('Las calificaciones de la tarea 9 son:')\n",
    "    print(Tarea9)\n",
    "    print('La desviación estándar de la tarea 9 es:')\n",
    "    print(stats.pstdev(Tarea9)) \n",
    "    \n",
    "    Tarea10 = []\n",
    "    \n",
    "    cell_range = ws2['L2':'L4']\n",
    "    for cell in cell_range:\n",
    "        x = (cell[0].value)\n",
    "        Tarea10.append(x)\n",
    "    print('Las calificaciones de la tarea 10 son:')\n",
    "    print(Tarea10)\n",
    "    print('La desviación estándar de la tarea 10 es:')\n",
    "    print(stats.pstdev(Tarea10))"
   ]
  },
  {
   "cell_type": "code",
   "execution_count": 18,
   "metadata": {},
   "outputs": [
    {
     "name": "stdout",
     "output_type": "stream",
     "text": [
      "Ingrese el archivoestudiantes.xlsx\n",
      "<Worksheet \"1002\">\n",
      "['estudiantes', '1002']\n",
      "[<Worksheet \"estudiantes\">, <Worksheet \"1002\">]\n",
      "Ingrese la hoja con la que desea trabajar1002\n",
      "--------------------------------------------------\n",
      "Las calificaciones de la tarea 1 son:\n",
      "[9, 9, 9]\n",
      "El promedio de la tarea 1 es:\n",
      "9\n",
      "Las calificaciones de la tarea 2 son:\n",
      "[7, 8, 7]\n",
      "El promedio de la tarea 2 es:\n",
      "7.333333333333333\n",
      "Las calificaciones de la tarea 3 son:\n",
      "[8, 3, 5]\n",
      "El promedio de la tarea 3 es:\n",
      "5.333333333333333\n",
      "Las calificaciones de la tarea 4 son:\n",
      "[10, 10, 9]\n",
      "El promedio de la tarea 4 es:\n",
      "9.666666666666666\n",
      "Las calificaciones de la tarea 5 son:\n",
      "[6, 8, 7]\n",
      "El promedio de la tarea 5 es:\n",
      "7\n",
      "Las calificaciones de la tarea 6 son:\n",
      "[1, 3, 1]\n",
      "El promedio de la tarea 6 es:\n",
      "1.6666666666666667\n",
      "Las calificaciones de la tarea 7 son:\n",
      "[4, 8, 10]\n",
      "El promedio de la tarea 7 es:\n",
      "7.333333333333333\n",
      "Las calificaciones de la tarea 8 son:\n",
      "[7, 7, 7]\n",
      "El promedio de la tarea 8 es:\n",
      "7\n",
      "Las calificaciones de la tarea 9 son:\n",
      "[8, 4, 9]\n",
      "El promedio de la tarea 9 es:\n",
      "7\n",
      "Las calificaciones de la tarea 10 son:\n",
      "[9, 5, 8]\n",
      "El promedio de la tarea 10 es:\n",
      "7.333333333333333\n",
      "--------------------------------------------------\n",
      "Las calificaciones de la tarea 1 son:\n",
      "[9, 9, 9]\n",
      "La varianza de la tarea 1 es:\n",
      "0\n",
      "Las calificaciones de la tarea 2 son:\n",
      "[7, 8, 7]\n",
      "La varianza de la tarea 2 es:\n",
      "0.22222222222222224\n",
      "Las calificaciones de la tarea 3 son:\n",
      "[8, 3, 5]\n",
      "La varianza de la tarea 3 es:\n",
      "4.222222222222222\n",
      "Las calificaciones de la tarea 4 son:\n",
      "[10, 10, 9]\n",
      "La varianza de la tarea 4 es:\n",
      "0.2222222222222222\n",
      "Las calificaciones de la tarea 5 son:\n",
      "[6, 8, 7]\n",
      "La varianza de la tarea 5 es:\n",
      "0.6666666666666666\n",
      "Las calificaciones de la tarea 6 son:\n",
      "[1, 3, 1]\n",
      "La varianza de la tarea 6 es:\n",
      "0.888888888888889\n",
      "Las calificaciones de la tarea 7 son:\n",
      "[4, 8, 10]\n",
      "La varianza de la tarea 7 es:\n",
      "6.222222222222222\n",
      "Las calificaciones de la tarea 8 son:\n",
      "[7, 7, 7]\n",
      "La varianza de la tarea 8 es:\n",
      "0\n",
      "Las calificaciones de la tarea 9 son:\n",
      "[8, 4, 9]\n",
      "La varianza de la tarea 9 es:\n",
      "4.666666666666667\n",
      "Las calificaciones de la tarea 10 son:\n",
      "[9, 5, 8]\n",
      "La varianza de la tarea 10 es:\n",
      "2.888888888888889\n",
      "--------------------------------------------------\n",
      "Las calificaciones de la tarea 1 son:\n",
      "[9, 9, 9]\n",
      "La desviación estándar de la tarea 1 es:\n",
      "0.0\n",
      "Las calificaciones de la tarea 2 son:\n",
      "[7, 8, 7]\n",
      "La desviación estándar de la tarea 2 es:\n",
      "0.4714045207910317\n",
      "Las calificaciones de la tarea 3 son:\n",
      "[8, 3, 5]\n",
      "La desviación estándar de la tarea 3 es:\n",
      "2.0548046676563256\n",
      "Las calificaciones de la tarea 4 son:\n",
      "[10, 10, 9]\n",
      "La desviación estándar de la tarea 4 es:\n",
      "0.4714045207910317\n",
      "Las calificaciones de la tarea 5 son:\n",
      "[6, 8, 7]\n",
      "La desviación estándar de la tarea 5 es:\n",
      "0.816496580927726\n",
      "Las calificaciones de la tarea 6 son:\n",
      "[1, 3, 1]\n",
      "La desviación estándar de la tarea 6 es:\n",
      "0.9428090415820634\n",
      "Las calificaciones de la tarea 7 son:\n",
      "[4, 8, 10]\n",
      "La desviación estándar de la tarea 7 es:\n",
      "2.494438257849294\n",
      "Las calificaciones de la tarea 8 son:\n",
      "[7, 7, 7]\n",
      "La desviación estándar de la tarea 8 es:\n",
      "0.0\n",
      "Las calificaciones de la tarea 9 son:\n",
      "[8, 4, 9]\n",
      "La desviación estándar de la tarea 9 es:\n",
      "2.160246899469287\n",
      "Las calificaciones de la tarea 10 son:\n",
      "[9, 5, 8]\n",
      "La desviación estándar de la tarea 10 es:\n",
      "1.699673171197595\n"
     ]
    }
   ],
   "source": [
    "mesures()"
   ]
  },
  {
   "cell_type": "code",
   "execution_count": 19,
   "metadata": {},
   "outputs": [],
   "source": [
    "import matplotlib.pyplot as plt"
   ]
  },
  {
   "cell_type": "code",
   "execution_count": 20,
   "metadata": {},
   "outputs": [
    {
     "data": {
      "text/plain": [
       "<matplotlib.legend.Legend at 0x1d4cac397c0>"
      ]
     },
     "execution_count": 20,
     "metadata": {},
     "output_type": "execute_result"
    },
    {
     "data": {
      "image/png": "[encoded data removed]",
      "text/plain": [
       "<Figure size 432x288 with 1 Axes>"
      ]
     },
     "metadata": {
      "needs_background": "light"
     },
     "output_type": "display_data"
    }
   ],
   "source": [
    "plt.plot((0, 0), (0, 9), label = 'Promedio =  9')\n",
    "plt.plot((0, 2),(9, 9))\n",
    "plt.plot((2, 2),(0, 9))\n",
    "\n",
    "plt.plot((3, 3), (0, 9), label = 'Varianza = 0')\n",
    "plt.plot((3, 5),(9, 9))\n",
    "plt.plot((5, 5),(9, 0))\n",
    "\n",
    "plt.plot((6, 6),(0, 9), label = 'Desviación estandar = 0.0')\n",
    "plt.plot((6, 8),(9, 9))\n",
    "plt.plot((8, 8),(9, 0))\n",
    "\n",
    "plt.xticks([1, 4, 7], ['Ricardo', 'Daniel', 'Aline'], rotation = 45)\n",
    "plt.title('Calificaciones Tarea 1')\n",
    "plt.xlabel('Alumnos')\n",
    "plt.ylabel('Calificacion')\n",
    "\n",
    "plt.grid()\n",
    "plt.legend()"
   ]
  },
  {
   "cell_type": "code",
   "execution_count": 21,
   "metadata": {},
   "outputs": [
    {
     "data": {
      "text/plain": [
       "<matplotlib.legend.Legend at 0x1d4cad60f10>"
      ]
     },
     "execution_count": 21,
     "metadata": {},
     "output_type": "execute_result"
    },
    {
     "data": {
      "image/png": "[encoded data removed]",
      "text/plain": [
       "<Figure size 432x288 with 1 Axes>"
      ]
     },
     "metadata": {
      "needs_background": "light"
     },
     "output_type": "display_data"
    }
   ],
   "source": [
    "plt.plot((0, 0), (0, 7), label = 'Promedio =  7.33')\n",
    "plt.plot((0, 2),(7, 7))\n",
    "plt.plot((2, 2),(0, 7))\n",
    "\n",
    "plt.plot((3, 3), (0, 8), label = 'Varianza = 0.22')\n",
    "plt.plot((3, 5),(8, 8))\n",
    "plt.plot((5, 5),(8, 0))\n",
    "\n",
    "plt.plot((6, 6),(0, 7), label = 'Desviación estandar = 0.47')\n",
    "plt.plot((6, 8),(7, 7))\n",
    "plt.plot((8, 8),(7, 0))\n",
    "\n",
    "plt.xticks([1, 4, 7], ['Ricardo', 'Daniel', 'Aline'], rotation = 45)\n",
    "plt.title('Calificaciones Tarea 2')\n",
    "plt.xlabel('Alumnos')\n",
    "plt.ylabel('Calificacion')\n",
    "\n",
    "plt.grid()\n",
    "plt.legend()"
   ]
  },
  {
   "cell_type": "code",
   "execution_count": 22,
   "metadata": {},
   "outputs": [
    {
     "data": {
      "text/plain": [
       "<matplotlib.legend.Legend at 0x1d4cadf18b0>"
      ]
     },
     "execution_count": 22,
     "metadata": {},
     "output_type": "execute_result"
    },
    {
     "data": {
      "image/png": "[encoded data removed]",
      "text/plain": [
       "<Figure size 432x288 with 1 Axes>"
      ]
     },
     "metadata": {
      "needs_background": "light"
     },
     "output_type": "display_data"
    }
   ],
   "source": [
    "plt.plot((0, 0), (0, 8), label = 'Promedio =  5.33')\n",
    "plt.plot((0, 2),(8, 8))\n",
    "plt.plot((2, 2),(0, 8))\n",
    "\n",
    "plt.plot((3, 3), (0, 3), label = 'Varianza = 4.22')\n",
    "plt.plot((3, 5),(3, 3))\n",
    "plt.plot((5, 5),(3, 0))\n",
    "\n",
    "plt.plot((6, 6),(0, 5), label = 'Desviación estandar = 2.05')\n",
    "plt.plot((6, 8),(5, 5))\n",
    "plt.plot((8, 8),(5, 0))\n",
    "\n",
    "plt.xticks([1, 4, 7], ['Ricardo', 'Daniel', 'Aline'], rotation = 45)\n",
    "plt.title('Calificaciones Tarea 3')\n",
    "plt.xlabel('Alumnos')\n",
    "plt.ylabel('Calificacion')\n",
    "\n",
    "plt.grid()\n",
    "plt.legend()"
   ]
  },
  {
   "cell_type": "code",
   "execution_count": 23,
   "metadata": {},
   "outputs": [
    {
     "data": {
      "text/plain": [
       "<matplotlib.legend.Legend at 0x1d4cbe3fb80>"
      ]
     },
     "execution_count": 23,
     "metadata": {},
     "output_type": "execute_result"
    },
    {
     "data": {
      "image/png": "[encoded data removed]",
      "text/plain": [
       "<Figure size 432x288 with 1 Axes>"
      ]
     },
     "metadata": {
      "needs_background": "light"
     },
     "output_type": "display_data"
    }
   ],
   "source": [
    "plt.plot((0, 0), (0, 10), label = 'Promedio =  9.66')\n",
    "plt.plot((0, 2),(10, 10))\n",
    "plt.plot((2, 2),(0, 10))\n",
    "\n",
    "plt.plot((3, 3), (0, 10), label = 'Varianza = 0.22')\n",
    "plt.plot((3, 5),(10, 10))\n",
    "plt.plot((5, 5),(10, 0))\n",
    "\n",
    "plt.plot((6, 6),(0, 9), label = 'Desviación estandar = 0.47')\n",
    "plt.plot((6, 8),(9, 9))\n",
    "plt.plot((8, 8),(9, 0))\n",
    "\n",
    "plt.xticks([1, 4, 7], ['Ricardo', 'Daniel', 'Aline'], rotation = 45)\n",
    "plt.title('Calificaciones Tarea 4')\n",
    "plt.xlabel('Alumnos')\n",
    "plt.ylabel('Calificacion')\n",
    "\n",
    "plt.grid()\n",
    "plt.legend()"
   ]
  },
  {
   "cell_type": "code",
   "execution_count": 24,
   "metadata": {},
   "outputs": [
    {
     "data": {
      "text/plain": [
       "<matplotlib.legend.Legend at 0x1d4cbebb8e0>"
      ]
     },
     "execution_count": 24,
     "metadata": {},
     "output_type": "execute_result"
    },
    {
     "data": {
      "image/png": "[encoded data removed]",
      "text/plain": [
       "<Figure size 432x288 with 1 Axes>"
      ]
     },
     "metadata": {
      "needs_background": "light"
     },
     "output_type": "display_data"
    }
   ],
   "source": [
    "plt.plot((0, 0), (0, 6), label = 'Promedio =  7')\n",
    "plt.plot((0, 2),(6, 6))\n",
    "plt.plot((2, 2),(0, 6))\n",
    "\n",
    "plt.plot((3, 3), (0, 8), label = 'Varianza = 0.66')\n",
    "plt.plot((3, 5),(8, 8))\n",
    "plt.plot((5, 5),(8, 0))\n",
    "\n",
    "plt.plot((6, 6),(0, 7), label = 'Desviación estandar = 0.81')\n",
    "plt.plot((6, 8),(7, 7))\n",
    "plt.plot((8, 8),(7, 0))\n",
    "\n",
    "plt.xticks([1, 4, 7], ['Ricardo', 'Daniel', 'Aline'], rotation = 45)\n",
    "plt.title('Calificaciones Tarea 5')\n",
    "plt.xlabel('Alumnos')\n",
    "plt.ylabel('Calificacion')\n",
    "\n",
    "plt.grid()\n",
    "plt.legend()"
   ]
  },
  {
   "cell_type": "code",
   "execution_count": 25,
   "metadata": {},
   "outputs": [
    {
     "data": {
      "text/plain": [
       "<matplotlib.legend.Legend at 0x1d4cbf3a880>"
      ]
     },
     "execution_count": 25,
     "metadata": {},
     "output_type": "execute_result"
    },
    {
     "data": {
      "image/png": "[encoded data removed]",
      "text/plain": [
       "<Figure size 432x288 with 1 Axes>"
      ]
     },
     "metadata": {
      "needs_background": "light"
     },
     "output_type": "display_data"
    }
   ],
   "source": [
    "plt.plot((0, 0), (0, 1), label = 'Promedio =  1.66')\n",
    "plt.plot((0, 2),(1, 1))\n",
    "plt.plot((2, 2),(1, 0))\n",
    "\n",
    "plt.plot((3, 3), (0, 3), label = 'Varianza = 0.88')\n",
    "plt.plot((3, 5),(3, 3))\n",
    "plt.plot((5, 5),(3, 0))\n",
    "\n",
    "plt.plot((6, 6),(0, 1), label = 'Desviación estandar = 0.94')\n",
    "plt.plot((6, 8),(1, 1))\n",
    "plt.plot((8, 8),(1, 0))\n",
    "\n",
    "plt.xticks([1, 4, 7], ['Ricardo', 'Daniel', 'Aline'], rotation = 45)\n",
    "plt.title('Calificaciones Tarea 6')\n",
    "plt.xlabel('Alumnos')\n",
    "plt.ylabel('Calificacion')\n",
    "\n",
    "plt.grid()\n",
    "plt.legend()"
   ]
  },
  {
   "cell_type": "code",
   "execution_count": 26,
   "metadata": {},
   "outputs": [
    {
     "data": {
      "text/plain": [
       "<matplotlib.legend.Legend at 0x1d4cbfb3df0>"
      ]
     },
     "execution_count": 26,
     "metadata": {},
     "output_type": "execute_result"
    },
    {
     "data": {
      "image/png": "[encoded data removed]",
      "text/plain": [
       "<Figure size 432x288 with 1 Axes>"
      ]
     },
     "metadata": {
      "needs_background": "light"
     },
     "output_type": "display_data"
    }
   ],
   "source": [
    "plt.plot((0, 0), (0, 4), label = 'Promedio =  7.33')\n",
    "plt.plot((0, 2),(4, 4))\n",
    "plt.plot((2, 2),(4, 0))\n",
    "\n",
    "plt.plot((3, 3), (0, 8), label = 'Varianza = 6.22')\n",
    "plt.plot((3, 5),(8, 8))\n",
    "plt.plot((5, 5),(8, 0))\n",
    "\n",
    "plt.plot((6, 6),(0, 10), label = 'Desviación estandar = 2.49')\n",
    "plt.plot((6, 8),(10, 10))\n",
    "plt.plot((8, 8),(10, 0))\n",
    "\n",
    "plt.xticks([1, 4, 7], ['Ricardo', 'Daniel', 'Aline'], rotation = 45)\n",
    "plt.title('Calificaciones Tarea 7')\n",
    "plt.xlabel('Alumnos')\n",
    "plt.ylabel('Calificacion')\n",
    "\n",
    "plt.grid()\n",
    "plt.legend()"
   ]
  },
  {
   "cell_type": "code",
   "execution_count": 27,
   "metadata": {},
   "outputs": [
    {
     "data": {
      "text/plain": [
       "<matplotlib.legend.Legend at 0x1d4cc02cd30>"
      ]
     },
     "execution_count": 27,
     "metadata": {},
     "output_type": "execute_result"
    },
    {
     "data": {
      "image/png": "[encoded data removed]",
      "text/plain": [
       "<Figure size 432x288 with 1 Axes>"
      ]
     },
     "metadata": {
      "needs_background": "light"
     },
     "output_type": "display_data"
    }
   ],
   "source": [
    "plt.plot((0, 0), (0, 7), label = 'Promedio =  7')\n",
    "plt.plot((0, 2),(7, 7))\n",
    "plt.plot((2, 2),(0, 7))\n",
    "\n",
    "plt.plot((3, 3), (0, 7), label = 'Varianza = 0')\n",
    "plt.plot((3, 5),(7, 7))\n",
    "plt.plot((5, 5),(7, 0))\n",
    "\n",
    "plt.plot((6, 6),(0, 7), label = 'Desviación estandar = 0.0')\n",
    "plt.plot((6, 8),(7, 7))\n",
    "plt.plot((8, 8),(7, 0))\n",
    "\n",
    "plt.xticks([1, 4, 7], ['Ricardo', 'Daniel', 'Aline'], rotation = 45)\n",
    "plt.title('Calificaciones Tarea 8')\n",
    "plt.xlabel('Alumnos')\n",
    "plt.ylabel('Calificacion')\n",
    "\n",
    "plt.grid()\n",
    "plt.legend()"
   ]
  },
  {
   "cell_type": "code",
   "execution_count": 28,
   "metadata": {},
   "outputs": [
    {
     "data": {
      "text/plain": [
       "<matplotlib.legend.Legend at 0x1d4cc0ac8b0>"
      ]
     },
     "execution_count": 28,
     "metadata": {},
     "output_type": "execute_result"
    },
    {
     "data": {
      "image/png": "[encoded data removed]",
      "text/plain": [
       "<Figure size 432x288 with 1 Axes>"
      ]
     },
     "metadata": {
      "needs_background": "light"
     },
     "output_type": "display_data"
    }
   ],
   "source": [
    "plt.plot((0, 0), (0, 8), label = 'Promedio =  7')\n",
    "plt.plot((0, 2),(8, 8))\n",
    "plt.plot((2, 2),(8, 0))\n",
    "\n",
    "plt.plot((3, 3), (0, 4), label = 'Varianza = 4.66')\n",
    "plt.plot((3, 5),(4, 4))\n",
    "plt.plot((5, 5),(4, 0))\n",
    "\n",
    "plt.plot((6, 6),(0, 9), label = 'Desviación estandar = 2.16')\n",
    "plt.plot((6, 8),(9, 9))\n",
    "plt.plot((8, 8),(9, 0))\n",
    "\n",
    "plt.xticks([1, 4, 7], ['Ricardo', 'Daniel', 'Aline'], rotation = 45)\n",
    "plt.title('Calificaciones Tarea 9')\n",
    "plt.xlabel('Alumnos')\n",
    "plt.ylabel('Calificacion')\n",
    "\n",
    "plt.grid()\n",
    "plt.legend()"
   ]
  },
  {
   "cell_type": "code",
   "execution_count": 29,
   "metadata": {},
   "outputs": [
    {
     "data": {
      "text/plain": [
       "<matplotlib.legend.Legend at 0x1d4cc110430>"
      ]
     },
     "execution_count": 29,
     "metadata": {},
     "output_type": "execute_result"
    },
    {
     "data": {
      "image/png": "[encoded data removed]",
      "text/plain": [
       "<Figure size 432x288 with 1 Axes>"
      ]
     },
     "metadata": {
      "needs_background": "light"
     },
     "output_type": "display_data"
    }
   ],
   "source": [
    "plt.plot((0, 0), (0, 9), label = 'Promedio =  7.33')\n",
    "plt.plot((0, 2),(9, 9))\n",
    "plt.plot((2, 2),(9, 0))\n",
    "\n",
    "plt.plot((3, 3), (0, 5), label = 'Varianza = 2.88')\n",
    "plt.plot((3, 5),(5, 5))\n",
    "plt.plot((5, 5),(5, 0))\n",
    "\n",
    "plt.plot((6, 6),(0, 8), label = 'Desviación estandar = 1.69')\n",
    "plt.plot((6, 8),(8, 8))\n",
    "plt.plot((8, 8),(8, 0))\n",
    "\n",
    "plt.xticks([1, 4, 7], ['Ricardo', 'Daniel', 'Aline'], rotation = 45)\n",
    "plt.title('Calificaciones Tarea 10')\n",
    "plt.xlabel('Alumnos')\n",
    "plt.ylabel('Calificacion')\n",
    "\n",
    "plt.grid()\n",
    "plt.legend()"
   ]
  },
  {
   "cell_type": "code",
   "execution_count": null,
   "metadata": {},
   "outputs": [],
   "source": []
  }
 ],
 "metadata": {
  "kernelspec": {
   "display_name": "Python 3",
   "language": "python",
   "name": "python3"
  },
  "language_info": {
   "codemirror_mode": {
    "name": "ipython",
    "version": 3
   },
   "file_extension": ".py",
   "mimetype": "text/x-python",
   "name": "python",
   "nbconvert_exporter": "python",
   "pygments_lexer": "ipython3",
   "version": "3.8.3"
  }
 },
 "nbformat": 4,
 "nbformat_minor": 4
}

{
 "cells": [
  {
   "cell_type": "markdown",
   "metadata": {},
   "source": [
    "# Práctica 2 \n",
    "## Herramientas Computacionales\n",
    "#### Autor: Mosso Mendoza Evelyn Abigail\n"
   ]
  },
  {
   "cell_type": "markdown",
   "metadata": {},
   "source": [
    "# 1. Operaciones relacionadas con cadenas"
   ]
  },
  {
   "cell_type": "markdown",
   "metadata": {},
   "source": [
    "***a) Cree una cadena con palabras separadas por \",\" y reemplace las comas con espacios***"
   ]
  },
  {
   "cell_type": "code",
   "execution_count": 8,
   "metadata": {},
   "outputs": [
    {
     "name": "stdout",
     "output_type": "stream",
     "text": [
      "Los libros que me parecen muy interesantes son:\n",
      "Corazón criollo, El Príncipe, Cien años de Soledad, Lobo estepario, La naranja mecánica, etc.\n",
      "Corazón criollo  El Príncipe  Cien años de Soledad  Lobo estepario  La naranja mecánica  etc.\n"
     ]
    }
   ],
   "source": [
    "mis_intereses=\"Los libros que me parecen muy interesantes son:\"\n",
    "print(mis_intereses)\n",
    "books=\"Corazón criollo, El Príncipe, Cien años de Soledad, Lobo estepario, La naranja mecánica, etc.\" \n",
    "print(books)\n",
    "print(books.replace(\",\", \" \"))"
   ]
  },
  {
   "cell_type": "code",
   "execution_count": 9,
   "metadata": {},
   "outputs": [
    {
     "name": "stdout",
     "output_type": "stream",
     "text": [
      "Los libros que me parecen muy interesantes son:\n",
      "Corazón criollo|| El Príncipe|| Cien años de Soledad|| Lobo estepario|| La naranja mecánica|| etc.\n",
      "Xorazón criollo, El Príncipe, Xien años de Soledad, //obo estepario, //a naranja mecánica, bye.\n"
     ]
    }
   ],
   "source": [
    "print(mis_intereses)\n",
    "print(books.replace(\",\", \"||\"))\n",
    "print(books.replace(\"C\", \"X\").replace(\"L\", \"//\").replace(\"etc\", \"bye\"))"
   ]
  },
  {
   "cell_type": "markdown",
   "metadata": {},
   "source": [
    "**Otro ejemplo de reemplazo...**"
   ]
  },
  {
   "cell_type": "markdown",
   "metadata": {},
   "source": [
    "***b) Escriba un programa para pedir al usuario dos cadenas y concatenarlas, con un espacio entre ellas, y almacénelas en una variable llamada: new_string.***\n",
    "   * Imprima el valor de **new_string.**\n",
    "   * Imprima la longitud del contenido de **new_string**\n",
    "   * Ahora convierta el contenido de **new_string** a mayúsculas. \n",
    "   * Ahora verifique si **new_string** contiene la cadena **\"Albous\"** como subcadena."
   ]
  },
  {
   "cell_type": "code",
   "execution_count": 4,
   "metadata": {},
   "outputs": [
    {
     "name": "stdout",
     "output_type": "stream",
     "text": [
      "¿Cuál es tu fruta favorita?:El mango\n",
      "¿Por qué?:es dulce y carnoso\n",
      "El mango es dulce y carnoso\n",
      "27\n",
      "EL MANGO ES DULCE Y CARNOSO\n",
      "-1\n"
     ]
    }
   ],
   "source": [
    "my_string1= input(\"¿Cuál es tu fruta favorita?:\")\n",
    "my_string2= input('¿Por qué?:')\n",
    "new_string= my_string1 + \" \" + my_string2\n",
    "print(new_string)\n",
    "print(len(new_string))\n",
    "print(new_string.upper())\n",
    "print(new_string.find(\"Albous\"))"
   ]
  },
  {
   "cell_type": "markdown",
   "metadata": {},
   "source": [
    "***Otro ejemplo más de 2 cadenas concatenadas***"
   ]
  },
  {
   "cell_type": "code",
   "execution_count": 8,
   "metadata": {},
   "outputs": [
    {
     "name": "stdout",
     "output_type": "stream",
     "text": [
      "partes del cuerpo humano: cabeza, rodillas, muslos y cadera\n"
     ]
    }
   ],
   "source": [
    "cadena1='partes del cuerpo humano:'\n",
    "cadena2='cabeza, rodillas, muslos y cadera'\n",
    "cadena3=cadena1 + ' ' + cadena2 \n",
    "print(cadena3)"
   ]
  },
  {
   "cell_type": "code",
   "execution_count": 9,
   "metadata": {},
   "outputs": [
    {
     "data": {
      "text/plain": [
       "59"
      ]
     },
     "execution_count": 9,
     "metadata": {},
     "output_type": "execute_result"
    }
   ],
   "source": [
    "len(cadena3)"
   ]
  },
  {
   "cell_type": "code",
   "execution_count": 11,
   "metadata": {},
   "outputs": [
    {
     "name": "stdout",
     "output_type": "stream",
     "text": [
      "PARTES DEL CUERPO HUMANO: CABEZA, RODILLAS, MUSLOS Y CADERA\n"
     ]
    }
   ],
   "source": [
    "print(cadena3.upper())"
   ]
  },
  {
   "cell_type": "code",
   "execution_count": 13,
   "metadata": {},
   "outputs": [
    {
     "name": "stdout",
     "output_type": "stream",
     "text": [
      "-1\n"
     ]
    }
   ],
   "source": [
    "print(cadena3.find(\"Albous\"))"
   ]
  },
  {
   "cell_type": "markdown",
   "metadata": {},
   "source": [
    "# 2. Conversión de Kilómetros a Millas"
   ]
  },
  {
   "cell_type": "markdown",
   "metadata": {},
   "source": [
    "***a) Tome la entrada del usuario para una distancia determinada en kilómetros. Esto se puede hacer usando la función input()*** "
   ]
  },
  {
   "cell_type": "code",
   "execution_count": 17,
   "metadata": {},
   "outputs": [
    {
     "name": "stdout",
     "output_type": "stream",
     "text": [
      "Ingresa en kilómetros la distancia entre la CDMX y Acapulco: 379.8 Km\n"
     ]
    }
   ],
   "source": [
    "kilómetros= input('Ingresa en kilómetros la distancia entre la CDMX y Acapulco: ')"
   ]
  },
  {
   "cell_type": "markdown",
   "metadata": {},
   "source": [
    "***b) Convierta el valor devuelto por la función input() de una cadena en un entero usando la función int()***"
   ]
  },
  {
   "cell_type": "code",
   "execution_count": 19,
   "metadata": {},
   "outputs": [
    {
     "name": "stdout",
     "output_type": "stream",
     "text": [
      "Distancia entre la CDMX y Acapulco en kilómetros: 380\n",
      "<class 'int'>\n",
      "380\n"
     ]
    }
   ],
   "source": [
    "kilómetros= int(input('Distancia entre la CDMX y Acapulco en kilómetros: '))\n",
    "print(type(kilómetros))\n",
    "print(kilómetros)"
   ]
  },
  {
   "cell_type": "markdown",
   "metadata": {},
   "source": [
    "***c) Ahora convierte este valor en millas; esto se puede hacer multiplicando los kilómetros por 0.6214.***"
   ]
  },
  {
   "cell_type": "code",
   "execution_count": 25,
   "metadata": {},
   "outputs": [
    {
     "name": "stdout",
     "output_type": "stream",
     "text": [
      "236.13199999999998\n",
      "<class 'float'>\n"
     ]
    }
   ],
   "source": [
    "millas = 0.6214\n",
    "millas_2=kilómetros*millas\n",
    "print(millas_2)\n",
    "print(type(millas_2))"
   ]
  },
  {
   "cell_type": "markdown",
   "metadata": {},
   "source": [
    "***d) Imprima un mensaje que le inique al usuario los kilómetros en millas.***"
   ]
  },
  {
   "cell_type": "code",
   "execution_count": 30,
   "metadata": {},
   "outputs": [
    {
     "name": "stdout",
     "output_type": "stream",
     "text": [
      "1 kilómetro equivale a 0.6214 millas.\n",
      "Por lo cual los 380 kilómetros existentes entre Acapulco y la CDMX es igual a 236.13199999999998 millas.\n"
     ]
    }
   ],
   "source": [
    "print('1 kilómetro equivale a 0.6214 millas.')\n",
    "print('Por lo cual los', kilómetros, 'kilómetros existentes entre Acapulco y la CDMX es igual a', millas_2, 'millas.')"
   ]
  },
  {
   "cell_type": "code",
   "execution_count": 32,
   "metadata": {},
   "outputs": [
    {
     "name": "stdout",
     "output_type": "stream",
     "text": [
      "Cada vez que quieras convertir Kilómetros en millas, recuerda multiplicar el valor de los km a convertir por su equivalencia en millas, el cual es 0.6214\n"
     ]
    }
   ],
   "source": [
    "print('Cada vez que quieras convertir Kilómetros en millas, recuerda multiplicar el valor de los km a convertir por su equivalencia en millas, el cual es 0.6214')"
   ]
  },
  {
   "cell_type": "markdown",
   "metadata": {},
   "source": [
    "***Fin de práctica. Tenga un buen día...***"
   ]
  }
 ],
 "metadata": {
  "kernelspec": {
   "display_name": "Python 3",
   "language": "python",
   "name": "python3"
  },
  "language_info": {
   "codemirror_mode": {
    "name": "ipython",
    "version": 3
   },
   "file_extension": ".py",
   "mimetype": "text/x-python",
   "name": "python",
   "nbconvert_exporter": "python",
   "pygments_lexer": "ipython3",
   "version": "3.8.3"
  }
 },
 "nbformat": 4,
 "nbformat_minor": 4
}

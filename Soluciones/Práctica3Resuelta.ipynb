{
 "cells": [
  {
   "cell_type": "markdown",
   "metadata": {},
   "source": [
    "# Práctica 3\n",
    "## Herramientas computacionales\n",
    "### Autores: \n",
    "\n",
    "   * Islas Villamar Fernando Jesus\n",
    "\n",
    "   * Soto Hernández Derek Aníbal\n",
    "\n",
    "   * Vásquez Vieyra Juan Manuel \n"
   ]
  },
  {
   "cell_type": "markdown",
   "metadata": {},
   "source": [
    "# 1. Ciclos (Enteros)"
   ]
  },
  {
   "cell_type": "markdown",
   "metadata": {},
   "source": [
    "Generamos un ciclo de números enteros enrte 0 y 75"
   ]
  },
  {
   "cell_type": "code",
   "execution_count": 6,
   "metadata": {},
   "outputs": [
    {
     "name": "stdout",
     "output_type": "stream",
     "text": [
      "1\n",
      "2\n",
      "3\n",
      "4\n",
      "5\n",
      "6\n",
      "7\n",
      "8\n",
      "9\n",
      "10\n",
      "11\n",
      "12\n",
      "13\n",
      "14\n",
      "15\n",
      "16\n",
      "17\n",
      "18\n",
      "19\n",
      "20\n",
      "21\n",
      "22\n",
      "23\n",
      "24\n",
      "25\n",
      "26\n",
      "27\n",
      "28\n",
      "29\n",
      "30\n",
      "31\n",
      "32\n",
      "33\n",
      "34\n",
      "35\n",
      "36\n",
      "37\n",
      "38\n",
      "39\n",
      "40\n",
      "41\n",
      "42\n",
      "43\n",
      "44\n",
      "45\n",
      "46\n",
      "47\n",
      "48\n",
      "49\n",
      "50\n",
      "51\n",
      "52\n",
      "53\n",
      "54\n",
      "55\n",
      "56\n",
      "57\n",
      "58\n",
      "59\n",
      "60\n",
      "61\n",
      "62\n",
      "63\n",
      "64\n",
      "65\n",
      "66\n",
      "67\n",
      "68\n",
      "69\n",
      "70\n",
      "71\n",
      "72\n",
      "73\n",
      "74\n",
      "75\n"
     ]
    }
   ],
   "source": [
    "Ini = 0\n",
    "n = 75\n",
    "\n",
    "while Ini < n: \n",
    "    \n",
    "    Ini = Ini + 1 #Esta operación marca el incremento de Ini + 1 constantemente\n",
    "\n",
    "    print(Ini)"
   ]
  },
  {
   "cell_type": "markdown",
   "metadata": {},
   "source": [
    "# 2. Ciclos (Pares)"
   ]
  },
  {
   "cell_type": "code",
   "execution_count": 91,
   "metadata": {},
   "outputs": [
    {
     "name": "stdout",
     "output_type": "stream",
     "text": [
      "2\n",
      "4\n",
      "6\n",
      "8\n",
      "10\n",
      "12\n",
      "14\n",
      "16\n",
      "18\n",
      "20\n",
      "22\n",
      "24\n",
      "26\n",
      "28\n",
      "30\n",
      "32\n",
      "34\n",
      "36\n",
      "38\n",
      "40\n",
      "42\n",
      "44\n",
      "46\n",
      "48\n",
      "50\n",
      "52\n",
      "54\n",
      "56\n",
      "58\n",
      "60\n",
      "62\n",
      "64\n",
      "66\n",
      "68\n",
      "70\n",
      "72\n",
      "74\n",
      "76\n"
     ]
    }
   ],
   "source": [
    "V = 0\n",
    "n = 75\n",
    "\n",
    "while V < n:\n",
    "\n",
    "    V = V + 2 #Aquí el incremento se marca en mas 2.\n",
    "   \n",
    "    print(V)"
   ]
  },
  {
   "cell_type": "markdown",
   "metadata": {},
   "source": [
    "# 3. Ciclos (Impares)"
   ]
  },
  {
   "cell_type": "code",
   "execution_count": 145,
   "metadata": {},
   "outputs": [
    {
     "name": "stdout",
     "output_type": "stream",
     "text": [
      "1\n",
      "3\n",
      "5\n",
      "7\n",
      "9\n",
      "11\n",
      "13\n",
      "15\n",
      "17\n",
      "19\n",
      "21\n",
      "23\n",
      "25\n",
      "27\n",
      "29\n",
      "31\n",
      "33\n",
      "35\n",
      "37\n",
      "39\n",
      "41\n",
      "43\n",
      "45\n",
      "47\n",
      "49\n",
      "51\n",
      "53\n",
      "55\n",
      "57\n",
      "59\n",
      "61\n",
      "63\n",
      "65\n",
      "67\n",
      "69\n",
      "71\n",
      "73\n",
      "75\n"
     ]
    }
   ],
   "source": [
    "K = 0\n",
    "n = 75\n",
    "\n",
    "for K in range(0, n + 1): #Determina el rango de la operación.\n",
    "    \n",
    "    if K%2 != 0: #Condicional que cumple que el residuo de la división k/2 es igual a 0.\n",
    "    \n",
    "        print(K)\n",
    "    "
   ]
  },
  {
   "cell_type": "markdown",
   "metadata": {},
   "source": [
    "# 4. Ciclos (Naturales) sin método de Gauss"
   ]
  },
  {
   "cell_type": "code",
   "execution_count": 114,
   "metadata": {},
   "outputs": [
    {
     "name": "stdout",
     "output_type": "stream",
     "text": [
      "La suma de los primeros 75 naturales es : 2850\n"
     ]
    }
   ],
   "source": [
    "Inge = 1\n",
    "n = 75      #las variables que utilizaremos\n",
    "string_inicial = 0\n",
    "\n",
    "while Inge <= n:\n",
    "    string_inicial = string_inicial + Inge   #Mediante estas operaciones permitiremos sumar los valores consecuentes\n",
    "    Inge = Inge + 1\n",
    "\n",
    "print(f'La suma de los primeros {n} naturales es :', string_inicial)   "
   ]
  },
  {
   "cell_type": "markdown",
   "metadata": {},
   "source": [
    "# 5. Sucesión Fibonacci"
   ]
  },
  {
   "cell_type": "code",
   "execution_count": 115,
   "metadata": {},
   "outputs": [],
   "source": [
    "def math_fibo(n): #la función a utilizar para realizar la operación\n",
    "    a,k = 0,1 #variables a utilizar\n",
    "    n_números = 2 #contador\n",
    "    sucesión = [a,k] #las variables a la lista resultante\n",
    "    while n_números < n:\n",
    "        v = a + k\n",
    "        sucesión.append(v) #agrega v a la lista\n",
    "        a,k = k,v\n",
    "        n_números += 1\n",
    "    return sucesión #regresa la variable serie como resultado"
   ]
  },
  {
   "cell_type": "code",
   "execution_count": 113,
   "metadata": {},
   "outputs": [
    {
     "name": "stdout",
     "output_type": "stream",
     "text": [
      "[0, 1, 1, 2, 3, 5, 8, 13, 21, 34, 55, 89, 144, 233, 377] 15\n"
     ]
    }
   ],
   "source": [
    "sucesión = math_fibo(15)\n",
    "print(sucesión, len(sucesión))"
   ]
  },
  {
   "cell_type": "markdown",
   "metadata": {},
   "source": [
    "# 6. Número Primos"
   ]
  },
  {
   "cell_type": "code",
   "execution_count": 155,
   "metadata": {},
   "outputs": [
    {
     "name": "stdout",
     "output_type": "stream",
     "text": [
      "¿5 es primo? True\n"
     ]
    }
   ],
   "source": [
    "n =  5\n",
    "i = 2\n",
    "isprime = True\n",
    "\n",
    "while i < n:\n",
    "    if n%i == 0:\n",
    "        isprime = False\n",
    "        #print(f'{n} no es primo')\n",
    "        break\n",
    "    else:\n",
    "    \n",
    "        i = i + 1\n",
    "    \n",
    "print(f'¿{n} es primo?', isprime)"
   ]
  },
  {
   "cell_type": "code",
   "execution_count": 160,
   "metadata": {},
   "outputs": [],
   "source": [
    "def is_prime(n):\n",
    "    v = 2\n",
    "    isprime = True\n",
    "   \n",
    "    while v < n:\n",
    "        if n%v == 0:  #Condcional que indica que los residuos son 0, por lo tanto son primos.\n",
    "            isprime = False\n",
    "            #print(f'{n} no es primo')\n",
    "            break\n",
    "        else:\n",
    "    \n",
    "            v = v + 1\n",
    "    return isprime"
   ]
  },
  {
   "cell_type": "code",
   "execution_count": 161,
   "metadata": {},
   "outputs": [
    {
     "data": {
      "text/plain": [
       "True"
      ]
     },
     "execution_count": 161,
     "metadata": {},
     "output_type": "execute_result"
    }
   ],
   "source": [
    "is_prime(7)"
   ]
  },
  {
   "cell_type": "code",
   "execution_count": 162,
   "metadata": {},
   "outputs": [
    {
     "data": {
      "text/plain": [
       "False"
      ]
     },
     "execution_count": 162,
     "metadata": {},
     "output_type": "execute_result"
    }
   ],
   "source": [
    "is_prime(6)"
   ]
  },
  {
   "cell_type": "markdown",
   "metadata": {},
   "source": [
    "# 7. Función Prime"
   ]
  },
  {
   "cell_type": "code",
   "execution_count": 166,
   "metadata": {},
   "outputs": [],
   "source": [
    "def primes(n):\n",
    "    \n",
    "    list_primes = []\n",
    "    \n",
    "    for i in range(2, n + 1):\n",
    "        if is_prime(i):\n",
    "            list_primes.append(i) #Delimita la impresión del comando de forma horizontal\n",
    "            \n",
    "    return list_primes"
   ]
  },
  {
   "cell_type": "code",
   "execution_count": 167,
   "metadata": {},
   "outputs": [
    {
     "data": {
      "text/plain": [
       "[2, 3, 5, 7, 11, 13, 17, 19, 23, 29, 31]"
      ]
     },
     "execution_count": 167,
     "metadata": {},
     "output_type": "execute_result"
    }
   ],
   "source": [
    "primes(31)"
   ]
  },
  {
   "cell_type": "markdown",
   "metadata": {},
   "source": [
    "# 8. Asignación de Variable a partir de Prime"
   ]
  },
  {
   "cell_type": "code",
   "execution_count": 148,
   "metadata": {},
   "outputs": [
    {
     "name": "stdout",
     "output_type": "stream",
     "text": [
      "[(1, 3), (3, 5), (5, 7), (11, 13), (17, 19), (29, 31), (41, 43), (59, 61), (71, 73)]\n"
     ]
    }
   ],
   "source": [
    "def es_primo(n):  #Función dada.\n",
    "    list_of_primes = True\n",
    "    for v in range(2,n-1):\n",
    "            if n%v == 0:\n",
    "                list_of_primes = False\n",
    "    return list_of_primes\n",
    "\n",
    "def primes(n):\n",
    "    for v in range(1,n):\n",
    "        if es_primo(v):\n",
    "            yield v #Obtenemos un generador parecido a una lista, los datos se almacenan en una colección.\n",
    "            \n",
    "def twin_cousins(n):\n",
    "    for v in primes(n):\n",
    "        if (es_primo(v+2)):\n",
    "            yield (v,v+2) #este generador le agregamos \"2\".\n",
    "\n",
    "print(list(twin_cousins(79)))"
   ]
  },
  {
   "cell_type": "markdown",
   "metadata": {},
   "source": [
    "# 9. Función my_factorial"
   ]
  },
  {
   "cell_type": "code",
   "execution_count": 181,
   "metadata": {},
   "outputs": [],
   "source": [
    "def la_fact(v):\n",
    "    \n",
    "    n = int(v)\n",
    "    l = 1\n",
    "    \n",
    "    if v < 0:\n",
    "        print(\"No factorial\")\n",
    "    elif v == 0: #\n",
    "        print(\"Si existe factorial en\", v, \"la cual es 1\")\n",
    "    else: \n",
    "        for v in range (1, v + 1):\n",
    "            l *= n #Ecuación que determina la factorial de un valor.\n",
    "            n -= 1 #Periodo que marca la regla de la factorial\n",
    "        \n",
    "        print(\"La factorial del valor:\", v, \"es igual a\", l)"
   ]
  },
  {
   "cell_type": "code",
   "execution_count": 182,
   "metadata": {},
   "outputs": [
    {
     "name": "stdout",
     "output_type": "stream",
     "text": [
      "La factorial del valor: 7 es igual a 5040\n"
     ]
    }
   ],
   "source": [
    "la_fact(7)"
   ]
  },
  {
   "cell_type": "markdown",
   "metadata": {},
   "source": [
    "# 10. Ciclo de cadenas"
   ]
  },
  {
   "cell_type": "code",
   "execution_count": 187,
   "metadata": {},
   "outputs": [
    {
     "name": "stdout",
     "output_type": "stream",
     "text": [
      "Introduzca un numero: 4\n",
      "date-1.txt\n",
      "date-2.txt\n",
      "date-3.txt\n",
      "date-4.txt\n"
     ]
    }
   ],
   "source": [
    "n = input(\"Introduzca un numero: \")\n",
    "n = int(n)\n",
    "a = 'date-'\n",
    "b = '.txt'\n",
    "t = []\n",
    "K = 1\n",
    "\n",
    "while k < n + 1:\n",
    "    print (a +f\"{k}\"+ b) #Impresión que muestra concatenaciones.\n",
    "    \n",
    "    k = k + 1"
   ]
  },
  {
   "cell_type": "code",
   "execution_count": null,
   "metadata": {},
   "outputs": [],
   "source": []
  }
 ],
 "metadata": {
  "kernelspec": {
   "display_name": "Python 3",
   "language": "python",
   "name": "python3"
  },
  "language_info": {
   "codemirror_mode": {
    "name": "ipython",
    "version": 3
   },
   "file_extension": ".py",
   "mimetype": "text/x-python",
   "name": "python",
   "nbconvert_exporter": "python",
   "pygments_lexer": "ipython3",
   "version": "3.8.3"
  }
 },
 "nbformat": 4,
 "nbformat_minor": 4
}

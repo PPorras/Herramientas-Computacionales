{
 "cells": [
  {
   "cell_type": "markdown",
   "metadata": {},
   "source": [
    "# Práctica No. 6\n",
    "\n",
    "González Ramírez María del Carmen\n",
    "**GH: mariegonzalez**\n",
    "\n",
    "\n",
    "Orozco Pérez Clara Paula\n",
    "**GH: claraorozco**\n",
    "\n",
    "\n",
    "Rojano Ávila Cinthya Susana\n",
    "**GH: SusyRojano**\n",
    "\n",
    "___"
   ]
  },
  {
   "cell_type": "markdown",
   "metadata": {},
   "source": [
    "# 1. Genere coordenadas igualmente espaciadas. "
   ]
  },
  {
   "cell_type": "markdown",
   "metadata": {},
   "source": [
    "* Queremos generar coordenadas $x$ entre $1$ y $2$ con espaciado $0.01$. La coordenada i-ésima, $x_i$, es entonces $1 + ih$ donde $h = 0.01$ e $i$ se ejecuta sobre los enteros $0,1, \\dots, 100$. Calcule los valores $x_i$ y guárdelos en una lista. Sugerencia: use un ciclo `for` o `while` y agregue cada nuevo valor $x_i$ a una lista, que inicialmente está vacía. Nombre de la función se debe llama `coor1()`."
   ]
  },
  {
   "cell_type": "code",
   "execution_count": 1,
   "metadata": {},
   "outputs": [],
   "source": [
    "def coor1(): #definimos la función\n",
    "    \n",
    "    h = 0.01 #le damos valor a la variable h\n",
    "    xi = [] #atribuimos una lista vacía a xi\n",
    "    i = 0 #inicia el contador en 0\n",
    "    \n",
    "    while i < 100.01: #ponemos la condición, mientas i sea mejor a 100.01...\n",
    "        coor = 1 + i*h #realiza la operación y se asigna a la variable coor\n",
    "        xi.append(coor) #se apenda coor a la lista\n",
    "        i += 1\n",
    "    \n",
    "    return xi #la función regresa la lista\n"
   ]
  },
  {
   "cell_type": "code",
   "execution_count": 2,
   "metadata": {},
   "outputs": [
    {
     "data": {
      "text/plain": [
       "[1.0,\n",
       " 1.01,\n",
       " 1.02,\n",
       " 1.03,\n",
       " 1.04,\n",
       " 1.05,\n",
       " 1.06,\n",
       " 1.07,\n",
       " 1.08,\n",
       " 1.09,\n",
       " 1.1,\n",
       " 1.11,\n",
       " 1.12,\n",
       " 1.13,\n",
       " 1.1400000000000001,\n",
       " 1.15,\n",
       " 1.16,\n",
       " 1.17,\n",
       " 1.18,\n",
       " 1.19,\n",
       " 1.2,\n",
       " 1.21,\n",
       " 1.22,\n",
       " 1.23,\n",
       " 1.24,\n",
       " 1.25,\n",
       " 1.26,\n",
       " 1.27,\n",
       " 1.28,\n",
       " 1.29,\n",
       " 1.3,\n",
       " 1.31,\n",
       " 1.32,\n",
       " 1.33,\n",
       " 1.34,\n",
       " 1.35,\n",
       " 1.3599999999999999,\n",
       " 1.37,\n",
       " 1.38,\n",
       " 1.3900000000000001,\n",
       " 1.4,\n",
       " 1.4100000000000001,\n",
       " 1.42,\n",
       " 1.43,\n",
       " 1.44,\n",
       " 1.45,\n",
       " 1.46,\n",
       " 1.47,\n",
       " 1.48,\n",
       " 1.49,\n",
       " 1.5,\n",
       " 1.51,\n",
       " 1.52,\n",
       " 1.53,\n",
       " 1.54,\n",
       " 1.55,\n",
       " 1.56,\n",
       " 1.57,\n",
       " 1.58,\n",
       " 1.5899999999999999,\n",
       " 1.6,\n",
       " 1.6099999999999999,\n",
       " 1.62,\n",
       " 1.63,\n",
       " 1.6400000000000001,\n",
       " 1.65,\n",
       " 1.6600000000000001,\n",
       " 1.67,\n",
       " 1.6800000000000002,\n",
       " 1.69,\n",
       " 1.7000000000000002,\n",
       " 1.71,\n",
       " 1.72,\n",
       " 1.73,\n",
       " 1.74,\n",
       " 1.75,\n",
       " 1.76,\n",
       " 1.77,\n",
       " 1.78,\n",
       " 1.79,\n",
       " 1.8,\n",
       " 1.81,\n",
       " 1.82,\n",
       " 1.83,\n",
       " 1.8399999999999999,\n",
       " 1.85,\n",
       " 1.8599999999999999,\n",
       " 1.87,\n",
       " 1.88,\n",
       " 1.8900000000000001,\n",
       " 1.9,\n",
       " 1.9100000000000001,\n",
       " 1.92,\n",
       " 1.9300000000000002,\n",
       " 1.94,\n",
       " 1.9500000000000002,\n",
       " 1.96,\n",
       " 1.97,\n",
       " 1.98,\n",
       " 1.99,\n",
       " 2.0]"
      ]
     },
     "execution_count": 2,
     "metadata": {},
     "output_type": "execute_result"
    }
   ],
   "source": [
    "coor1()"
   ]
  },
  {
   "cell_type": "markdown",
   "metadata": {},
   "source": [
    "* El problema es el mismo que en el inciso anterior, pero ahora queremos que los valores $x_i$ se almacenen en una lista usando una construcción de comprensión de listas. El nombre de la función debe de ser `coor2()`."
   ]
  },
  {
   "cell_type": "code",
   "execution_count": 3,
   "metadata": {},
   "outputs": [],
   "source": [
    "def coor2(): #definimos la función\n",
    "    \n",
    "    h = 0.01 #le asignamos un valor a la variable h\n",
    "    xi = [1 + i*h for i in range (0, 101)] #atribuimos una lista a xi y usando una construcción de comprensión\n",
    "                                            #se realiza la operación con valores dentro del rango\n",
    "    \n",
    "    return xi #la función regresa la lista\n"
   ]
  },
  {
   "cell_type": "code",
   "execution_count": 4,
   "metadata": {},
   "outputs": [
    {
     "data": {
      "text/plain": [
       "[1.0,\n",
       " 1.01,\n",
       " 1.02,\n",
       " 1.03,\n",
       " 1.04,\n",
       " 1.05,\n",
       " 1.06,\n",
       " 1.07,\n",
       " 1.08,\n",
       " 1.09,\n",
       " 1.1,\n",
       " 1.11,\n",
       " 1.12,\n",
       " 1.13,\n",
       " 1.1400000000000001,\n",
       " 1.15,\n",
       " 1.16,\n",
       " 1.17,\n",
       " 1.18,\n",
       " 1.19,\n",
       " 1.2,\n",
       " 1.21,\n",
       " 1.22,\n",
       " 1.23,\n",
       " 1.24,\n",
       " 1.25,\n",
       " 1.26,\n",
       " 1.27,\n",
       " 1.28,\n",
       " 1.29,\n",
       " 1.3,\n",
       " 1.31,\n",
       " 1.32,\n",
       " 1.33,\n",
       " 1.34,\n",
       " 1.35,\n",
       " 1.3599999999999999,\n",
       " 1.37,\n",
       " 1.38,\n",
       " 1.3900000000000001,\n",
       " 1.4,\n",
       " 1.4100000000000001,\n",
       " 1.42,\n",
       " 1.43,\n",
       " 1.44,\n",
       " 1.45,\n",
       " 1.46,\n",
       " 1.47,\n",
       " 1.48,\n",
       " 1.49,\n",
       " 1.5,\n",
       " 1.51,\n",
       " 1.52,\n",
       " 1.53,\n",
       " 1.54,\n",
       " 1.55,\n",
       " 1.56,\n",
       " 1.57,\n",
       " 1.58,\n",
       " 1.5899999999999999,\n",
       " 1.6,\n",
       " 1.6099999999999999,\n",
       " 1.62,\n",
       " 1.63,\n",
       " 1.6400000000000001,\n",
       " 1.65,\n",
       " 1.6600000000000001,\n",
       " 1.67,\n",
       " 1.6800000000000002,\n",
       " 1.69,\n",
       " 1.7000000000000002,\n",
       " 1.71,\n",
       " 1.72,\n",
       " 1.73,\n",
       " 1.74,\n",
       " 1.75,\n",
       " 1.76,\n",
       " 1.77,\n",
       " 1.78,\n",
       " 1.79,\n",
       " 1.8,\n",
       " 1.81,\n",
       " 1.82,\n",
       " 1.83,\n",
       " 1.8399999999999999,\n",
       " 1.85,\n",
       " 1.8599999999999999,\n",
       " 1.87,\n",
       " 1.88,\n",
       " 1.8900000000000001,\n",
       " 1.9,\n",
       " 1.9100000000000001,\n",
       " 1.92,\n",
       " 1.9300000000000002,\n",
       " 1.94,\n",
       " 1.9500000000000002,\n",
       " 1.96,\n",
       " 1.97,\n",
       " 1.98,\n",
       " 1.99,\n",
       " 2.0]"
      ]
     },
     "execution_count": 4,
     "metadata": {},
     "output_type": "execute_result"
    }
   ],
   "source": [
    "coor2()"
   ]
  },
  {
   "cell_type": "markdown",
   "metadata": {},
   "source": [
    "# 2. Error Absoluto y relativo "
   ]
  },
  {
   "cell_type": "markdown",
   "metadata": {},
   "source": [
    "* Escriba una función que se llame `abs_error(f, faprox ,x)` que reciba una función `f` de Python que representa una función matemática $f(x)$ y la aproximación númerica de la función en el punto $x$. La función debe de regresa el [error absoluto ](https://mathworld.wolfram.com/AbsoluteError.html) de la aproximación de la función $f(x)$.\n",
    "\n",
    "* Escriba una función que se llame `rel_error(f, faprox ,x)` que reciba una función `f` de Python que representa una función matemática $f(x)$ y la aproximación númerica de la función en el punto $x$. La función debe de regresa el [error relativo](https://mathworld.wolfram.com/RelativeError.html) de la aproximación de la función $f(x)$.\n",
    "\n",
    "\n",
    "Ejemplo de esto se muestra a continuación"
   ]
  },
  {
   "cell_type": "code",
   "execution_count": 5,
   "metadata": {},
   "outputs": [],
   "source": [
    "import numpy as np #importamos con un alias"
   ]
  },
  {
   "cell_type": "code",
   "execution_count": 6,
   "metadata": {},
   "outputs": [],
   "source": [
    "def my_factorial(n): #definimos la función\n",
    "    i = 1 #inicia el contador en 1\n",
    "    aux = 1 #ocupamos un auxiliar que comienza en 1\n",
    "    while i < n: #ponemos la condición, mientras el contador sea menor a n...\n",
    "        i +=1 #se actualiza el contador más 1\n",
    "        aux = aux*i #se actualiza el auxiliar multiplicándolo por el contador\n",
    "        \n",
    "   \n",
    "    return aux #la función regresa el auxiliar"
   ]
  },
  {
   "cell_type": "code",
   "execution_count": 7,
   "metadata": {},
   "outputs": [],
   "source": [
    "def abs_error(f, faprox, x): #definimos la función con tres parámetros\n",
    "    \n",
    "    error = abs(f(x) - faprox(x)) #asignamos la operación a una variable\n",
    "    \n",
    "    return error #la función regresa el resultado de la operación"
   ]
  },
  {
   "cell_type": "code",
   "execution_count": 8,
   "metadata": {},
   "outputs": [],
   "source": [
    "def rel_error(f, faprox, x): #definimos la función con tres parámetros\n",
    "    \n",
    "    error = (abs(f(x) - faprox(x)))/f(x) #asignamos la operación a una variable\n",
    "    \n",
    "    return error #la función regresa el resultado de la operación"
   ]
  },
  {
   "cell_type": "code",
   "execution_count": 9,
   "metadata": {},
   "outputs": [],
   "source": [
    "def my_sin(x, n = 2): #definimos la función con un parámetro y un argumento\n",
    "    \n",
    "    k = 0 #inicia el contador en 0\n",
    "    aux = 0 #hacemos uso de un auxiliar que comienza en 0\n",
    "    while k < n: #ponemos la condición, mientras el contador sea menor a 1...\n",
    "        aux = aux + (((-1)**k)*(x**(2*k + 1)))/my_factorial(2*k + 1) #actualizamos el contador con la operación\n",
    "        k += 1 #se actualiza el contador más 1\n",
    "    return aux #la función regresa el auxiliar"
   ]
  },
  {
   "cell_type": "code",
   "execution_count": 10,
   "metadata": {},
   "outputs": [
    {
     "data": {
      "text/plain": [
       "0.0024541299773800374"
      ]
     },
     "execution_count": 10,
     "metadata": {},
     "output_type": "execute_result"
    }
   ],
   "source": [
    "abs_error(np.sin, my_sin, np.pi/4)"
   ]
  },
  {
   "cell_type": "code",
   "execution_count": 11,
   "metadata": {},
   "outputs": [
    {
     "data": {
      "text/plain": [
       "0.0034706638978372257"
      ]
     },
     "execution_count": 11,
     "metadata": {},
     "output_type": "execute_result"
    }
   ],
   "source": [
    "rel_error(np.sin, my_sin, np.pi/4)"
   ]
  },
  {
   "cell_type": "markdown",
   "metadata": {},
   "source": [
    "# 3. Una función para la derivada numérica."
   ]
  },
  {
   "cell_type": "markdown",
   "metadata": {},
   "source": [
    "La fórmula $$f'(x) = \\dfrac{f(x + h) - f(x - h)}{2h}$$\n",
    "\n",
    "se puede usar para encontrar una derivada aproximada de una función matemática $f(x)$ si $h$ es pequeña. Escriba una función `diff(f, x, h = 1E-6)` que devuelva la aproximación de la derivada de una función matemática representada por una función de Python `f(x)`.\n",
    "Use la ecuación anterior para calcular una aproximación de la derivada de la función  $f(x) = e^x$ en $x = 0$, $f(x) = e^{− 2x^2}$ en $x = 0$, $\\cos{x}$ en $x = 2\\pi$ y $f(x) = \\ln{x}$ en $x = 1$. Use $h = 0.01$. En cada caso, escriba el error, es decir, la diferencia entre la derivada exacta y el resultado de la fórmula $f'(x) = \\dfrac{f(x + h) - f(x - h)}{2h}$."
   ]
  },
  {
   "cell_type": "code",
   "execution_count": 12,
   "metadata": {},
   "outputs": [],
   "source": [
    "def diff(f, x, h = 1E-6): #definimos la función para calcular la derivada\n",
    "        \n",
    "    df = (f(x + h) - f(x - h))/(2*h) #definmos una variable y le asigamos el valor para calcular la derivada de una función\n",
    "    \n",
    "    return df #nos regresa la variable anterior de la función  "
   ]
  },
  {
   "cell_type": "code",
   "execution_count": 13,
   "metadata": {},
   "outputs": [],
   "source": [
    "def error_abs(f, faprox): #definimos la función para error absoluto \n",
    "    \n",
    "    error = abs(f - faprox) #asignamos una variable para calcular el error absoluto \n",
    "    \n",
    "    return error#nos regresa el error "
   ]
  },
  {
   "cell_type": "markdown",
   "metadata": {},
   "source": [
    "* $f(x) = e^x$ en $x = 0$"
   ]
  },
  {
   "cell_type": "code",
   "execution_count": 14,
   "metadata": {},
   "outputs": [
    {
     "data": {
      "text/plain": [
       "1.0000166667499921"
      ]
     },
     "execution_count": 14,
     "metadata": {},
     "output_type": "execute_result"
    }
   ],
   "source": [
    "func1 = lambda x: np.exp(x) #le asignamos un valor a x para la primer función solicitada\n",
    "diff(func1, x = 0, h = 0.01) #aplicamos la función definida anteriormente para la fución 1"
   ]
  },
  {
   "cell_type": "code",
   "execution_count": 15,
   "metadata": {},
   "outputs": [],
   "source": [
    "def dfexp(x): #se define la función para la exponencial\n",
    "    \n",
    "    df = np.exp(x) #le asignamos una variable para la derivada de la exponencial \n",
    "    \n",
    "    return df #nos regresa la derivada de la función anterior "
   ]
  },
  {
   "cell_type": "code",
   "execution_count": 16,
   "metadata": {},
   "outputs": [
    {
     "data": {
      "text/plain": [
       "1.6666749992122476e-05"
      ]
     },
     "execution_count": 16,
     "metadata": {},
     "output_type": "execute_result"
    }
   ],
   "source": [
    "error_abs(dfexp(0), diff(func1, x = 0, h = 0.01))"
   ]
  },
  {
   "cell_type": "markdown",
   "metadata": {},
   "source": [
    "* $f(x) = e^{− 2x^2}$ en $x = 0$"
   ]
  },
  {
   "cell_type": "code",
   "execution_count": 17,
   "metadata": {},
   "outputs": [
    {
     "data": {
      "text/plain": [
       "0.0"
      ]
     },
     "execution_count": 17,
     "metadata": {},
     "output_type": "execute_result"
    }
   ],
   "source": [
    "func2 = lambda x: np.exp(-2*x**2) #damos valor a x para la segunda función solicitada\n",
    "diff(func2, x = 0, h = 0.01) #aplicamos la función definaida anteriormente para la fución 2 "
   ]
  },
  {
   "cell_type": "code",
   "execution_count": 18,
   "metadata": {},
   "outputs": [],
   "source": [
    "def dfexp2(x): #se define la función para la de exponencial \n",
    "    \n",
    "    df = -4*x*np.exp(-2*x**2) #le asignamos una variable a df para calcular la derivada de la función solicitada de la exponencial  \n",
    "    \n",
    "    return df #nos regresa la derivada de la fucnión anterior "
   ]
  },
  {
   "cell_type": "code",
   "execution_count": 19,
   "metadata": {},
   "outputs": [
    {
     "data": {
      "text/plain": [
       "0.0"
      ]
     },
     "execution_count": 19,
     "metadata": {},
     "output_type": "execute_result"
    }
   ],
   "source": [
    "error_abs(dfexp2(0), diff(func2, x = 0, h = 0.01))"
   ]
  },
  {
   "cell_type": "markdown",
   "metadata": {},
   "source": [
    "* $f(x) = \\cos{x}$ en $x = 2\\pi$"
   ]
  },
  {
   "cell_type": "code",
   "execution_count": 20,
   "metadata": {},
   "outputs": [
    {
     "data": {
      "text/plain": [
       "0.0"
      ]
     },
     "execution_count": 20,
     "metadata": {},
     "output_type": "execute_result"
    }
   ],
   "source": [
    "func3 = lambda x: np.cos(x) #le damos valor a x para la tercer función solicitada\n",
    "diff(func3, x = 2*np.pi, h = 0.01) #aplicamos la función definida anteriormente para la fución 3"
   ]
  },
  {
   "cell_type": "code",
   "execution_count": 21,
   "metadata": {},
   "outputs": [],
   "source": [
    "def dfcos(x): #definimos la función para coseno \n",
    "    \n",
    "    df = -np.sin(x) #le asignamos una variable df para el cálculo de la derivada de cos\n",
    "    \n",
    "    return df #nos regresa el resultado de la derivada de la función anterior "
   ]
  },
  {
   "cell_type": "code",
   "execution_count": 22,
   "metadata": {},
   "outputs": [
    {
     "data": {
      "text/plain": [
       "2.4492935982947064e-16"
      ]
     },
     "execution_count": 22,
     "metadata": {},
     "output_type": "execute_result"
    }
   ],
   "source": [
    "error_abs(dfcos(2*np.pi), diff(func3, x = 2*np.pi, h = 0.01))"
   ]
  },
  {
   "cell_type": "markdown",
   "metadata": {},
   "source": [
    "* $f(x) = \\ln{x}$ en $x = 1$"
   ]
  },
  {
   "cell_type": "code",
   "execution_count": 23,
   "metadata": {},
   "outputs": [
    {
     "data": {
      "text/plain": [
       "1.0000333353334772"
      ]
     },
     "execution_count": 23,
     "metadata": {},
     "output_type": "execute_result"
    }
   ],
   "source": [
    "func4 = lambda x: np.log(x) #asignamos un valor a x para la cuarta función solicitada\n",
    "diff(func4, x = 1, h = 0.01) #aplicamos la función definida anteriormente para la función 4"
   ]
  },
  {
   "cell_type": "code",
   "execution_count": 24,
   "metadata": {},
   "outputs": [],
   "source": [
    "def dfln(u, dx): #definimos una dunción para el logaritmo natural\n",
    "    \n",
    "    df = (dx/u) #definimos una variable para el cálculo de la derivada de logaritmo natural \n",
    "    \n",
    "    return df #regresa el resultado de la erivada de la función anterior "
   ]
  },
  {
   "cell_type": "code",
   "execution_count": 25,
   "metadata": {},
   "outputs": [
    {
     "data": {
      "text/plain": [
       "3.3335333477158e-05"
      ]
     },
     "execution_count": 25,
     "metadata": {},
     "output_type": "execute_result"
    }
   ],
   "source": [
    "error_abs(dfln(1, 1), diff(func4, x = 1, h = 0.01))"
   ]
  },
  {
   "cell_type": "markdown",
   "metadata": {},
   "source": [
    "# 4. Una función para la integral numérica."
   ]
  },
  {
   "cell_type": "markdown",
   "metadata": {},
   "source": [
    "Una aproximación a la integral de una función $f(x)$ en un intervalo $[a, b]$ se puede encontrar aproximando primero $f(x)$ por la recta que pasa por los puntos finales $(a, f (a))$ y $(b , f (b))$, y luego encontrar el área debajo de la línea recta (que es el área de un trapezoide). La fórmula resultante se convierte en:\n",
    "\n",
    "$$\\displaystyle \\int_{a}^{b} f(x) \\, dx \\approx \\dfrac{b-a}{2}\\left( f(a) + f(b) \\right)$$\n",
    "\n",
    "Escribe una función `integrate(f, a, b)` que devuelva esta aproximación a la integral. El argument `f` es una función de Python `f`  de la función matemática $f(x)$. Calcule las siguientes integrales $\\int_{0}^{ln(3)} e^x \\, dx$, $\\int_{0}^{\\pi} \\cos{x} \\, dx$ , $\\int_{0}^{\\pi} \\sin{x} \\, dx$ y $\\int_{0}^{\\frac{\\pi}{2}} \\sin{x} \\, dx$. En el caso de 0000, calcule el el error, es decir, la diferencia entre la integral exacta y la aproximación. Realice una gráfica  para cada integral a fin de comprender cómo se comporta el método en los diferentes casos."
   ]
  },
  {
   "cell_type": "code",
   "execution_count": 26,
   "metadata": {},
   "outputs": [],
   "source": [
    "import matplotlib.pyplot as plt #Importamos matplotlib para hacer las gráficas más adelante"
   ]
  },
  {
   "cell_type": "code",
   "execution_count": 27,
   "metadata": {},
   "outputs": [],
   "source": [
    "def graf_trap(f, a, b): #definimos la función graf_trap, a la que se le asignarán los valores f (la función), a y b (los parámetros)\n",
    "    \n",
    "    x = np.linspace(a, b) #le brindamos a x el espacio para graficar, que será desde a hasta b\n",
    "    m = (f(b) - f(a))/(b - a)  #le brindamos valor a m\n",
    "    y = lambda x: m*(x - a) + f(a) #le brindamos a y valor\n",
    "    \n",
    "    plt.plot(x, f(x), color = 'springgreen') # pedimos que grafique x con su y(x)\n",
    "    plt.plot(x, y(x), color = 'seagreen') #graficamos la función\n",
    "    plt.plot((a, a), (0, f(a)), color = 'seagreen') #Graficamos desde la primera coordenada mencionada hasta la segunda\n",
    "    plt.plot((b, b), (0, f(b)), color = 'seagreen')#Graficamos desde la primera coordenada mencionada hasta la segunda\n",
    "    plt.plot((a, a), (b, b), color = 'seagreen')#Graficamos desde la primera coordenada mencionada hasta la segunda\n",
    "    plt.plot(x, np.zeros(len(x)), color = 'seagreen') #Colocamos una línea en el eje de las x\n",
    "    plt.grid()\n",
    "    plt.show()\n",
    "    "
   ]
  },
  {
   "cell_type": "code",
   "execution_count": 28,
   "metadata": {},
   "outputs": [],
   "source": [
    "def integrate(f, a, b):# definimos la finción integrate\n",
    "    \n",
    "    integral = ((b - a)/2)*(f(a) + f(b)) #La función tomará f, que será la función, a y b, como parámetros y calculará la integral\n",
    "    \n",
    "    return integral #nos regresa la integral.\n",
    "    "
   ]
  },
  {
   "cell_type": "markdown",
   "metadata": {},
   "source": [
    "* $\\int_{0}^{ln(3)} e^x \\, dx$"
   ]
  },
  {
   "cell_type": "code",
   "execution_count": 29,
   "metadata": {},
   "outputs": [
    {
     "data": {
      "text/plain": [
       "2.1972245773362196"
      ]
     },
     "execution_count": 29,
     "metadata": {},
     "output_type": "execute_result"
    }
   ],
   "source": [
    "func1 = lambda x: np.exp(x) # le damos el valor de la exponencial a la func1\n",
    "integrate(func1, a = 0, b = np.log(3)) # llamamos a la función integrate para integrar func1"
   ]
  },
  {
   "cell_type": "code",
   "execution_count": 30,
   "metadata": {},
   "outputs": [],
   "source": [
    "def intexp(a, b): #definimos la función intexp, a la cual se le deben dar a y b\n",
    "\n",
    "    integral = np.exp(b) - np.exp(a) # pedimos que se reste la exp de b menos la exp de a\n",
    "    \n",
    "    return integral #nos regresa ia resta"
   ]
  },
  {
   "cell_type": "code",
   "execution_count": 31,
   "metadata": {},
   "outputs": [
    {
     "data": {
      "text/plain": [
       "0.19722457733621912"
      ]
     },
     "execution_count": 31,
     "metadata": {},
     "output_type": "execute_result"
    }
   ],
   "source": [
    "error_abs(intexp(0, np.log(3)), integrate(func1, a = 0, b = np.log(3)))#llamamos a la función error_abs para calcular el error entre la integral y nuestro cálculo"
   ]
  },
  {
   "cell_type": "code",
   "execution_count": 32,
   "metadata": {},
   "outputs": [
    {
     "data": {
      "image/png": "[encoded data removed]",
      "text/plain": [
       "<Figure size 432x288 with 1 Axes>"
      ]
     },
     "metadata": {
      "needs_background": "light"
     },
     "output_type": "display_data"
    }
   ],
   "source": [
    "graf_trap(np.exp, 0, np.log(3)) #graficamos con la función ya explicada la integral de exp"
   ]
  },
  {
   "cell_type": "markdown",
   "metadata": {},
   "source": [
    "* $\\int_{0}^{\\pi} \\cos{x} \\, dx$"
   ]
  },
  {
   "cell_type": "code",
   "execution_count": 33,
   "metadata": {},
   "outputs": [
    {
     "data": {
      "text/plain": [
       "0.0"
      ]
     },
     "execution_count": 33,
     "metadata": {},
     "output_type": "execute_result"
    }
   ],
   "source": [
    "func2 = lambda x: np.cos(x) #asignamos un valor a x para la segunda función solicitada\n",
    "integrate(func2, a = 0, b = np.pi) #calculamos la integral de la func2 con parámetros de 0 a pi"
   ]
  },
  {
   "cell_type": "code",
   "execution_count": 34,
   "metadata": {},
   "outputs": [],
   "source": [
    "def intcos(a, b): #definimos la finción intcos\n",
    "    \n",
    "    integral = np.sin(b) - np.sin(a) # pedimos que se reste el seno de b menos el seno de a\n",
    "    \n",
    "    return integral #nos regresa ia resta"
   ]
  },
  {
   "cell_type": "code",
   "execution_count": 35,
   "metadata": {},
   "outputs": [
    {
     "data": {
      "text/plain": [
       "0.21460183660255172"
      ]
     },
     "execution_count": 35,
     "metadata": {},
     "output_type": "execute_result"
    }
   ],
   "source": [
    "error_abs(intcos(0, np.pi/2), integrate(func2, a = 0, b = np.pi/2))#llamamos a la función error_abs para calcular el error entre la integral y nuestro cálculo"
   ]
  },
  {
   "cell_type": "code",
   "execution_count": 36,
   "metadata": {},
   "outputs": [
    {
     "data": {
      "image/png": "[encoded data removed]",
      "text/plain": [
       "<Figure size 432x288 with 1 Axes>"
      ]
     },
     "metadata": {
      "needs_background": "light"
     },
     "output_type": "display_data"
    }
   ],
   "source": [
    "graf_trap(np.cos, 0, np.pi) #graficamos con la función ya explicada la integral del coseno"
   ]
  },
  {
   "cell_type": "markdown",
   "metadata": {},
   "source": [
    "* $\\int_{0}^{\\pi} \\sin{x} \\, dx$"
   ]
  },
  {
   "cell_type": "code",
   "execution_count": 37,
   "metadata": {},
   "outputs": [
    {
     "data": {
      "text/plain": [
       "1.9236706937217898e-16"
      ]
     },
     "execution_count": 37,
     "metadata": {},
     "output_type": "execute_result"
    }
   ],
   "source": [
    "func3 = lambda x: np.sin(x) #asignamos un valor a x para la tercera función solicitada\n",
    "integrate(func3, a = 0, b = np.pi)#calculamos la integral de la func2 con parámetros de 0 a pi"
   ]
  },
  {
   "cell_type": "code",
   "execution_count": 38,
   "metadata": {},
   "outputs": [],
   "source": [
    "def intsin(a, b):#definimos la finción intsin\n",
    "    \n",
    "    integral = - np.cos(b) + np.cos(a) # pedimos que se sume el -cos de b mas el coseno de a\n",
    "    \n",
    "    return integral #nos regresa ia suma"
   ]
  },
  {
   "cell_type": "code",
   "execution_count": 39,
   "metadata": {},
   "outputs": [
    {
     "data": {
      "text/plain": [
       "1.9999999999999998"
      ]
     },
     "execution_count": 39,
     "metadata": {},
     "output_type": "execute_result"
    }
   ],
   "source": [
    "error_abs(intsin(0, np.pi), integrate(func3, a = 0, b = np.pi))#llamamos a la función error_abs para calcular el error entre la integral y nuestro cálculo"
   ]
  },
  {
   "cell_type": "code",
   "execution_count": 40,
   "metadata": {},
   "outputs": [
    {
     "data": {
      "image/png": "[encoded data removed]",
      "text/plain": [
       "<Figure size 432x288 with 1 Axes>"
      ]
     },
     "metadata": {
      "needs_background": "light"
     },
     "output_type": "display_data"
    }
   ],
   "source": [
    "graf_trap(np.sin, 0, np.pi) #graficamos con la función ya explicada la integral del seno"
   ]
  },
  {
   "cell_type": "markdown",
   "metadata": {},
   "source": [
    "* $\\int_{0}^{\\frac{\\pi}{2}} \\sin{x} \\, dx$"
   ]
  },
  {
   "cell_type": "code",
   "execution_count": 41,
   "metadata": {},
   "outputs": [
    {
     "data": {
      "text/plain": [
       "0.7853981633974483"
      ]
     },
     "execution_count": 41,
     "metadata": {},
     "output_type": "execute_result"
    }
   ],
   "source": [
    "func4 = lambda x: np.sin(x)#asignamos un valor a x para la cuarta función solicitada\n",
    "integrate(func4, a = 0, b = np.pi/2) #calculamos la integral de la func2 con parámetros de 0 a pi"
   ]
  },
  {
   "cell_type": "code",
   "execution_count": 42,
   "metadata": {},
   "outputs": [
    {
     "data": {
      "text/plain": [
       "0.2146018366025516"
      ]
     },
     "execution_count": 42,
     "metadata": {},
     "output_type": "execute_result"
    }
   ],
   "source": [
    "error_abs(intsin(0, np.pi/2), integrate(func4, a = 0, b = np.pi/2))#llamamos a la función error_abs para calcular el error entre la integral y nuestro cálculo"
   ]
  },
  {
   "cell_type": "code",
   "execution_count": 43,
   "metadata": {},
   "outputs": [
    {
     "data": {
      "image/png": "[encoded data removed]",
      "text/plain": [
       "<Figure size 432x288 with 1 Axes>"
      ]
     },
     "metadata": {
      "needs_background": "light"
     },
     "output_type": "display_data"
    }
   ],
   "source": [
    "graf_trap(np.sin, 0, np.pi/2) #graficamos con la función ya explicada la integral del seno"
   ]
  },
  {
   "cell_type": "markdown",
   "metadata": {},
   "source": [
    "# 5. ¿Es primo? usando recursión\n",
    "\n",
    "Implemte mediante recursión una función cuyo nombre sea `is_prime()` que regrese `True` si el número es primo o `False` si el número no es primo."
   ]
  },
  {
   "cell_type": "code",
   "execution_count": 44,
   "metadata": {},
   "outputs": [],
   "source": [
    "def is_prime(n, i = 2): #definimos la función\n",
    "\n",
    "    while i <= n: #condicionamos que el contador sea menor o igual que n\n",
    "        if n == i: #si n es igual al contador...\n",
    "            isprime = True #la variable isprime es True\n",
    "            break #se rompe el ciclo\n",
    "            \n",
    "        elif n%i == 0: #si el residuo de la división n/i es igual a 0...\n",
    "            isprime = False #la variable isprime es False\n",
    "            break #se rompe el ciclo\n",
    "            \n",
    "        else: #si no se cumplen las condiciones...\n",
    "            isprime = is_prime(n, i + 1) #se llama a la recursión y se asigna a la variable isprime\n",
    "            break #se rompe el ciclo\n",
    "    \n",
    "    return isprime #la función regresa la variable isprime"
   ]
  },
  {
   "cell_type": "code",
   "execution_count": 45,
   "metadata": {},
   "outputs": [
    {
     "data": {
      "text/plain": [
       "False"
      ]
     },
     "execution_count": 45,
     "metadata": {},
     "output_type": "execute_result"
    }
   ],
   "source": [
    "is_prime(27)"
   ]
  }
 ],
 "metadata": {
  "kernelspec": {
   "display_name": "Python 3",
   "language": "python",
   "name": "python3"
  },
  "language_info": {
   "codemirror_mode": {
    "name": "ipython",
    "version": 3
   },
   "file_extension": ".py",
   "mimetype": "text/x-python",
   "name": "python",
   "nbconvert_exporter": "python",
   "pygments_lexer": "ipython3",
   "version": "3.8.3"
  }
 },
 "nbformat": 4,
 "nbformat_minor": 4
}

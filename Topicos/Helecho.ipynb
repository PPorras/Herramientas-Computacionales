{
 "cells": [
  {
   "cell_type": "markdown",
   "metadata": {},
   "source": [
    "# El helecho de Barsnsley"
   ]
  },
  {
   "cell_type": "markdown",
   "metadata": {},
   "source": [
    "El helecho de Barsnsley es el resultado de iterar la siguiente función\n",
    "\n",
    "\\begin{equation}\n",
    "   F(x,y)=\\begin{pmatrix} \n",
    "a & b \\\\\n",
    "c & d \n",
    "\\end{pmatrix}\n",
    "\\begin{pmatrix} \n",
    "x  \\\\\n",
    "y  \n",
    "\\end{pmatrix} + \\begin{pmatrix} \n",
    "e \\\\\n",
    "f\n",
    "\\end{pmatrix}\n",
    "\\end{equation}\n",
    "\n",
    "La cual está definida por casos, y estos dependen de un probalidad $p$\n",
    " \n",
    "| $a$ | $b$ |  $c$ | $d$ | $e$ | $f$ |  $p$  |\n",
    "|-----|:---:|-----:|-----|:---:|----:|------:|\n",
    "|  0  |  0  |   0  | 0.16|  0  |  0  |  $0.01$ |\n",
    "| 0.85| 0.04| -0.04| 0.85|  0  | 1.60|$[0.02,0.86)$|\n",
    "| 0.20|-0.26| 0.23 | 0.22|  0  | 1.60|$[0.87,0.93)$|\n",
    "|-0.15| 0.28| 0.26 | 0.24|  0  | 0.44|$[0.94,1.00]$|"
   ]
  },
  {
   "cell_type": "markdown",
   "metadata": {},
   "source": [
    "Usando el objeto ```matrix``` de ```numpy``` defina una función llamada ```F(lista1, lista2)``` que reciba justo dos argumentos, el primer debe ser una lista con los variables $x$ y $y$. Y el segundo argumento debe ser una seguda lista con los coeficientes ($a, b, \\dots , e$).\n",
    "\n",
    "La funcion ```F()``` debe de convertir las repesctivas entradas para que se puedan realizar las repectivas operaciones de matrices."
   ]
  },
  {
   "cell_type": "code",
   "execution_count": null,
   "metadata": {},
   "outputs": [],
   "source": [
    "import numpy as np"
   ]
  },
  {
   "cell_type": "code",
   "execution_count": null,
   "metadata": {},
   "outputs": [],
   "source": [
    "R = np.array([1, 2, 3, 4, 5, 6])"
   ]
  },
  {
   "cell_type": "code",
   "execution_count": null,
   "metadata": {},
   "outputs": [],
   "source": [
    "A = np.matrix(R[:4].reshape(2, 2))"
   ]
  },
  {
   "cell_type": "code",
   "execution_count": null,
   "metadata": {},
   "outputs": [],
   "source": [
    "A"
   ]
  },
  {
   "cell_type": "code",
   "execution_count": null,
   "metadata": {},
   "outputs": [],
   "source": [
    "V = np.matrix(R[4:].reshape(2,1))"
   ]
  },
  {
   "cell_type": "code",
   "execution_count": null,
   "metadata": {},
   "outputs": [],
   "source": [
    "V"
   ]
  },
  {
   "cell_type": "code",
   "execution_count": null,
   "metadata": {},
   "outputs": [],
   "source": [
    "A*V"
   ]
  },
  {
   "cell_type": "code",
   "execution_count": null,
   "metadata": {},
   "outputs": [],
   "source": [
    "def F(lista1, lista2):\n",
    "    \"\"\"lista1 es de la forma array([x, y])\n",
    "       lista2 es de la forma array([a,b,c,d,e,f])\"\"\"\n",
    "    \n",
    "    X = np.matrix(lista1.reshape(2,1))\n",
    "    M = np.matrix(lista2[:4].reshape(2, 2))\n",
    "    V = np.matrix(lista2[4:].reshape(2,1))\n",
    "    \n",
    "    return M*X + V"
   ]
  },
  {
   "cell_type": "code",
   "execution_count": null,
   "metadata": {},
   "outputs": [],
   "source": [
    "F(np.array([1, 0]), np.array([1, 2, 3, 4, 5, 6]))"
   ]
  },
  {
   "cell_type": "markdown",
   "metadata": {},
   "source": [
    "Codifique una segunda función llamada ```volado(n)``` de tal manera que asigne los repectivo valores de los coeficientes para casa valor de $p$. "
   ]
  },
  {
   "cell_type": "code",
   "execution_count": null,
   "metadata": {},
   "outputs": [],
   "source": [
    "np.zeros(6)"
   ]
  },
  {
   "cell_type": "code",
   "execution_count": null,
   "metadata": {},
   "outputs": [],
   "source": [
    "def volado():\n",
    "    \n",
    "    coef = np.zeros(6)\n",
    "    p = np.random.rand()\n",
    "    #print(p)\n",
    "    #p = 0.005\n",
    "    \n",
    "    if 0.0 <= p < 0.02:\n",
    "        coef[3] = 0.16\n",
    "    \n",
    "    elif 0.02 <= p < 0.87:\n",
    "        coef[0], coef[1], coef[2], coef[3], coef[5] = 0.85, 0.04, -0.04, 0.85, 1.6\n",
    "       \n",
    "    elif 0.87 <= p < 0.94:\n",
    "        coef[0], coef[1], coef[2], coef[3], coef[5] = 0.2, -0.26, 0.23, 0.22, 1.6#print(coef)\n",
    "    \n",
    "    else:\n",
    "        coef[0], coef[1], coef[2], coef[3], coef[5] = -0.15, 0.28, 0.26, 0.24, 0.44\n",
    "    \n",
    "    return coef"
   ]
  },
  {
   "cell_type": "code",
   "execution_count": null,
   "metadata": {},
   "outputs": [],
   "source": [
    "volado()"
   ]
  },
  {
   "cell_type": "markdown",
   "metadata": {},
   "source": [
    "Por último para generar el helecho, defina una función ```Barsnsley(n)``` que reciba el número de iteraciones $n$ y regrese dos lista con salidas de la función $F(x,y)$. También tome en cuenta los siguiente:\n",
    "\n",
    "* La primer iteración debe de recibir como entrada de $F(x,y)$ el punto $x=0$ y $y=0$.\n",
    "* En cada iteración de debe generar los coefientes de manera aleatoria, usando la función ```volado(n)```, es decir ```n``` debe ser un numero aleatorio. Para generar números aleatorios puede importar ```randint``` de la paquetería ramdom ```from random import randint``` o usar ```np.random.rand()``` de numpy"
   ]
  },
  {
   "cell_type": "code",
   "execution_count": null,
   "metadata": {},
   "outputs": [],
   "source": [
    "np.zeros(5)"
   ]
  },
  {
   "cell_type": "code",
   "execution_count": null,
   "metadata": {},
   "outputs": [],
   "source": [
    "def Barsnsley(n):\n",
    "    \n",
    "    #file = open(\"Barsnsley\", \"w\")\n",
    "    #file.close()\n",
    "    \n",
    "    i = 0\n",
    "    seed = np.array([0, 0])\n",
    "    outx = np.zeros(n)\n",
    "    outy = np.zeros(n)\n",
    "    \n",
    "    while i < n:\n",
    "        \n",
    "        coef = volado()\n",
    "        seed = F(seed, coef)\n",
    "        outx[i] = seed[0]\n",
    "        outy[i] = seed[1]\n",
    "        #file = open(\"Barsnsley\", \"w\")\n",
    "        #file.close()\n",
    "        i = i + 1\n",
    "        \n",
    "    return outx, outy"
   ]
  },
  {
   "cell_type": "code",
   "execution_count": null,
   "metadata": {},
   "outputs": [],
   "source": [
    "xs, ys = Barsnsley(200_000)"
   ]
  },
  {
   "cell_type": "markdown",
   "metadata": {},
   "source": [
    "Ahora grafique las salidas de ```Barsnsley``` (xs,ys) para ello importe ```import matplotlib.pyplot as plt``` y grafique usando.\n",
    "```plt.scatter(xs, ys, s = 0.2, edgecolor ='green')```\n",
    "\n",
    "El resultado tiene que la siguiente imagen"
   ]
  },
  {
   "cell_type": "code",
   "execution_count": null,
   "metadata": {},
   "outputs": [],
   "source": [
    "import matplotlib.pyplot as plt"
   ]
  },
  {
   "cell_type": "code",
   "execution_count": null,
   "metadata": {},
   "outputs": [],
   "source": [
    "plt.scatter(xs, ys, s = 0.1, edgecolor ='green')\n",
    "#plt.scatter(xs, ys, marker =  ',', color = \"g\")"
   ]
  },
  {
   "cell_type": "markdown",
   "metadata": {},
   "source": [
    "¿Qué pasa si ahora usa los siguientes parametros?\n",
    " \n",
    "| $a$ | $b$ |  $c$ | $d$ |  $e$ | $f$ |  $p$  |\n",
    "|-----|:---:|-----:|-----|:----:|----:|------:|\n",
    "|  0  |  0  |   0  | 0.25|  0   |-0.4 |$[0.00,0.02]$|\n",
    "| 0.95|0.005|-0.005| 0.93|-0.002| 0.5 |$[0.03,0.85]$|\n",
    "|0.035| -0.2| 0.16 | 0.04| -0.09| 0.02|$[0.86,0.93]$|\n",
    "|-0.04| 0.2 | 0.16 | 0.04|-0.083| 0.12|$[0.94,1.00]$|"
   ]
  },
  {
   "cell_type": "code",
   "execution_count": null,
   "metadata": {},
   "outputs": [],
   "source": []
  },
  {
   "cell_type": "markdown",
   "metadata": {},
   "source": [
    "Ahora modifique la función ```Barsnsley(n)``` tal que los datos generados se guarden en una Barsnsley.txt. \n",
    "\n",
    "Define una funcíon ```rotation(theta, vector)``` tal que rote un vector $\\vec{v}$ por un ángulo $\\theta$. Recordemos que las matrices de rotación son de la forma:\n",
    "\n",
    "$$ R(\\theta) = \\begin{pmatrix} \n",
    "\\cos(\\theta) & -\\sin(\\theta) \\\\\n",
    "\\sin(\\theta) & \\cos(\\theta)\n",
    "\\end{pmatrix}$$\n",
    "\n",
    "$$R(\\theta)\\vec{v} = \\begin{pmatrix} \n",
    "\\cos(\\theta) & -\\sin(\\theta) \\\\\n",
    "\\sin(\\theta) & \\cos(\\theta)\n",
    "\\end{pmatrix} \\begin{pmatrix} \n",
    "x \\\\\n",
    "y\n",
    "\\end{pmatrix}= \\begin{pmatrix} \n",
    "x\\cos(\\theta) -y\\sin(\\theta) \\\\\n",
    "x\\sin(\\theta) + y\\cos(\\theta) \n",
    "\\end{pmatrix}$$"
   ]
  },
  {
   "cell_type": "code",
   "execution_count": null,
   "metadata": {},
   "outputs": [],
   "source": [
    "theta = np.pi/2"
   ]
  },
  {
   "cell_type": "code",
   "execution_count": null,
   "metadata": {},
   "outputs": [],
   "source": []
  },
  {
   "cell_type": "code",
   "execution_count": null,
   "metadata": {},
   "outputs": [],
   "source": [
    "X = np.matrix"
   ]
  },
  {
   "cell_type": "code",
   "execution_count": null,
   "metadata": {},
   "outputs": [],
   "source": [
    "def rotation(theta, vector):\n",
    "    R = np.matrix(np.array([np.cos(theta), -np.sin(theta), np.sin(theta),np.cos(theta)]).reshape(2,2))\n",
    "    X = np.matrix(vector.reshape(2,1))\n",
    "    \n",
    "    RX = R*X\n",
    "    \n",
    "    return RX[0], RX[1]"
   ]
  },
  {
   "cell_type": "code",
   "execution_count": null,
   "metadata": {},
   "outputs": [],
   "source": [
    "rx, ry = rotation(np.pi, np.array([0, 1]))"
   ]
  },
  {
   "cell_type": "code",
   "execution_count": null,
   "metadata": {},
   "outputs": [],
   "source": [
    "print(rx, ry)"
   ]
  },
  {
   "cell_type": "markdown",
   "metadata": {},
   "source": [
    "Ahora sí, por último implemente una función que le aplique una rotación por una ángulo $\\theta$ a cada elemneto de Barsnsley.txt y grafique el resultado."
   ]
  },
  {
   "cell_type": "code",
   "execution_count": null,
   "metadata": {},
   "outputs": [],
   "source": [
    "rx = zeros(n)\n",
    "ry = "
   ]
  },
  {
   "cell_type": "code",
   "execution_count": null,
   "metadata": {},
   "outputs": [],
   "source": []
  }
 ],
 "metadata": {
  "kernelspec": {
   "display_name": "Python 3",
   "language": "python",
   "name": "python3"
  },
  "language_info": {
   "codemirror_mode": {
    "name": "ipython",
    "version": 3
   },
   "file_extension": ".py",
   "mimetype": "text/x-python",
   "name": "python",
   "nbconvert_exporter": "python",
   "pygments_lexer": "ipython3",
   "version": "3.6.5"
  }
 },
 "nbformat": 4,
 "nbformat_minor": 2
}

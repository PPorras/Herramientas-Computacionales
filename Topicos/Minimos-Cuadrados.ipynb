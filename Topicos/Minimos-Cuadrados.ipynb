{
 "cells": [
  {
   "cell_type": "markdown",
   "metadata": {},
   "source": [
    "## Estadística simple"
   ]
  },
  {
   "cell_type": "markdown",
   "metadata": {},
   "source": [
    "###### Escriba una función que reciba una secuencia de datos y los almace en archivo que se llame data-aaaa-mm-dd-time-hh:mm:ss.txt "
   ]
  },
  {
   "cell_type": "markdown",
   "metadata": {},
   "source": [
    "Una manera de introducir la fecha y la hora es con la siguiente biblioteca"
   ]
  },
  {
   "cell_type": "code",
   "execution_count": null,
   "metadata": {},
   "outputs": [],
   "source": [
    "from datetime import datetime\n",
    "now = datetime.now()"
   ]
  },
  {
   "cell_type": "code",
   "execution_count": null,
   "metadata": {},
   "outputs": [],
   "source": [
    "print(\"The year is \", now.year)\n",
    "print(\"The  month is \", now.month)\n",
    "print(\"The  day is \",now.day)\n",
    "print(\"The hour is \", now.hour)\n",
    "print(\"The minute is \", now.minute)\n",
    "print(\"The second is \", now.second)\n",
    "print(\"The microsecond is \",now.microsecond)"
   ]
  },
  {
   "cell_type": "code",
   "execution_count": null,
   "metadata": {},
   "outputs": [],
   "source": [
    "print(type(str(now.date())))\n",
    "print(now.time())"
   ]
  },
  {
   "cell_type": "code",
   "execution_count": null,
   "metadata": {},
   "outputs": [],
   "source": [
    "file = open(file_name, \"w\")\n",
    "file.close()"
   ]
  },
  {
   "cell_type": "code",
   "execution_count": null,
   "metadata": {},
   "outputs": [],
   "source": [
    "file_name = \"date-\"+ str(now.date())+ \"-time-\"+str(now.time())[:9] + \"txt\"\n",
    "\n",
    "file = open(file_name, \"w\")\n",
    "file.close()\n",
    "\n",
    "print(\"Ingrese los datos y para terminar pulse enter\")\n",
    "\n",
    "while True:\n",
    "    \n",
    "    datos = input()\n",
    "    \n",
    "    if len(datos) > 0:\n",
    "        file = open(file_name, \"a\")\n",
    "        file.write(datos + \"\\n\")\n",
    "        file.close()\n",
    "        \n",
    "    elif len(datos) == 0:\n",
    "        break"
   ]
  },
  {
   "cell_type": "code",
   "execution_count": null,
   "metadata": {},
   "outputs": [],
   "source": [
    "n = input(\"Ingrese los datos\")\n",
    "print(len(n))"
   ]
  },
  {
   "cell_type": "code",
   "execution_count": null,
   "metadata": {},
   "outputs": [],
   "source": [
    "name = f'date-{now.date()}-{now.time()}'\n",
    "name = name.replace('.', ':') + \".txt\"\n",
    "file = open(name, \"w\")\n",
    "file.close()\n",
    "\n",
    "stop = True\n",
    "\n",
    "while stop:\n",
    "    \n",
    "    n = input(\"Ingrese los datos\")\n",
    "    \n",
    "    if len(n) != 0:\n",
    "        file = open(name, 'a')\n",
    "        file.write(n + '\\n')\n",
    "        file.close()\n",
    "    elif len(n) == 0:\n",
    "        break\n",
    "        "
   ]
  },
  {
   "cell_type": "markdown",
   "metadata": {},
   "source": [
    "###### Escriba una función `average()` calcule la media de una serie de datos. \n",
    "\n",
    "Recordemos que la media se define como: $\\overline{y} = \\dfrac{ \\sum_{i=0}^n y_i}{n}$"
   ]
  },
  {
   "cell_type": "code",
   "execution_count": null,
   "metadata": {},
   "outputs": [],
   "source": [
    "import numpy as np"
   ]
  },
  {
   "cell_type": "code",
   "execution_count": null,
   "metadata": {},
   "outputs": [],
   "source": [
    "datos = np.array([10, 10, 10, 10, 10, 10, 10, 10, 10, 10])"
   ]
  },
  {
   "cell_type": "code",
   "execution_count": null,
   "metadata": {},
   "outputs": [],
   "source": [
    "def average(data):\n",
    "    \n",
    "    suma = 0\n",
    "    \n",
    "    for i in data:\n",
    "        suma = suma + i\n",
    "    \n",
    "    promedio = suma/len(data)\n",
    "    \n",
    "    return promedio       "
   ]
  },
  {
   "cell_type": "code",
   "execution_count": null,
   "metadata": {},
   "outputs": [],
   "source": [
    "average(datos)"
   ]
  },
  {
   "cell_type": "markdown",
   "metadata": {},
   "source": [
    "###### Escriba una función `standard_deviation()` que calcule la desviación estándar de una serie de datos. \n",
    "\n",
    "La desviación estándar se define: $S_y = \\sqrt{\\dfrac{\\sum_{i=0}^n(y_i - \\overline{y})^2}{n-1}}$"
   ]
  },
  {
   "cell_type": "code",
   "execution_count": null,
   "metadata": {},
   "outputs": [],
   "source": []
  },
  {
   "cell_type": "code",
   "execution_count": null,
   "metadata": {},
   "outputs": [],
   "source": [
    "def standard_deviation(data):\n",
    "    \n",
    "    promedio = average(data)\n",
    "    suma = 0\n",
    "    \n",
    "    for i in data:\n",
    "        suma = suma + (i - promedio)**2\n",
    "    \n",
    "    aux = (suma)/(len(data) - 1)\n",
    "    estandar = np.sqrt(aux)\n",
    "    \n",
    "    return estandar\n",
    "    "
   ]
  },
  {
   "cell_type": "code",
   "execution_count": null,
   "metadata": {},
   "outputs": [],
   "source": [
    "datos"
   ]
  },
  {
   "cell_type": "code",
   "execution_count": null,
   "metadata": {},
   "outputs": [],
   "source": [
    "standard_deviation(datos)"
   ]
  },
  {
   "cell_type": "markdown",
   "metadata": {},
   "source": [
    "###### Defina una función que se llame `variance()` que calcule la varianza a parti de la de desviación estándar.\n",
    "\n",
    "$\\sigma = S_y^2$"
   ]
  },
  {
   "cell_type": "code",
   "execution_count": null,
   "metadata": {},
   "outputs": [],
   "source": []
  },
  {
   "cell_type": "markdown",
   "metadata": {},
   "source": [
    "###### Escriba una función que se llame `coefficient_of_variation()`\n",
    "$c.v = \\dfrac{S_y}{\\overline{y}}100\\%$"
   ]
  },
  {
   "cell_type": "code",
   "execution_count": null,
   "metadata": {},
   "outputs": [],
   "source": []
  },
  {
   "cell_type": "markdown",
   "metadata": {},
   "source": [
    "###### Escriba una función que se llame `statistical_data()`, que abra un archivo  de datos.txt. En la segunda columna de poner el valor $y_i - \\overline{y}$  para cada $i$ y al final del archivo de estar el promedio y la desviación estándar."
   ]
  },
  {
   "cell_type": "code",
   "execution_count": null,
   "metadata": {},
   "outputs": [],
   "source": [
    "    "
   ]
  },
  {
   "cell_type": "markdown",
   "metadata": {},
   "source": [
    "###### Usando las funciones anteriores y los siguientes datos los datos los siguientes datos: \n",
    "\n",
    "8.8, 9.4, 10.0, 9.8, 10.1, 9.5, 9.8, 10.1, 9.2, 10.4, 7.9, 9.5, 8.9, 9.5, 9.6, 9.4, 10.0, 11.3, 9.4, 10.4, 9.8, 8.8, 10.6, 10.2, 8.9, 28.65, 26.55, 26.65, 27.65, 27.35, 28.35, 26.85, 28.65, 29.65, 27.85, 27.05, 28.25, 28.35, 26.75, 27.65, 28.45, 28.65, 28.45, 31.65, 26.35, 27.75, 29.25, 27.65, 28.65, 27.65, 28.55, 27.55, 27.25.\n",
    "\n",
    "Determine:\n",
    "* La media. \n",
    "* La desviación estándar. \n",
    "* La varianza. \n",
    "* El coeficiente de variación. "
   ]
  },
  {
   "cell_type": "markdown",
   "metadata": {},
   "source": [
    "## Regresión Lineal"
   ]
  },
  {
   "cell_type": "markdown",
   "metadata": {},
   "source": [
    "El ejemplo más simple de una aproximación por mínimos cuadrados es ajutar una línea recta a un conjunto de observaciones definidas por puntos: $(x_1, y_1), (x_2, y_2),\\dots, (x_n, y_n)$. La expresión matemática para la línea recta es: $$y = a_0 + a_1x + e$$\n",
    "\n",
    "Donde $a_0$ y $a_1$ son coeficientes que representan la intersección con el eje y y la pendiente, respectivamente, $e$ es el error, o diferencia, entre el modelo y las observaciones, el cual se representa al reordenar como: $$e = y - a_0 - a_1x$$\n",
    "\n",
    "Así, el error o residuo es la discrepancia entre el valor verdadero de y y el valor aproximado, $a_0 + a_1x$, que predijo la ecuación lineal.\n",
    "\n",
    "Se recomendienda al lector leer las notas *Regresión-lineal.pdf* ponga principal atención en el ejemplo 17.1, para tener una mejor idea del método."
   ]
  },
  {
   "cell_type": "markdown",
   "metadata": {},
   "source": [
    "###  Ajuste de una línea recta por mínimos cuadrados "
   ]
  },
  {
   "cell_type": "markdown",
   "metadata": {},
   "source": [
    "Para determinar los valores de $a_0$ y $a_1$ se hace mediante las ecuaciones normales en forma simultanea:\n",
    "\n",
    "\n",
    "$$a_1 = \\dfrac{n\\sum_{i=1}^n x_i y_i - \\sum x_i \\sum y_i }{n\\sum x_i^2 - \\left(\\sum x_i \\right)^2}$$\n",
    "\n",
    "$$a_0 = \\overline{y} - a_1\\overline{x}$$"
   ]
  },
  {
   "cell_type": "markdown",
   "metadata": {},
   "source": [
    "###### Defina una función `coeffs()` que calcule los coeficientes $a_1$ y $a_0$.  "
   ]
  },
  {
   "cell_type": "code",
   "execution_count": null,
   "metadata": {},
   "outputs": [],
   "source": [
    "import numpy as np"
   ]
  },
  {
   "cell_type": "code",
   "execution_count": null,
   "metadata": {},
   "outputs": [],
   "source": [
    "data = np.array([[4, 1490], [8,1320], [12, 1000], [20, 560], [24, 560]])"
   ]
  },
  {
   "cell_type": "code",
   "execution_count": null,
   "metadata": {},
   "outputs": [],
   "source": [
    "data[:,1]"
   ]
  },
  {
   "cell_type": "code",
   "execution_count": null,
   "metadata": {},
   "outputs": [],
   "source": [
    "data[1][1]"
   ]
  },
  {
   "cell_type": "code",
   "execution_count": null,
   "metadata": {},
   "outputs": [],
   "source": [
    "def coeffs(datos):\n",
    "    \n",
    "    n = len(datos)\n",
    "    \n",
    "    suma_xy = 0\n",
    "    for i in range(0, n):\n",
    "        suma_xy = suma_xy + (datos[i][0])*(datos[i][1])\n",
    "    \n",
    "    suma_x = 0\n",
    "    for i in range(0, n):\n",
    "        suma_x = suma_x + datos[i][0]\n",
    "        \n",
    "    suma_y = 0\n",
    "    for i in range(0, n):\n",
    "        suma_y = suma_y + datos[i][1]\n",
    "    \n",
    "    suma_x2 = 0\n",
    "    for i in range(0, n):\n",
    "        suma_x2 = suma_x2 + datos[i][0]**2    \n",
    "       \n",
    "    a1 = (n*suma_xy - suma_x*suma_y)/(n*suma_x2 - suma_x**2) \n",
    "    \n",
    "    a0 = average(datos[:,1]) - a1*average(datos[:,0])\n",
    "    \n",
    "    return a0, a1"
   ]
  },
  {
   "cell_type": "code",
   "execution_count": null,
   "metadata": {},
   "outputs": [],
   "source": [
    "a0, a1 = coeffs(data)"
   ]
  },
  {
   "cell_type": "code",
   "execution_count": null,
   "metadata": {},
   "outputs": [],
   "source": [
    "a0"
   ]
  },
  {
   "cell_type": "code",
   "execution_count": null,
   "metadata": {},
   "outputs": [],
   "source": [
    "import matplotlib.pyplot as plt"
   ]
  },
  {
   "cell_type": "code",
   "execution_count": null,
   "metadata": {},
   "outputs": [],
   "source": [
    "def lineal(a0, a1, x):\n",
    "    y = a0 + x*a1\n",
    "    return y"
   ]
  },
  {
   "cell_type": "code",
   "execution_count": null,
   "metadata": {},
   "outputs": [],
   "source": [
    "lineal(a0, a1, 32)"
   ]
  },
  {
   "cell_type": "code",
   "execution_count": null,
   "metadata": {},
   "outputs": [],
   "source": [
    "xrecta = np.linspace(0, 25, 10)\n",
    "print(xrecta)"
   ]
  },
  {
   "cell_type": "code",
   "execution_count": null,
   "metadata": {},
   "outputs": [],
   "source": [
    "yrecta = lineal(a0, a1, xrecta)"
   ]
  },
  {
   "cell_type": "code",
   "execution_count": null,
   "metadata": {},
   "outputs": [],
   "source": [
    "yrecta"
   ]
  },
  {
   "cell_type": "code",
   "execution_count": null,
   "metadata": {},
   "outputs": [],
   "source": [
    "plt.scatter(data[:,0], data[:,1])\n",
    "plt.plot(xrecta , yrecta , color='r')"
   ]
  },
  {
   "cell_type": "code",
   "execution_count": null,
   "metadata": {},
   "outputs": [],
   "source": [
    "coeffs(data)"
   ]
  },
  {
   "cell_type": "code",
   "execution_count": null,
   "metadata": {},
   "outputs": [],
   "source": []
  },
  {
   "cell_type": "markdown",
   "metadata": {},
   "source": [
    "A la siguiente expresión se le conoce como *cociente de correlación* En un ajuste perfecto, r = 1, significa que la línea explica el 100% de la variabilidad de los datos. Si r = 0,  el ajuste no representa alguna mejora:\n",
    "\n",
    "$$r = \\dfrac{n\\sum x_i y_i - \\sum x_i \\sum y_i }{\\sqrt{n\\sum x_i^2 - \\left(\\sum x_i \\right)^2}\\sqrt{n\\sum y_i^2 - \\left(\\sum y_i \\right)^2}}$$\n",
    " "
   ]
  },
  {
   "cell_type": "markdown",
   "metadata": {},
   "source": [
    "###### Defina una función `correlation()` que calcule el coeficiente de correlación para un conjunto de datos. "
   ]
  },
  {
   "cell_type": "code",
   "execution_count": null,
   "metadata": {},
   "outputs": [],
   "source": []
  },
  {
   "cell_type": "markdown",
   "metadata": {},
   "source": [
    "#### Escriba una función que se llame `least_square()`, que reciba el nombre de un archivo donde tomará los datos, calule la aproximación lineal, el coeficiente de correlación y grafique los datos y la aproximación."
   ]
  },
  {
   "cell_type": "code",
   "execution_count": null,
   "metadata": {},
   "outputs": [],
   "source": []
  },
  {
   "cell_type": "markdown",
   "metadata": {},
   "source": [
    "Después de una tormenta, se vigila la concentración de la bacteria E. coli en un área de natación:\n",
    "\n",
    "|   t(hrs)   |  4 |  8 | 12 | 16 | 20 | 24 |\n",
    "|------------|----|----|----|----|----|----|\n",
    "|c(CFU/100mL)|1590|1320|1000| 900| 560| 560|\n",
    "\n",
    "\n",
    "El tiempo se mide en horas transcurridas después de finalizar la tormenta, y la unidad CFU es una “unidad de formación de colonia”. Use los datos y la regresión por minímos cuadrados para estimar\n",
    "\n",
    "* La concentración al final de la tormenta (t = 0).\n",
    "* El tiempo en el que la concentración alcanzará 200 CFU / 100 mL. Observe que la elección del modelo debe ser consistente con el hecho de que las concentraciones negativas son imposibles y de que la concentración de bacterias siempre disminuye con el tiempo."
   ]
  },
  {
   "cell_type": "code",
   "execution_count": null,
   "metadata": {},
   "outputs": [],
   "source": []
  }
 ],
 "metadata": {
  "kernelspec": {
   "display_name": "Python 3",
   "language": "python",
   "name": "python3"
  },
  "language_info": {
   "codemirror_mode": {
    "name": "ipython",
    "version": 3
   },
   "file_extension": ".py",
   "mimetype": "text/x-python",
   "name": "python",
   "nbconvert_exporter": "python",
   "pygments_lexer": "ipython3",
   "version": "3.6.5"
  }
 },
 "nbformat": 4,
 "nbformat_minor": 4
}
